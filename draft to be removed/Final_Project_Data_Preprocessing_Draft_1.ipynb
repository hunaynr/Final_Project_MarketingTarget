{
 "cells": [
  {
   "cell_type": "code",
   "execution_count": 1,
   "id": "5131d6be",
   "metadata": {},
   "outputs": [
    {
     "data": {
      "text/html": [
       "<div>\n",
       "<style scoped>\n",
       "    .dataframe tbody tr th:only-of-type {\n",
       "        vertical-align: middle;\n",
       "    }\n",
       "\n",
       "    .dataframe tbody tr th {\n",
       "        vertical-align: top;\n",
       "    }\n",
       "\n",
       "    .dataframe thead th {\n",
       "        text-align: right;\n",
       "    }\n",
       "</style>\n",
       "<table border=\"1\" class=\"dataframe\">\n",
       "  <thead>\n",
       "    <tr style=\"text-align: right;\">\n",
       "      <th></th>\n",
       "      <th>age</th>\n",
       "      <th>job</th>\n",
       "      <th>marital</th>\n",
       "      <th>education</th>\n",
       "      <th>default</th>\n",
       "      <th>balance</th>\n",
       "      <th>housing</th>\n",
       "      <th>loan</th>\n",
       "      <th>contact</th>\n",
       "      <th>day</th>\n",
       "      <th>month</th>\n",
       "      <th>duration</th>\n",
       "      <th>campaign</th>\n",
       "      <th>pdays</th>\n",
       "      <th>previous</th>\n",
       "      <th>poutcome</th>\n",
       "      <th>y</th>\n",
       "    </tr>\n",
       "  </thead>\n",
       "  <tbody>\n",
       "    <tr>\n",
       "      <th>8966</th>\n",
       "      <td>35</td>\n",
       "      <td>self-employed</td>\n",
       "      <td>married</td>\n",
       "      <td>tertiary</td>\n",
       "      <td>no</td>\n",
       "      <td>182</td>\n",
       "      <td>no</td>\n",
       "      <td>yes</td>\n",
       "      <td>unknown</td>\n",
       "      <td>5</td>\n",
       "      <td>jun</td>\n",
       "      <td>379</td>\n",
       "      <td>1</td>\n",
       "      <td>-1</td>\n",
       "      <td>0</td>\n",
       "      <td>unknown</td>\n",
       "      <td>no</td>\n",
       "    </tr>\n",
       "    <tr>\n",
       "      <th>6671</th>\n",
       "      <td>24</td>\n",
       "      <td>blue-collar</td>\n",
       "      <td>married</td>\n",
       "      <td>secondary</td>\n",
       "      <td>no</td>\n",
       "      <td>0</td>\n",
       "      <td>no</td>\n",
       "      <td>no</td>\n",
       "      <td>unknown</td>\n",
       "      <td>28</td>\n",
       "      <td>may</td>\n",
       "      <td>94</td>\n",
       "      <td>1</td>\n",
       "      <td>-1</td>\n",
       "      <td>0</td>\n",
       "      <td>unknown</td>\n",
       "      <td>no</td>\n",
       "    </tr>\n",
       "    <tr>\n",
       "      <th>5156</th>\n",
       "      <td>26</td>\n",
       "      <td>management</td>\n",
       "      <td>single</td>\n",
       "      <td>tertiary</td>\n",
       "      <td>no</td>\n",
       "      <td>1284</td>\n",
       "      <td>yes</td>\n",
       "      <td>no</td>\n",
       "      <td>unknown</td>\n",
       "      <td>21</td>\n",
       "      <td>may</td>\n",
       "      <td>97</td>\n",
       "      <td>8</td>\n",
       "      <td>-1</td>\n",
       "      <td>0</td>\n",
       "      <td>unknown</td>\n",
       "      <td>no</td>\n",
       "    </tr>\n",
       "    <tr>\n",
       "      <th>8841</th>\n",
       "      <td>27</td>\n",
       "      <td>admin.</td>\n",
       "      <td>married</td>\n",
       "      <td>secondary</td>\n",
       "      <td>no</td>\n",
       "      <td>-247</td>\n",
       "      <td>yes</td>\n",
       "      <td>yes</td>\n",
       "      <td>unknown</td>\n",
       "      <td>4</td>\n",
       "      <td>jun</td>\n",
       "      <td>344</td>\n",
       "      <td>2</td>\n",
       "      <td>-1</td>\n",
       "      <td>0</td>\n",
       "      <td>unknown</td>\n",
       "      <td>no</td>\n",
       "    </tr>\n",
       "    <tr>\n",
       "      <th>23129</th>\n",
       "      <td>31</td>\n",
       "      <td>management</td>\n",
       "      <td>single</td>\n",
       "      <td>tertiary</td>\n",
       "      <td>no</td>\n",
       "      <td>1</td>\n",
       "      <td>no</td>\n",
       "      <td>no</td>\n",
       "      <td>cellular</td>\n",
       "      <td>26</td>\n",
       "      <td>aug</td>\n",
       "      <td>107</td>\n",
       "      <td>5</td>\n",
       "      <td>-1</td>\n",
       "      <td>0</td>\n",
       "      <td>unknown</td>\n",
       "      <td>no</td>\n",
       "    </tr>\n",
       "  </tbody>\n",
       "</table>\n",
       "</div>"
      ],
      "text/plain": [
       "       age            job  marital  education default  balance housing loan  \\\n",
       "8966    35  self-employed  married   tertiary      no      182      no  yes   \n",
       "6671    24    blue-collar  married  secondary      no        0      no   no   \n",
       "5156    26     management   single   tertiary      no     1284     yes   no   \n",
       "8841    27         admin.  married  secondary      no     -247     yes  yes   \n",
       "23129   31     management   single   tertiary      no        1      no   no   \n",
       "\n",
       "        contact  day month  duration  campaign  pdays  previous poutcome   y  \n",
       "8966    unknown    5   jun       379         1     -1         0  unknown  no  \n",
       "6671    unknown   28   may        94         1     -1         0  unknown  no  \n",
       "5156    unknown   21   may        97         8     -1         0  unknown  no  \n",
       "8841    unknown    4   jun       344         2     -1         0  unknown  no  \n",
       "23129  cellular   26   aug       107         5     -1         0  unknown  no  "
      ]
     },
     "execution_count": 1,
     "metadata": {},
     "output_type": "execute_result"
    }
   ],
   "source": [
    "import warnings\n",
    "warnings.filterwarnings('ignore')\n",
    "\n",
    "import numpy as np\n",
    "import pandas as pd\n",
    "import seaborn as sns\n",
    "import matplotlib.pyplot as plt\n",
    "import math\n",
    "\n",
    "df = pd.read_csv('train.csv', sep = ';')\n",
    "df.sample(5)"
   ]
  },
  {
   "cell_type": "code",
   "execution_count": 2,
   "id": "e78ae4c3",
   "metadata": {},
   "outputs": [
    {
     "data": {
      "text/plain": [
       "(Index(['job', 'marital', 'education', 'default', 'housing', 'loan', 'contact',\n",
       "        'month', 'poutcome', 'y'],\n",
       "       dtype='object'),\n",
       " Index(['age', 'balance', 'day', 'duration', 'campaign', 'pdays', 'previous'], dtype='object'))"
      ]
     },
     "execution_count": 2,
     "metadata": {},
     "output_type": "execute_result"
    }
   ],
   "source": [
    "cats = df.select_dtypes(include = ['object']).columns\n",
    "nums = df.select_dtypes(include = ['int64', 'float64']).columns\n",
    "\n",
    "cats, nums"
   ]
  },
  {
   "cell_type": "code",
   "execution_count": 440,
   "id": "51b4a542",
   "metadata": {},
   "outputs": [
    {
     "name": "stdout",
     "output_type": "stream",
     "text": [
      "balance contains 3766 negative values\n",
      "pdays contains 36954 negative values\n"
     ]
    }
   ],
   "source": [
    "for i in nums:\n",
    "    if (df[i] < 0).any():\n",
    "        print(f'{i} contains {len(df[df[i] < 0])} negative values')"
   ]
  },
  {
   "cell_type": "code",
   "execution_count": 441,
   "id": "afaefaad",
   "metadata": {},
   "outputs": [
    {
     "name": "stdout",
     "output_type": "stream",
     "text": [
      "Before removing outlier: 45211\n",
      "After removing outlier: 40482\n"
     ]
    }
   ],
   "source": [
    "print(f'Before removing outlier: {len(df)}')\n",
    "\n",
    "filtered_entries = np.array([True] * len(df))\n",
    "for col in ['balance']:\n",
    "    Q1 = df[col].quantile(0.25)\n",
    "    Q3 = df[col].quantile(0.75)\n",
    "    IQR = Q3 - Q1\n",
    "    low_limit = Q1 - (IQR * 1.5)\n",
    "    high_limit = Q3 + (IQR * 1.5)\n",
    "\n",
    "    filtered_entries = ((df[col] >= low_limit) & (df[col] <= high_limit)) & filtered_entries\n",
    "    \n",
    "df = df[filtered_entries]\n",
    "\n",
    "print(f'After removing outlier: {len(df)}')"
   ]
  },
  {
   "cell_type": "code",
   "execution_count": 442,
   "id": "8857b364",
   "metadata": {},
   "outputs": [],
   "source": [
    "X = df.drop(columns=['y'])\n",
    "y = df[['y']]\n",
    "\n",
    "from sklearn.model_selection import train_test_split\n",
    "\n",
    "X_train, X_test, y_train, y_test = train_test_split(X, y, test_size = 0.3, random_state = 14)"
   ]
  },
  {
   "cell_type": "code",
   "execution_count": 443,
   "id": "cd64fd50",
   "metadata": {},
   "outputs": [],
   "source": [
    "from sklearn.preprocessing import MinMaxScaler\n",
    "\n",
    "scaler = MinMaxScaler()\n",
    "for i in list(X_train.select_dtypes(include = ['int64', 'float64']).columns):\n",
    "    fitted = scaler.fit(X_train[[i]])\n",
    "    X_train[i] = fitted.transform(X_train[[i]])\n",
    "    X_test[i] = fitted.transform(X_test[[i]])"
   ]
  },
  {
   "cell_type": "code",
   "execution_count": 444,
   "id": "cd57849b",
   "metadata": {},
   "outputs": [
    {
     "name": "stdout",
     "output_type": "stream",
     "text": [
      "job unknown: 0.62%\n",
      "education unknown: 4.04%\n",
      "contact unknown: 29.26%\n"
     ]
    }
   ],
   "source": [
    "col = ['job', 'education', 'contact']\n",
    "\n",
    "for i in col:\n",
    "    print(f\"{i} unknown: {round(len(df[df[i].isin(['unknown'])]) / len(df) * 100, 2)}%\")"
   ]
  },
  {
   "cell_type": "code",
   "execution_count": 445,
   "id": "f5a273b8",
   "metadata": {},
   "outputs": [],
   "source": [
    "train = pd.concat([X_train, y_train], axis = 1)\n",
    "test = pd.concat([X_test, y_test], axis = 1)\n",
    "\n",
    "col = ['job', 'education']\n",
    "\n",
    "for i in col:\n",
    "    train[i] = train[i].replace('unknown', df[i].mode()[0])\n",
    "    test[i] = test[i].replace('unknown', df[i].mode()[0])\n",
    "\n",
    "X_train = train.drop(columns=['y'])\n",
    "y_train = train[['y']]\n",
    "\n",
    "X_test = test.drop(columns=['y'])\n",
    "y_test = test[['y']]"
   ]
  },
  {
   "cell_type": "code",
   "execution_count": 446,
   "id": "78805e4e",
   "metadata": {},
   "outputs": [
    {
     "name": "stdout",
     "output_type": "stream",
     "text": [
      "job unknown train set: 0.0%\n",
      "job unknown test set: 0.0%\n",
      "education unknown train set: 0.0%\n",
      "education unknown test set: 0.0%\n",
      "contact unknown train set: 29.19%\n",
      "contact unknown test set: 29.41%\n"
     ]
    }
   ],
   "source": [
    "col = ['job', 'education', 'contact']\n",
    "\n",
    "for i in col:\n",
    "    print(f\"{i} unknown train set: {round(len(train[train[i].isin(['unknown'])]) / len(train) * 100, 2)}%\")\n",
    "    print(f\"{i} unknown test set: {round(len(test[test[i].isin(['unknown'])]) / len(test) * 100, 2)}%\")"
   ]
  },
  {
   "cell_type": "code",
   "execution_count": 447,
   "id": "9acb7c2a",
   "metadata": {},
   "outputs": [],
   "source": [
    "X_train['education_mapped'] = X_train['education'].map({'primary' : 0,\n",
    "                                                        'secondary' : 1,\n",
    "                                                        'tertiary' : 2})\n",
    "\n",
    "X_test['education_mapped'] = X_test['education'].map({'primary' : 0,\n",
    "                                                      'secondary' : 1,\n",
    "                                                      'tertiary' : 2})\n",
    "\n",
    "X_train['is_default'] = X_train['default'].map({'no' : 0,\n",
    "                                                'yes' : 1})\n",
    "\n",
    "X_test['is_default'] = X_test['default'].map({'no' : 0,\n",
    "                                              'yes' : 1})\n",
    "\n",
    "X_train['is_housing'] = X_train['housing'].map({'no' : 0,\n",
    "                                                'yes' : 1})\n",
    "\n",
    "X_test['is_housing'] = X_test['housing'].map({'no' : 0,\n",
    "                                              'yes' : 1})\n",
    "\n",
    "X_train['is_loan'] = X_train['loan'].map({'no' : 0,\n",
    "                                          'yes' : 1})\n",
    "\n",
    "X_test['is_loan'] = X_test['loan'].map({'no' : 0,\n",
    "                                        'yes' : 1})\n",
    "\n",
    "y_train['y'] = y_train['y'].map({'no' : 0,\n",
    "                                 'yes' : 1})\n",
    "\n",
    "y_test['y'] = y_test['y'].map({'no' : 0,\n",
    "                               'yes' : 1})"
   ]
  },
  {
   "cell_type": "code",
   "execution_count": 448,
   "id": "077a409b",
   "metadata": {},
   "outputs": [],
   "source": [
    "for i in ['job', 'marital']:\n",
    "    X_train = pd.concat([X_train, pd.get_dummies(X_train[i], prefix = i)], axis = 1)\n",
    "    X_test = pd.concat([X_test, pd.get_dummies(X_test[i], prefix = i)], axis = 1)"
   ]
  },
  {
   "cell_type": "code",
   "execution_count": 449,
   "id": "65f27caf",
   "metadata": {},
   "outputs": [],
   "source": [
    "X_train = X_train.drop(columns = list(X_train.select_dtypes(include = ['object']).columns) + ['contact', 'day', 'month', 'duration', 'campaign', 'pdays', 'previous', 'poutcome'])\n",
    "X_test = X_test.drop(columns = list(X_test.select_dtypes(include = ['object']).columns) + ['contact', 'day', 'month', 'duration', 'campaign', 'pdays', 'previous', 'poutcome'])"
   ]
  },
  {
   "cell_type": "code",
   "execution_count": 468,
   "id": "841b451b",
   "metadata": {},
   "outputs": [
    {
     "data": {
      "text/plain": [
       "20"
      ]
     },
     "metadata": {},
     "output_type": "display_data"
    },
    {
     "data": {
      "text/plain": [
       "(Index(['age', 'balance', 'education_mapped', 'is_default', 'is_housing',\n",
       "        'is_loan', 'job_admin.', 'job_blue-collar', 'job_entrepreneur',\n",
       "        'job_housemaid', 'job_management', 'job_retired', 'job_self-employed',\n",
       "        'job_services', 'job_student', 'job_technician', 'job_unemployed',\n",
       "        'marital_divorced', 'marital_married', 'marital_single'],\n",
       "       dtype='object'),\n",
       " None)"
      ]
     },
     "execution_count": 468,
     "metadata": {},
     "output_type": "execute_result"
    }
   ],
   "source": [
    "X_train.columns, display(len(X_train.columns))"
   ]
  },
  {
   "cell_type": "code",
   "execution_count": 450,
   "id": "f8f49814",
   "metadata": {},
   "outputs": [],
   "source": [
    "from imblearn import over_sampling\n",
    "\n",
    "X_train_over, y_train_over = over_sampling.SMOTE(random_state = 14).fit_resample(X_train, y_train)"
   ]
  },
  {
   "cell_type": "code",
   "execution_count": 451,
   "id": "33a8d5dd",
   "metadata": {},
   "outputs": [
    {
     "data": {
      "text/plain": [
       "(50262, 50262, 28337, 28337, 12145, 12145)"
      ]
     },
     "execution_count": 451,
     "metadata": {},
     "output_type": "execute_result"
    }
   ],
   "source": [
    "len(X_train_over), len(y_train_over), len(X_train), len(y_train), len(X_test), len(y_test)"
   ]
  },
  {
   "cell_type": "code",
   "execution_count": 452,
   "id": "9027f6f3",
   "metadata": {},
   "outputs": [],
   "source": [
    "from sklearn.metrics import accuracy_score, precision_score, recall_score, f1_score, roc_auc_score\n",
    "from sklearn.linear_model import LogisticRegression\n",
    "from sklearn.neighbors import KNeighborsClassifier\n",
    "from sklearn.tree import DecisionTreeClassifier\n",
    "from sklearn.ensemble import RandomForestClassifier\n",
    "from sklearn.ensemble import AdaBoostClassifier\n",
    "from xgboost import XGBClassifier\n",
    "\n",
    "def eval_classification():\n",
    "    \n",
    "    list_model = {'Logistic Regression' : LogisticRegression(random_state = 14),\n",
    "                  'KNN Classifier' : KNeighborsClassifier(),\n",
    "                  'Decision Tree Classifier' : DecisionTreeClassifier(random_state = 14),\n",
    "                  'Random Forest Classifier' : RandomForestClassifier(random_state = 14),\n",
    "                  'AdaBoost Classifier' : AdaBoostClassifier(random_state = 14),\n",
    "                  'XGBoost Classifier' : XGBClassifier(random_state = 14)}\n",
    "    \n",
    "    for key, val in list_model.items():\n",
    "        model = val\n",
    "        model.fit(X_train_over, y_train_over)\n",
    "    \n",
    "        y_pred = model.predict(X_test)\n",
    "        y_pred_train = model.predict(X_train)\n",
    "        y_pred_proba = model.predict_proba(X_test)\n",
    "        y_pred_proba_train = model.predict_proba(X_train)\n",
    "\n",
    "        print(key, \"Evaluation Result\")\n",
    "        print(\"Accuracy (Train Set): %.2f\" % accuracy_score(y_train, y_pred_train))\n",
    "        print(\"Accuracy (Test Set): %.2f\" % accuracy_score(y_test, y_pred))\n",
    "        print(\"Precision (Train Set): %.2f\" % precision_score(y_train, y_pred_train))\n",
    "        print(\"Precision (Test Set): %.2f\" % precision_score(y_test, y_pred))\n",
    "        print(\"Recall (Train Set): %.2f\" % recall_score(y_train, y_pred_train))\n",
    "        print(\"Recall (Test Set): %.2f\" % recall_score(y_test, y_pred))\n",
    "        print(\"F1-Score (Train Set): %.2f\" % f1_score(y_train, y_pred_train))\n",
    "        print(\"F1-Score (Test Set): %.2f\" % f1_score(y_test, y_pred))\n",
    "        print(\"\")"
   ]
  },
  {
   "cell_type": "code",
   "execution_count": 453,
   "id": "02c32127",
   "metadata": {},
   "outputs": [
    {
     "name": "stdout",
     "output_type": "stream",
     "text": [
      "Logistic Regression Evaluation Result\n",
      "Accuracy (Train Set): 0.64\n",
      "Accuracy (Test Set): 0.63\n",
      "Precision (Train Set): 0.18\n",
      "Precision (Test Set): 0.17\n",
      "Recall (Train Set): 0.62\n",
      "Recall (Test Set): 0.61\n",
      "F1-Score (Train Set): 0.28\n",
      "F1-Score (Test Set): 0.27\n",
      "\n",
      "KNN Classifier Evaluation Result\n",
      "Accuracy (Train Set): 0.82\n",
      "Accuracy (Test Set): 0.70\n",
      "Precision (Train Set): 0.37\n",
      "Precision (Test Set): 0.18\n",
      "Recall (Train Set): 0.90\n",
      "Recall (Test Set): 0.50\n",
      "F1-Score (Train Set): 0.53\n",
      "F1-Score (Test Set): 0.26\n",
      "\n",
      "Decision Tree Classifier Evaluation Result\n",
      "Accuracy (Train Set): 0.99\n",
      "Accuracy (Test Set): 0.79\n",
      "Precision (Train Set): 0.99\n",
      "Precision (Test Set): 0.20\n",
      "Recall (Train Set): 0.91\n",
      "Recall (Test Set): 0.33\n",
      "F1-Score (Train Set): 0.95\n",
      "F1-Score (Test Set): 0.25\n",
      "\n",
      "Random Forest Classifier Evaluation Result\n",
      "Accuracy (Train Set): 0.99\n",
      "Accuracy (Test Set): 0.79\n",
      "Precision (Train Set): 0.94\n",
      "Precision (Test Set): 0.22\n",
      "Recall (Train Set): 0.95\n",
      "Recall (Test Set): 0.36\n",
      "F1-Score (Train Set): 0.95\n",
      "F1-Score (Test Set): 0.27\n",
      "\n",
      "AdaBoost Classifier Evaluation Result\n",
      "Accuracy (Train Set): 0.67\n",
      "Accuracy (Test Set): 0.67\n",
      "Precision (Train Set): 0.20\n",
      "Precision (Test Set): 0.18\n",
      "Recall (Train Set): 0.61\n",
      "Recall (Test Set): 0.59\n",
      "F1-Score (Train Set): 0.30\n",
      "F1-Score (Test Set): 0.28\n",
      "\n",
      "XGBoost Classifier Evaluation Result\n",
      "Accuracy (Train Set): 0.90\n",
      "Accuracy (Test Set): 0.88\n",
      "Precision (Train Set): 0.58\n",
      "Precision (Test Set): 0.36\n",
      "Recall (Train Set): 0.30\n",
      "Recall (Test Set): 0.20\n",
      "F1-Score (Train Set): 0.40\n",
      "F1-Score (Test Set): 0.26\n",
      "\n"
     ]
    }
   ],
   "source": [
    "eval_classification()"
   ]
  },
  {
   "cell_type": "code",
   "execution_count": 454,
   "id": "5365fddf",
   "metadata": {},
   "outputs": [
    {
     "name": "stdout",
     "output_type": "stream",
     "text": [
      "Best Parameter: {'C': 0.001, 'penalty': 'l2'}\n",
      "Best Score: 0.65\n",
      "\n",
      "Tuned Logistic Regression\n",
      "Accuracy (Train Set): 0.63\n",
      "Accuracy (Test Set): 0.62\n",
      "Precision (Train Set): 0.18\n",
      "Precision (Test Set): 0.17\n",
      "Recall (Train Set): 0.64\n",
      "Recall (Test Set): 0.63\n",
      "F1-Score (Train Set): 0.28\n",
      "F1-Score (Test Set): 0.27\n"
     ]
    }
   ],
   "source": [
    "from sklearn.model_selection import GridSearchCV\n",
    "\n",
    "params = {\"penalty\": ['l1', 'l2'],\n",
    "          \"C\":[0.001,0.01,0.1,1,10,100]}\n",
    "\n",
    "model = GridSearchCV(LogisticRegression(random_state = 14), \n",
    "                   param_grid = params, \n",
    "                   cv = 10, \n",
    "                   scoring = 'recall')\n",
    "\n",
    "model.fit(X_train_over, y_train_over)\n",
    "y_pred = model.predict(X_test)\n",
    "y_pred_train = model.predict(X_train)\n",
    "y_pred_proba = model.predict_proba(X_test)\n",
    "y_pred_proba_train = model.predict_proba(X_train)\n",
    "\n",
    "print(f'Best Parameter: {model.best_params_}')\n",
    "print(\"Best Score: %.2f\" % model.best_score_)\n",
    "print('')\n",
    "\n",
    "print(\"Tuned Logistic Regression\")\n",
    "print(\"Accuracy (Train Set): %.2f\" % accuracy_score(y_train, y_pred_train))\n",
    "print(\"Accuracy (Test Set): %.2f\" % accuracy_score(y_test, y_pred))\n",
    "print(\"Precision (Train Set): %.2f\" % precision_score(y_train, y_pred_train))\n",
    "print(\"Precision (Test Set): %.2f\" % precision_score(y_test, y_pred))\n",
    "print(\"Recall (Train Set): %.2f\" % recall_score(y_train, y_pred_train))\n",
    "print(\"Recall (Test Set): %.2f\" % recall_score(y_test, y_pred))\n",
    "print(\"F1-Score (Train Set): %.2f\" % f1_score(y_train, y_pred_train))\n",
    "print(\"F1-Score (Test Set): %.2f\" % f1_score(y_test, y_pred))"
   ]
  },
  {
   "cell_type": "code",
   "execution_count": 459,
   "id": "cd894bc5",
   "metadata": {},
   "outputs": [
    {
     "name": "stdout",
     "output_type": "stream",
     "text": [
      "Best Parameter: {'n_estimators': 700, 'base_estimator': LogisticRegression(C=0.001, random_state=14), 'algorithm': 'SAMME'}\n",
      "Best Score: 0.6345940432071374\n",
      "\n",
      "Tuned Adaboost Classifier\n",
      "Accuracy (Train Set): 0.57\n",
      "Accuracy (Test Set): 0.56\n",
      "Precision (Train Set): 0.16\n",
      "Precision (Test Set): 0.15\n",
      "Recall (Train Set): 0.69\n",
      "Recall (Test Set): 0.67\n",
      "F1-Score (Train Set): 0.27\n",
      "F1-Score (Test Set): 0.25\n"
     ]
    }
   ],
   "source": [
    "from sklearn.model_selection import KFold, RandomizedSearchCV\n",
    "\n",
    "model = AdaBoostClassifier(random_state = 14)\n",
    "\n",
    "rand = dict()\n",
    "rand['n_estimators'] = [700, 800, 900]\n",
    "rand['algorithm'] = ['SAMME', 'SAMME.R']\n",
    "rand['base_estimator'] = [LogisticRegression(C = 0.001, penalty = 'l2', random_state = 14)]\n",
    "\n",
    "cv = KFold(n_splits=10)\n",
    "rand_search = RandomizedSearchCV(estimator=model, param_distributions=rand, n_jobs=-1, cv=cv, scoring='recall')\n",
    "rand_result = rand_search.fit(X_train_over, y_train_over)\n",
    "y_pred = rand_result.predict(X_test)\n",
    "y_pred_train = rand_result.predict(X_train)\n",
    "y_pred_proba = rand_result.predict_proba(X_test)\n",
    "y_pred_proba_train = rand_result.predict_proba(X_train)\n",
    "\n",
    "print(f'Best Parameter: {rand_result.best_params_}')\n",
    "print(f'Best Score: {rand_result.best_score_}')\n",
    "print('')\n",
    "\n",
    "print(\"Tuned Adaboost Classifier\")\n",
    "print(\"Accuracy (Train Set): %.2f\" % accuracy_score(y_train, y_pred_train))\n",
    "print(\"Accuracy (Test Set): %.2f\" % accuracy_score(y_test, y_pred))\n",
    "print(\"Precision (Train Set): %.2f\" % precision_score(y_train, y_pred_train))\n",
    "print(\"Precision (Test Set): %.2f\" % precision_score(y_test, y_pred))\n",
    "print(\"Recall (Train Set): %.2f\" % recall_score(y_train, y_pred_train))\n",
    "print(\"Recall (Test Set): %.2f\" % recall_score(y_test, y_pred))\n",
    "print(\"F1-Score (Train Set): %.2f\" % f1_score(y_train, y_pred_train))\n",
    "print(\"F1-Score (Test Set): %.2f\" % f1_score(y_test, y_pred))"
   ]
  },
  {
   "cell_type": "code",
   "execution_count": 465,
   "id": "05213771",
   "metadata": {},
   "outputs": [
    {
     "data": {
      "text/plain": [
       "Text(1.9722222222222232, 0.5, 'Actual')"
      ]
     },
     "execution_count": 465,
     "metadata": {},
     "output_type": "execute_result"
    },
    {
     "data": {
      "image/png": "[encoded data removed]",
      "text/plain": [
       "<Figure size 250x200 with 2 Axes>"
      ]
     },
     "metadata": {},
     "output_type": "display_data"
    }
   ],
   "source": [
    "from sklearn.metrics import confusion_matrix\n",
    "\n",
    "fig = plt.figure(figsize = (2.5,2))\n",
    "sns.heatmap((confusion_matrix(y_test, y_pred)), annot = True, fmt = '.0f', ax = fig.add_subplot(1,1, 1))\n",
    "plt.title(f'Confusion matrix\\ntest set of {len(y_test)}')\n",
    "plt.xlabel('Predicted')\n",
    "plt.ylabel('Actual')"
   ]
  }
 ],
 "metadata": {
  "kernelspec": {
   "display_name": "Python 3 (ipykernel)",
   "language": "python",
   "name": "python3"
  },
  "language_info": {
   "codemirror_mode": {
    "name": "ipython",
    "version": 3
   },
   "file_extension": ".py",
   "mimetype": "text/x-python",
   "name": "python",
   "nbconvert_exporter": "python",
   "pygments_lexer": "ipython3",
   "version": "3.10.9"
  }
 },
 "nbformat": 4,
 "nbformat_minor": 5
}
