{
 "cells": [
  {
   "cell_type": "code",
   "execution_count": 1,
   "id": "84d9b9d2",
   "metadata": {},
   "outputs": [
    {
     "data": {
      "text/html": [
       "<div>\n",
       "<style scoped>\n",
       "    .dataframe tbody tr th:only-of-type {\n",
       "        vertical-align: middle;\n",
       "    }\n",
       "\n",
       "    .dataframe tbody tr th {\n",
       "        vertical-align: top;\n",
       "    }\n",
       "\n",
       "    .dataframe thead th {\n",
       "        text-align: right;\n",
       "    }\n",
       "</style>\n",
       "<table border=\"1\" class=\"dataframe\">\n",
       "  <thead>\n",
       "    <tr style=\"text-align: right;\">\n",
       "      <th></th>\n",
       "      <th>age</th>\n",
       "      <th>job</th>\n",
       "      <th>marital</th>\n",
       "      <th>education</th>\n",
       "      <th>default</th>\n",
       "      <th>balance</th>\n",
       "      <th>housing</th>\n",
       "      <th>loan</th>\n",
       "      <th>contact</th>\n",
       "      <th>day</th>\n",
       "      <th>month</th>\n",
       "      <th>duration</th>\n",
       "      <th>campaign</th>\n",
       "      <th>pdays</th>\n",
       "      <th>previous</th>\n",
       "      <th>poutcome</th>\n",
       "      <th>y</th>\n",
       "    </tr>\n",
       "  </thead>\n",
       "  <tbody>\n",
       "    <tr>\n",
       "      <th>17145</th>\n",
       "      <td>45</td>\n",
       "      <td>technician</td>\n",
       "      <td>single</td>\n",
       "      <td>secondary</td>\n",
       "      <td>no</td>\n",
       "      <td>586</td>\n",
       "      <td>no</td>\n",
       "      <td>yes</td>\n",
       "      <td>cellular</td>\n",
       "      <td>28</td>\n",
       "      <td>jul</td>\n",
       "      <td>32</td>\n",
       "      <td>3</td>\n",
       "      <td>-1</td>\n",
       "      <td>0</td>\n",
       "      <td>unknown</td>\n",
       "      <td>no</td>\n",
       "    </tr>\n",
       "    <tr>\n",
       "      <th>1994</th>\n",
       "      <td>27</td>\n",
       "      <td>technician</td>\n",
       "      <td>single</td>\n",
       "      <td>secondary</td>\n",
       "      <td>no</td>\n",
       "      <td>769</td>\n",
       "      <td>yes</td>\n",
       "      <td>no</td>\n",
       "      <td>unknown</td>\n",
       "      <td>9</td>\n",
       "      <td>may</td>\n",
       "      <td>317</td>\n",
       "      <td>2</td>\n",
       "      <td>-1</td>\n",
       "      <td>0</td>\n",
       "      <td>unknown</td>\n",
       "      <td>no</td>\n",
       "    </tr>\n",
       "  </tbody>\n",
       "</table>\n",
       "</div>"
      ],
      "text/plain": [
       "       age         job marital  education default  balance housing loan  \\\n",
       "17145   45  technician  single  secondary      no      586      no  yes   \n",
       "1994    27  technician  single  secondary      no      769     yes   no   \n",
       "\n",
       "        contact  day month  duration  campaign  pdays  previous poutcome   y  \n",
       "17145  cellular   28   jul        32         3     -1         0  unknown  no  \n",
       "1994    unknown    9   may       317         2     -1         0  unknown  no  "
      ]
     },
     "execution_count": 1,
     "metadata": {},
     "output_type": "execute_result"
    }
   ],
   "source": [
    "import warnings\n",
    "warnings.filterwarnings('ignore')\n",
    "\n",
    "import numpy as np\n",
    "import pandas as pd\n",
    "import seaborn as sns\n",
    "import matplotlib.pyplot as plt\n",
    "import math\n",
    "\n",
    "df = pd.read_csv('train.csv', sep = ';')\n",
    "df.sample(2)"
   ]
  },
  {
   "cell_type": "code",
   "execution_count": 2,
   "id": "34a9fb7a",
   "metadata": {},
   "outputs": [
    {
     "data": {
      "text/plain": [
       "(Index(['job', 'marital', 'education', 'default', 'housing', 'loan', 'contact',\n",
       "        'month', 'poutcome', 'y'],\n",
       "       dtype='object'),\n",
       " Index(['age', 'balance', 'day', 'duration', 'campaign', 'pdays', 'previous'], dtype='object'))"
      ]
     },
     "execution_count": 2,
     "metadata": {},
     "output_type": "execute_result"
    }
   ],
   "source": [
    "cats = df.select_dtypes(include = ['object']).columns\n",
    "nums = df.select_dtypes(include = ['int64', 'float64']).columns\n",
    "\n",
    "cats, nums"
   ]
  },
  {
   "cell_type": "code",
   "execution_count": 17,
   "id": "14414e51",
   "metadata": {},
   "outputs": [
    {
     "name": "stdout",
     "output_type": "stream",
     "text": [
      "balance contains 3766 negative values\n",
      "pdays contains 36954 negative values\n"
     ]
    }
   ],
   "source": [
    "for i in nums:\n",
    "    if (df[i] < 0).any():\n",
    "        print(f'{i} contains {len(df[df[i] < 0])} negative values')"
   ]
  },
  {
   "cell_type": "code",
   "execution_count": 111,
   "id": "148f68a4",
   "metadata": {},
   "outputs": [
    {
     "name": "stdout",
     "output_type": "stream",
     "text": [
      "Before removing outlier: 45211\n",
      "After removing outlier: 40482\n"
     ]
    }
   ],
   "source": [
    "print(f'Before removing outlier: {len(df)}')\n",
    "\n",
    "filtered_entries = np.array([True] * len(df))\n",
    "for col in ['balance']:\n",
    "    Q1 = df[col].quantile(0.25)\n",
    "    Q3 = df[col].quantile(0.75)\n",
    "    IQR = Q3 - Q1\n",
    "    low_limit = Q1 - (IQR * 1.5)\n",
    "    high_limit = Q3 + (IQR * 1.5)\n",
    "\n",
    "    filtered_entries = ((df[col] >= low_limit) & (df[col] <= high_limit)) & filtered_entries\n",
    "    \n",
    "df = df[filtered_entries]\n",
    "\n",
    "print(f'After removing outlier: {len(df)}')"
   ]
  },
  {
   "cell_type": "code",
   "execution_count": 112,
   "id": "bcf3ae45",
   "metadata": {},
   "outputs": [],
   "source": [
    "X = df.drop(columns=['y'])\n",
    "y = df[['y']]\n",
    "\n",
    "from sklearn.model_selection import train_test_split\n",
    "\n",
    "X_train, X_test, y_train, y_test = train_test_split(X, y, test_size = 0.3, random_state = 18)"
   ]
  },
  {
   "cell_type": "code",
   "execution_count": 113,
   "id": "34d4276c",
   "metadata": {},
   "outputs": [],
   "source": [
    "from sklearn.preprocessing import MinMaxScaler\n",
    "\n",
    "scaler = MinMaxScaler()\n",
    "for i in list(X_train.select_dtypes(include = ['int64', 'float64']).columns):\n",
    "    fitted = scaler.fit(X_train[[i]])\n",
    "    X_train[i] = fitted.transform(X_train[[i]])\n",
    "    X_test[i] = fitted.transform(X_test[[i]])"
   ]
  },
  {
   "cell_type": "code",
   "execution_count": 114,
   "id": "9571167f",
   "metadata": {},
   "outputs": [
    {
     "name": "stdout",
     "output_type": "stream",
     "text": [
      "job unknown: 0.62%\n",
      "education unknown: 4.04%\n",
      "contact unknown: 29.26%\n"
     ]
    }
   ],
   "source": [
    "col = ['job', 'education', 'contact']\n",
    "\n",
    "for i in col:\n",
    "    print(f\"{i} unknown: {round(len(df[df[i].isin(['unknown'])]) / len(df) * 100, 2)}%\")"
   ]
  },
  {
   "cell_type": "code",
   "execution_count": 115,
   "id": "70fd7c2e",
   "metadata": {},
   "outputs": [],
   "source": [
    "train = pd.concat([X_train, y_train], axis = 1)\n",
    "test = pd.concat([X_test, y_test], axis = 1)\n",
    "\n",
    "col = ['job', 'education']\n",
    "\n",
    "for i in col:\n",
    "    train[i] = train[i].replace('unknown', df[i].mode()[0])\n",
    "    test[i] = test[i].replace('unknown', df[i].mode()[0])\n",
    "\n",
    "X_train = train.drop(columns=['y'])\n",
    "y_train = train[['y']]\n",
    "\n",
    "X_test = test.drop(columns=['y'])\n",
    "y_test = test[['y']]"
   ]
  },
  {
   "cell_type": "code",
   "execution_count": 116,
   "id": "6b2d7ed2",
   "metadata": {},
   "outputs": [
    {
     "name": "stdout",
     "output_type": "stream",
     "text": [
      "job unknown train set: 0.0%\n",
      "job unknown test set: 0.0%\n",
      "education unknown train set: 0.0%\n",
      "education unknown test set: 0.0%\n",
      "contact unknown train set: 29.27%\n",
      "contact unknown test set: 29.23%\n"
     ]
    }
   ],
   "source": [
    "col = ['job', 'education', 'contact']\n",
    "\n",
    "for i in col:\n",
    "    print(f\"{i} unknown train set: {round(len(train[train[i].isin(['unknown'])]) / len(train) * 100, 2)}%\")\n",
    "    print(f\"{i} unknown test set: {round(len(test[test[i].isin(['unknown'])]) / len(test) * 100, 2)}%\")"
   ]
  },
  {
   "cell_type": "code",
   "execution_count": 117,
   "id": "fe89a359",
   "metadata": {},
   "outputs": [],
   "source": [
    "X_train['is_married'] = X_train['marital'].apply(lambda x : 1 if x == 'married' else 0)\n",
    "\n",
    "X_test['is_married'] = X_test['marital'].apply(lambda x : 1 if x == 'married' else 0)\n",
    "\n",
    "X_train['education_mapped'] = X_train['education'].map({'primary' : 0,\n",
    "                                                        'secondary' : 1,\n",
    "                                                        'tertiary' : 2})\n",
    "\n",
    "X_test['education_mapped'] = X_test['education'].map({'primary' : 0,\n",
    "                                                      'secondary' : 1,\n",
    "                                                      'tertiary' : 2})\n",
    "\n",
    "X_train['is_default'] = X_train['default'].map({'no' : 0,\n",
    "                                                'yes' : 1})\n",
    "\n",
    "X_test['is_default'] = X_test['default'].map({'no' : 0,\n",
    "                                              'yes' : 1})\n",
    "\n",
    "X_train['is_housing'] = X_train['housing'].map({'no' : 0,\n",
    "                                                'yes' : 1})\n",
    "\n",
    "X_test['is_housing'] = X_test['housing'].map({'no' : 0,\n",
    "                                              'yes' : 1})\n",
    "\n",
    "X_train['is_loan'] = X_train['loan'].map({'no' : 0,\n",
    "                                          'yes' : 1})\n",
    "\n",
    "X_test['is_loan'] = X_test['loan'].map({'no' : 0,\n",
    "                                        'yes' : 1})\n",
    "\n",
    "y_train['y'] = y_train['y'].map({'no' : 0,\n",
    "                                 'yes' : 1})\n",
    "\n",
    "y_test['y'] = y_test['y'].map({'no' : 0,\n",
    "                               'yes' : 1})"
   ]
  },
  {
   "cell_type": "code",
   "execution_count": 118,
   "id": "ec9db53c",
   "metadata": {},
   "outputs": [],
   "source": [
    "X_train = X_train.drop(columns = list(X_train.select_dtypes(include = ['object']).columns) + ['job', 'marital', 'contact', 'day', 'month', 'duration', 'campaign', 'pdays', 'previous', 'poutcome'])\n",
    "X_test = X_test.drop(columns = list(X_test.select_dtypes(include = ['object']).columns) + ['job', 'marital', 'contact', 'day', 'month', 'duration', 'campaign', 'pdays', 'previous', 'poutcome'])"
   ]
  },
  {
   "cell_type": "code",
   "execution_count": 12,
   "id": "0e05bea2",
   "metadata": {},
   "outputs": [
    {
     "data": {
      "text/plain": [
       "7"
      ]
     },
     "metadata": {},
     "output_type": "display_data"
    },
    {
     "data": {
      "text/plain": [
       "(Index(['age', 'balance', 'is_married', 'education_mapped', 'is_default',\n",
       "        'is_housing', 'is_loan'],\n",
       "       dtype='object'),\n",
       " None)"
      ]
     },
     "execution_count": 12,
     "metadata": {},
     "output_type": "execute_result"
    }
   ],
   "source": [
    "X_train.columns, display(len(X_train.columns))"
   ]
  },
  {
   "cell_type": "code",
   "execution_count": 119,
   "id": "a6ddc926",
   "metadata": {},
   "outputs": [],
   "source": [
    "from imblearn import over_sampling\n",
    "\n",
    "X_train_over, y_train_over = over_sampling.SMOTE(random_state = 18).fit_resample(X_train, y_train)"
   ]
  },
  {
   "cell_type": "code",
   "execution_count": 14,
   "id": "b1321951",
   "metadata": {},
   "outputs": [
    {
     "data": {
      "text/plain": [
       "(50268, 50268, 28337, 28337, 12145, 12145)"
      ]
     },
     "execution_count": 14,
     "metadata": {},
     "output_type": "execute_result"
    }
   ],
   "source": [
    "len(X_train_over), len(y_train_over), len(X_train), len(y_train), len(X_test), len(y_test)"
   ]
  },
  {
   "cell_type": "code",
   "execution_count": 121,
   "id": "aa256f0b",
   "metadata": {},
   "outputs": [],
   "source": [
    "from sklearn.metrics import accuracy_score, precision_score, recall_score, f1_score, roc_auc_score\n",
    "from sklearn.linear_model import LogisticRegression\n",
    "from sklearn.neighbors import KNeighborsClassifier\n",
    "from sklearn.tree import DecisionTreeClassifier\n",
    "from sklearn.ensemble import RandomForestClassifier\n",
    "from sklearn.ensemble import AdaBoostClassifier\n",
    "from xgboost import XGBClassifier\n",
    "\n",
    "def eval_classification():\n",
    "    \n",
    "    list_model = {'Logistic Regression' : LogisticRegression(random_state = 18),\n",
    "                  'KNN Classifier' : KNeighborsClassifier(),\n",
    "                  'Decision Tree Classifier' : DecisionTreeClassifier(random_state = 18),\n",
    "                  'Random Forest Classifier' : RandomForestClassifier(random_state = 18),\n",
    "                  'AdaBoost Classifier' : AdaBoostClassifier(random_state = 18),\n",
    "                  'XGBoost Classifier' : XGBClassifier(random_state = 18)}\n",
    "    \n",
    "    for key, val in list_model.items():\n",
    "        model = val\n",
    "        model.fit(X_train_over, y_train_over)\n",
    "    \n",
    "        y_pred = model.predict(X_test)\n",
    "        y_pred_train = model.predict(X_train)\n",
    "        y_pred_proba = model.predict_proba(X_test)\n",
    "        y_pred_proba_train = model.predict_proba(X_train)\n",
    "\n",
    "        print(key, \"Evaluation Result\")\n",
    "        print(\"Accuracy (Train Set): %.2f\" % accuracy_score(y_train, y_pred_train))\n",
    "        print(\"Accuracy (Test Set): %.2f\" % accuracy_score(y_test, y_pred))\n",
    "        print(\"Precision (Train Set): %.2f\" % precision_score(y_train, y_pred_train))\n",
    "        print(\"Precision (Test Set): %.2f\" % precision_score(y_test, y_pred))\n",
    "        print(\"Recall (Train Set): %.2f\" % recall_score(y_train, y_pred_train))\n",
    "        print(\"Recall (Test Set): %.2f\" % recall_score(y_test, y_pred))\n",
    "        print(\"F1-Score (Train Set): %.2f\" % f1_score(y_train, y_pred_train))\n",
    "        print(\"F1-Score (Test Set): %.2f\" % f1_score(y_test, y_pred))\n",
    "        print(\"\")"
   ]
  },
  {
   "cell_type": "code",
   "execution_count": 122,
   "id": "206c1ee3",
   "metadata": {},
   "outputs": [
    {
     "name": "stdout",
     "output_type": "stream",
     "text": [
      "Logistic Regression Evaluation Result\n",
      "Accuracy (Train Set): 0.62\n",
      "Accuracy (Test Set): 0.61\n",
      "Precision (Train Set): 0.18\n",
      "Precision (Test Set): 0.16\n",
      "Recall (Train Set): 0.64\n",
      "Recall (Test Set): 0.62\n",
      "F1-Score (Train Set): 0.28\n",
      "F1-Score (Test Set): 0.26\n",
      "\n",
      "KNN Classifier Evaluation Result\n",
      "Accuracy (Train Set): 0.82\n",
      "Accuracy (Test Set): 0.71\n",
      "Precision (Train Set): 0.38\n",
      "Precision (Test Set): 0.19\n",
      "Recall (Train Set): 0.86\n",
      "Recall (Test Set): 0.49\n",
      "F1-Score (Train Set): 0.52\n",
      "F1-Score (Test Set): 0.27\n",
      "\n",
      "Decision Tree Classifier Evaluation Result\n",
      "Accuracy (Train Set): 0.98\n",
      "Accuracy (Test Set): 0.78\n",
      "Precision (Train Set): 0.97\n",
      "Precision (Test Set): 0.20\n",
      "Recall (Train Set): 0.88\n",
      "Recall (Test Set): 0.32\n",
      "F1-Score (Train Set): 0.92\n",
      "F1-Score (Test Set): 0.24\n",
      "\n",
      "Random Forest Classifier Evaluation Result\n",
      "Accuracy (Train Set): 0.98\n",
      "Accuracy (Test Set): 0.79\n",
      "Precision (Train Set): 0.92\n",
      "Precision (Test Set): 0.22\n",
      "Recall (Train Set): 0.92\n",
      "Recall (Test Set): 0.36\n",
      "F1-Score (Train Set): 0.92\n",
      "F1-Score (Test Set): 0.27\n",
      "\n",
      "AdaBoost Classifier Evaluation Result\n",
      "Accuracy (Train Set): 0.66\n",
      "Accuracy (Test Set): 0.65\n",
      "Precision (Train Set): 0.19\n",
      "Precision (Test Set): 0.18\n",
      "Recall (Train Set): 0.62\n",
      "Recall (Test Set): 0.60\n",
      "F1-Score (Train Set): 0.29\n",
      "F1-Score (Test Set): 0.28\n",
      "\n",
      "XGBoost Classifier Evaluation Result\n",
      "Accuracy (Train Set): 0.88\n",
      "Accuracy (Test Set): 0.85\n",
      "Precision (Train Set): 0.44\n",
      "Precision (Test Set): 0.30\n",
      "Recall (Train Set): 0.36\n",
      "Recall (Test Set): 0.25\n",
      "F1-Score (Train Set): 0.40\n",
      "F1-Score (Test Set): 0.27\n",
      "\n"
     ]
    }
   ],
   "source": [
    "eval_classification()"
   ]
  },
  {
   "cell_type": "code",
   "execution_count": 108,
   "id": "19ba66ad",
   "metadata": {},
   "outputs": [
    {
     "name": "stdout",
     "output_type": "stream",
     "text": [
      "Best Parameter: {'learning_rate': 0.05, 'base_estimator': LogisticRegression(C=0.0011080808080808082, random_state=18), 'algorithm': 'SAMME'}\n",
      "Best Score: 0.6\n",
      "\n",
      "Tuned Adaboost Classifier\n",
      "Accuracy (Train Set): 0.61\n",
      "Accuracy (Test Set): 0.60\n",
      "Precision (Train Set): 0.17\n",
      "Precision (Test Set): 0.16\n",
      "Recall (Train Set): 0.63\n",
      "Recall (Test Set): 0.61\n",
      "F1-Score (Train Set): 0.27\n",
      "F1-Score (Test Set): 0.25\n"
     ]
    }
   ],
   "source": [
    "from sklearn.model_selection import KFold, RandomizedSearchCV\n",
    "\n",
    "model = AdaBoostClassifier(random_state = 18)\n",
    "\n",
    "rand = dict()\n",
    "rand['learning_rate'] = [0.05]\n",
    "rand['algorithm'] = ['SAMME', 'SAMME.R']\n",
    "rand['base_estimator'] = [LogisticRegression(C = 0.0011080808080808082, penalty = 'l2', random_state = 18)]\n",
    "\n",
    "cv = KFold(n_splits=10)\n",
    "rand_search = RandomizedSearchCV(estimator=model, param_distributions=rand, n_jobs=-1, cv=cv, scoring='recall')\n",
    "rand_result = rand_search.fit(X_train_over, y_train_over)\n",
    "y_pred = rand_result.predict(X_test)\n",
    "y_pred_train = rand_result.predict(X_train)\n",
    "y_pred_proba = rand_result.predict_proba(X_test)\n",
    "y_pred_proba_train = rand_result.predict_proba(X_train)\n",
    "\n",
    "print(f'Best Parameter: {rand_result.best_params_}')\n",
    "print(f'Best Score: {rand_result.best_score_}')\n",
    "print('')\n",
    "\n",
    "print(\"Tuned Adaboost Classifier\")\n",
    "print(\"Accuracy (Train Set): %.2f\" % accuracy_score(y_train, y_pred_train))\n",
    "print(\"Accuracy (Test Set): %.2f\" % accuracy_score(y_test, y_pred))\n",
    "print(\"Precision (Train Set): %.2f\" % precision_score(y_train, y_pred_train))\n",
    "print(\"Precision (Test Set): %.2f\" % precision_score(y_test, y_pred))\n",
    "print(\"Recall (Train Set): %.2f\" % recall_score(y_train, y_pred_train))\n",
    "print(\"Recall (Test Set): %.2f\" % recall_score(y_test, y_pred))\n",
    "print(\"F1-Score (Train Set): %.2f\" % f1_score(y_train, y_pred_train))\n",
    "print(\"F1-Score (Test Set): %.2f\" % f1_score(y_test, y_pred))"
   ]
  },
  {
   "cell_type": "code",
   "execution_count": 123,
   "id": "0c0f4b98",
   "metadata": {},
   "outputs": [
    {
     "name": "stdout",
     "output_type": "stream",
     "text": [
      "Best Parameter: {'C': 0.0011080808080808082, 'class_weight': None, 'dual': False, 'fit_intercept': True, 'intercept_scaling': 1, 'l1_ratio': None, 'max_iter': 100, 'multi_class': 'auto', 'n_jobs': None, 'penalty': 'l2', 'random_state': 18, 'solver': 'lbfgs', 'tol': 0.0001, 'verbose': 0, 'warm_start': False}\n",
      "Best Score: 0.64\n",
      "\n",
      "Tuned Logistic Regression\n",
      "Accuracy (Train Set): 0.61\n",
      "Accuracy (Test Set): 0.60\n",
      "Precision (Train Set): 0.17\n",
      "Precision (Test Set): 0.16\n",
      "Recall (Train Set): 0.65\n",
      "Recall (Test Set): 0.63\n",
      "F1-Score (Train Set): 0.27\n",
      "F1-Score (Test Set): 0.26\n"
     ]
    }
   ],
   "source": [
    "from sklearn.model_selection import GridSearchCV\n",
    "\n",
    "params = {'penalty' : ['l1', 'l2'],\n",
    "          'C' : [0.0011080808080808082],\n",
    "          'solver' : ['lbfgs', 'sag','saga']}\n",
    "\n",
    "model = GridSearchCV(LogisticRegression(random_state = 18), \n",
    "                   param_grid = params, \n",
    "                   cv = 10, \n",
    "                   scoring = 'recall')\n",
    "\n",
    "model.fit(X_train_over, y_train_over)\n",
    "y_pred = model.predict(X_test)\n",
    "y_pred_train = model.predict(X_train)\n",
    "y_pred_proba = model.predict_proba(X_test)\n",
    "y_pred_proba_train = model.predict_proba(X_train)\n",
    "\n",
    "print(f'Best Parameter: {model.best_estimator_.get_params()}')\n",
    "print(\"Best Score: %.2f\" % model.best_score_)\n",
    "print('')\n",
    "\n",
    "print(\"Tuned Logistic Regression\")\n",
    "print(\"Accuracy (Train Set): %.2f\" % accuracy_score(y_train, y_pred_train))\n",
    "print(\"Accuracy (Test Set): %.2f\" % accuracy_score(y_test, y_pred))\n",
    "print(\"Precision (Train Set): %.2f\" % precision_score(y_train, y_pred_train))\n",
    "print(\"Precision (Test Set): %.2f\" % precision_score(y_test, y_pred))\n",
    "print(\"Recall (Train Set): %.2f\" % recall_score(y_train, y_pred_train))\n",
    "print(\"Recall (Test Set): %.2f\" % recall_score(y_test, y_pred))\n",
    "print(\"F1-Score (Train Set): %.2f\" % f1_score(y_train, y_pred_train))\n",
    "print(\"F1-Score (Test Set): %.2f\" % f1_score(y_test, y_pred))"
   ]
  },
  {
   "cell_type": "code",
   "execution_count": 124,
   "id": "1eb21da9",
   "metadata": {},
   "outputs": [
    {
     "data": {
      "text/plain": [
       "Text(1.9722222222222232, 0.5, 'Actual')"
      ]
     },
     "execution_count": 124,
     "metadata": {},
     "output_type": "execute_result"
    },
    {
     "data": {
      "image/png": "[encoded data removed]",
      "text/plain": [
       "<Figure size 250x200 with 2 Axes>"
      ]
     },
     "metadata": {},
     "output_type": "display_data"
    }
   ],
   "source": [
    "from sklearn.metrics import confusion_matrix\n",
    "\n",
    "fig = plt.figure(figsize = (2.5,2))\n",
    "sns.heatmap((confusion_matrix(y_test, y_pred)), annot = True, fmt = '.0f', ax = fig.add_subplot(1,1, 1))\n",
    "plt.title(f'Confusion matrix\\ntest set of {len(y_test)}')\n",
    "plt.xlabel('Predicted')\n",
    "plt.ylabel('Actual')"
   ]
  },
  {
   "cell_type": "code",
   "execution_count": 125,
   "id": "01e2c389",
   "metadata": {},
   "outputs": [
    {
     "data": {
      "text/plain": [
       "<matplotlib.legend.Legend at 0x1531f6882b0>"
      ]
     },
     "execution_count": 125,
     "metadata": {},
     "output_type": "execute_result"
    },
    {
     "data": {
      "image/png": "[encoded data removed]",
      "text/plain": [
       "<Figure size 500x300 with 1 Axes>"
      ]
     },
     "metadata": {},
     "output_type": "display_data"
    }
   ],
   "source": [
    "importance = np.abs(model.best_estimator_.coef_)\n",
    "feature_names = np.array(X_train.columns)\n",
    "plt.figure(figsize = (5, 3), facecolor='#e8e6e1')\n",
    "ax = plt.axes()\n",
    "ax.set_facecolor('#f1f2f2')\n",
    "pd.DataFrame(list(zip(list(X_train.columns), list(model.best_estimator_.coef_[0]))), columns = ['feature', 'coef'])\\\n",
    "            .sort_values(by = ['coef'], ascending = True).reset_index(drop = True)\\\n",
    "            .plot(x = 'feature', kind = 'barh', fontsize = 8, ax = ax)\n",
    "plt.title(\"Feature importances via coefficients\")\n",
    "plt.xlabel('coefficient')\n",
    "plt.legend(loc = 'center right')"
   ]
  },
  {
   "cell_type": "code",
   "execution_count": 126,
   "id": "c1a31d94",
   "metadata": {},
   "outputs": [
    {
     "data": {
      "text/plain": [
       "[('age', 0.06258163666803032),\n",
       " ('balance', 0.3725496643754),\n",
       " ('is_married', -0.29124857298042206),\n",
       " ('education_mapped', 0.2203991613390367),\n",
       " ('is_default', -0.11937858413662669),\n",
       " ('is_housing', -0.6258916732962359),\n",
       " ('is_loan', -0.3640130596979508)]"
      ]
     },
     "execution_count": 126,
     "metadata": {},
     "output_type": "execute_result"
    }
   ],
   "source": [
    "list(zip(list(X_train.columns), list(model.best_estimator_.coef_[0])))"
   ]
  },
  {
   "cell_type": "code",
   "execution_count": 99,
   "id": "8e54bfac",
   "metadata": {
    "scrolled": false
   },
   "outputs": [
    {
     "name": "stdout",
     "output_type": "stream",
     "text": [
      "param value: 0.0001; train: 0.6312831720262254; test: 0.6095526914329037\n",
      "param value: 0.0006040404040404041; train: 0.6403371838901031; test: 0.6186504927975739\n",
      "param value: 0.0011080808080808082; train: 0.6475179519200749; test: 0.6292645943896892\n",
      "param value: 0.0016121212121212123; train: 0.6409615985014049; test: 0.620166793025019\n",
      "param value: 0.002116161616161616; train: 0.6387761473618483; test: 0.6178923426838514\n",
      "param value: 0.0026202020202020205; train: 0.6390883546674992; test: 0.6148597422289613\n",
      "param value: 0.0031242424242424243; train: 0.6362784889166406; test: 0.6163760424564063\n",
      "param value: 0.003628282828282828; train: 0.6359662816109897; test: 0.6171341925701289\n",
      "param value: 0.004132323232323233; train: 0.6356540743053387; test: 0.6178923426838514\n",
      "param value: 0.004636363636363637; train: 0.6359662816109897; test: 0.6194086429112965\n",
      "param value: 0.0051404040404040416; train: 0.6369029035279425; test: 0.6186504927975739\n",
      "param value: 0.005644444444444445; train: 0.6362784889166406; test: 0.620166793025019\n",
      "param value: 0.006148484848484849; train: 0.6369029035279425; test: 0.6194086429112965\n",
      "param value: 0.006652525252525254; train: 0.6372151108335935; test: 0.6178923426838514\n",
      "param value: 0.007156565656565657; train: 0.6381517327505464; test: 0.6186504927975739\n",
      "param value: 0.007660606060606061; train: 0.6384639400561973; test: 0.6209249431387415\n",
      "param value: 0.008164646464646465; train: 0.6387761473618483; test: 0.6209249431387415\n",
      "param value: 0.008668686868686869; train: 0.6387761473618483; test: 0.6209249431387415\n",
      "param value: 0.009172727272727273; train: 0.6394005619731502; test: 0.621683093252464\n",
      "param value: 0.009676767676767678; train: 0.6394005619731502; test: 0.621683093252464\n",
      "param value: 0.010180808080808082; train: 0.6390883546674992; test: 0.6209249431387415\n",
      "param value: 0.010684848484848485; train: 0.6390883546674992; test: 0.621683093252464\n",
      "param value: 0.011188888888888889; train: 0.6390883546674992; test: 0.6224412433661866\n",
      "param value: 0.011692929292929293; train: 0.6390883546674992; test: 0.623199393479909\n",
      "param value: 0.012196969696969697; train: 0.6390883546674992; test: 0.623199393479909\n",
      "param value: 0.012701010101010102; train: 0.6384639400561973; test: 0.623199393479909\n",
      "param value: 0.013205050505050506; train: 0.6378395254448954; test: 0.6239575435936315\n",
      "param value: 0.01370909090909091; train: 0.6384639400561973; test: 0.624715693707354\n",
      "param value: 0.014213131313131313; train: 0.6384639400561973; test: 0.624715693707354\n",
      "param value: 0.014717171717171717; train: 0.6384639400561973; test: 0.6239575435936315\n",
      "param value: 0.015221212121212122; train: 0.6387761473618483; test: 0.624715693707354\n",
      "param value: 0.015725252525252528; train: 0.6384639400561973; test: 0.624715693707354\n",
      "param value: 0.01622929292929293; train: 0.6384639400561973; test: 0.624715693707354\n",
      "param value: 0.016733333333333333; train: 0.6384639400561973; test: 0.624715693707354\n",
      "param value: 0.01723737373737374; train: 0.6384639400561973; test: 0.6239575435936315\n",
      "param value: 0.01774141414141414; train: 0.6384639400561973; test: 0.6239575435936315\n",
      "param value: 0.018245454545454547; train: 0.6384639400561973; test: 0.6239575435936315\n",
      "param value: 0.01874949494949495; train: 0.6384639400561973; test: 0.6239575435936315\n",
      "param value: 0.019253535353535356; train: 0.6384639400561973; test: 0.6239575435936315\n",
      "param value: 0.01975757575757576; train: 0.6390883546674992; test: 0.6239575435936315\n",
      "param value: 0.020261616161616165; train: 0.6394005619731502; test: 0.6239575435936315\n",
      "param value: 0.020765656565656567; train: 0.6397127692788012; test: 0.623199393479909\n",
      "param value: 0.02126969696969697; train: 0.6397127692788012; test: 0.623199393479909\n",
      "param value: 0.021773737373737376; train: 0.6397127692788012; test: 0.623199393479909\n",
      "param value: 0.02227777777777778; train: 0.6397127692788012; test: 0.623199393479909\n",
      "param value: 0.022781818181818184; train: 0.6397127692788012; test: 0.623199393479909\n",
      "param value: 0.023285858585858587; train: 0.6400249765844521; test: 0.623199393479909\n",
      "param value: 0.023789898989898993; train: 0.6403371838901031; test: 0.623199393479909\n",
      "param value: 0.024293939393939395; train: 0.6403371838901031; test: 0.623199393479909\n",
      "param value: 0.024797979797979798; train: 0.6403371838901031; test: 0.623199393479909\n",
      "param value: 0.025302020202020204; train: 0.6406493911957539; test: 0.623199393479909\n",
      "param value: 0.025806060606060607; train: 0.6409615985014049; test: 0.623199393479909\n",
      "param value: 0.026310101010101013; train: 0.6409615985014049; test: 0.623199393479909\n",
      "param value: 0.026814141414141415; train: 0.6409615985014049; test: 0.623199393479909\n",
      "param value: 0.02731818181818182; train: 0.6412738058070558; test: 0.623199393479909\n",
      "param value: 0.027822222222222224; train: 0.6415860131127068; test: 0.623199393479909\n",
      "param value: 0.028326262626262626; train: 0.6415860131127068; test: 0.623199393479909\n",
      "param value: 0.028830303030303032; train: 0.6415860131127068; test: 0.623199393479909\n",
      "param value: 0.029334343434343435; train: 0.6415860131127068; test: 0.6224412433661866\n",
      "param value: 0.02983838383838384; train: 0.6415860131127068; test: 0.6224412433661866\n",
      "param value: 0.030342424242424244; train: 0.6415860131127068; test: 0.6224412433661866\n",
      "param value: 0.03084646464646465; train: 0.6415860131127068; test: 0.6224412433661866\n",
      "param value: 0.03135050505050506; train: 0.6415860131127068; test: 0.6224412433661866\n",
      "param value: 0.03185454545454546; train: 0.6415860131127068; test: 0.6224412433661866\n",
      "param value: 0.032358585858585864; train: 0.6415860131127068; test: 0.6224412433661866\n",
      "param value: 0.03286262626262627; train: 0.6415860131127068; test: 0.6224412433661866\n",
      "param value: 0.03336666666666667; train: 0.6415860131127068; test: 0.6224412433661866\n",
      "param value: 0.03387070707070708; train: 0.6415860131127068; test: 0.6224412433661866\n",
      "param value: 0.03437474747474748; train: 0.6415860131127068; test: 0.6224412433661866\n",
      "param value: 0.034878787878787884; train: 0.6418982204183578; test: 0.6224412433661866\n",
      "param value: 0.03538282828282829; train: 0.6418982204183578; test: 0.6224412433661866\n",
      "param value: 0.035886868686868696; train: 0.6418982204183578; test: 0.6224412433661866\n",
      "param value: 0.0363909090909091; train: 0.6418982204183578; test: 0.6224412433661866\n",
      "param value: 0.0368949494949495; train: 0.6418982204183578; test: 0.6224412433661866\n",
      "param value: 0.037398989898989904; train: 0.6418982204183578; test: 0.6224412433661866\n",
      "param value: 0.037903030303030306; train: 0.6418982204183578; test: 0.6224412433661866\n",
      "param value: 0.038407070707070716; train: 0.6418982204183578; test: 0.6224412433661866\n",
      "param value: 0.03891111111111112; train: 0.6418982204183578; test: 0.6224412433661866\n",
      "param value: 0.03941515151515152; train: 0.6418982204183578; test: 0.6224412433661866\n",
      "param value: 0.039919191919191924; train: 0.6418982204183578; test: 0.6224412433661866\n",
      "param value: 0.04042323232323233; train: 0.6418982204183578; test: 0.6224412433661866\n",
      "param value: 0.040927272727272736; train: 0.6418982204183578; test: 0.6224412433661866\n",
      "param value: 0.04143131313131314; train: 0.6415860131127068; test: 0.6224412433661866\n",
      "param value: 0.04193535353535354; train: 0.6415860131127068; test: 0.6224412433661866\n",
      "param value: 0.04243939393939394; train: 0.6415860131127068; test: 0.6224412433661866\n",
      "param value: 0.04294343434343435; train: 0.6415860131127068; test: 0.6224412433661866\n",
      "param value: 0.043447474747474756; train: 0.6415860131127068; test: 0.6224412433661866\n",
      "param value: 0.04395151515151516; train: 0.6415860131127068; test: 0.6224412433661866\n",
      "param value: 0.04445555555555556; train: 0.6415860131127068; test: 0.6224412433661866\n",
      "param value: 0.04495959595959596; train: 0.6418982204183578; test: 0.6224412433661866\n",
      "param value: 0.04546363636363637; train: 0.6418982204183578; test: 0.6224412433661866\n",
      "param value: 0.045967676767676775; train: 0.6418982204183578; test: 0.6224412433661866\n",
      "param value: 0.04647171717171718; train: 0.6418982204183578; test: 0.6224412433661866\n",
      "param value: 0.04697575757575758; train: 0.6418982204183578; test: 0.6224412433661866\n",
      "param value: 0.04747979797979799; train: 0.6418982204183578; test: 0.6224412433661866\n",
      "param value: 0.04798383838383839; train: 0.6418982204183578; test: 0.6224412433661866\n"
     ]
    },
    {
     "name": "stdout",
     "output_type": "stream",
     "text": [
      "param value: 0.048487878787878795; train: 0.6418982204183578; test: 0.6224412433661866\n",
      "param value: 0.0489919191919192; train: 0.6418982204183578; test: 0.6224412433661866\n",
      "param value: 0.0494959595959596; train: 0.6418982204183578; test: 0.6224412433661866\n",
      "param value: 0.05; train: 0.6418982204183578; test: 0.6224412433661866\n"
     ]
    },
    {
     "data": {
      "image/png": "[encoded data removed]",
      "text/plain": [
       "<Figure size 640x480 with 1 Axes>"
      ]
     },
     "metadata": {},
     "output_type": "display_data"
    }
   ],
   "source": [
    "param_values = [float(x) for x in np.linspace(0.0001, 0.05, 100)]\n",
    "\n",
    "train_scores = []\n",
    "test_scores = []\n",
    "\n",
    "for c in param_values:\n",
    "    model = LogisticRegression(penalty='l2', C=c, random_state = 18)\n",
    "    model.fit(X_train_over, y_train_over)\n",
    "\n",
    "    y_pred_train = model.predict(X_train)\n",
    "    train_recall = recall_score(y_train, y_pred_train)\n",
    "    train_scores.append(train_recall)\n",
    "\n",
    "    y_pred = model.predict(X_test)\n",
    "    test_recall = recall_score(y_test, y_pred)\n",
    "    test_scores.append(test_recall)\n",
    "\n",
    "    print('param value: ' + str(c) + '; train: ' + str(train_recall) + '; test: '+ str(test_recall))\n",
    "\n",
    "plt.plot(param_values, train_scores, label='Train')\n",
    "plt.plot(param_values, test_scores, label='Test')\n",
    "plt.xlabel('C')\n",
    "plt.ylabel('Recall')\n",
    "plt.title('Learning Curve - Hyperparameter C - Logistic Regression')\n",
    "plt.legend()\n",
    "plt.show()"
   ]
  }
 ],
 "metadata": {
  "kernelspec": {
   "display_name": "Python 3 (ipykernel)",
   "language": "python",
   "name": "python3"
  },
  "language_info": {
   "codemirror_mode": {
    "name": "ipython",
    "version": 3
   },
   "file_extension": ".py",
   "mimetype": "text/x-python",
   "name": "python",
   "nbconvert_exporter": "python",
   "pygments_lexer": "ipython3",
   "version": "3.10.9"
  }
 },
 "nbformat": 4,
 "nbformat_minor": 5
}
