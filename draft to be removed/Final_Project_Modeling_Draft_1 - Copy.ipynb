{
 "cells": [
  {
   "cell_type": "markdown",
   "id": "874952a6-c899-49c5-a67f-9ca378a6828a",
   "metadata": {},
   "source": [
    "## Data Preparation"
   ]
  },
  {
   "cell_type": "markdown",
   "id": "0897b016-420e-423e-9b8d-626d15cfd45e",
   "metadata": {},
   "source": [
    "Mempersiapkan dan memastikan bahwa data yang digunakan untuk analisis adalah data yang berkualitas dan dapat digunakan untuk modelling"
   ]
  },
  {
   "cell_type": "code",
   "execution_count": 1,
   "id": "eda0a9ff-aa88-437a-8213-a8e3604c594f",
   "metadata": {},
   "outputs": [
    {
     "data": {
      "text/html": [
       "<div>\n",
       "<style scoped>\n",
       "    .dataframe tbody tr th:only-of-type {\n",
       "        vertical-align: middle;\n",
       "    }\n",
       "\n",
       "    .dataframe tbody tr th {\n",
       "        vertical-align: top;\n",
       "    }\n",
       "\n",
       "    .dataframe thead th {\n",
       "        text-align: right;\n",
       "    }\n",
       "</style>\n",
       "<table border=\"1\" class=\"dataframe\">\n",
       "  <thead>\n",
       "    <tr style=\"text-align: right;\">\n",
       "      <th></th>\n",
       "      <th>age</th>\n",
       "      <th>job</th>\n",
       "      <th>marital</th>\n",
       "      <th>education</th>\n",
       "      <th>default</th>\n",
       "      <th>balance</th>\n",
       "      <th>housing</th>\n",
       "      <th>loan</th>\n",
       "      <th>contact</th>\n",
       "      <th>day</th>\n",
       "      <th>month</th>\n",
       "      <th>duration</th>\n",
       "      <th>campaign</th>\n",
       "      <th>pdays</th>\n",
       "      <th>previous</th>\n",
       "      <th>poutcome</th>\n",
       "      <th>y</th>\n",
       "    </tr>\n",
       "  </thead>\n",
       "  <tbody>\n",
       "    <tr>\n",
       "      <th>17257</th>\n",
       "      <td>32</td>\n",
       "      <td>technician</td>\n",
       "      <td>married</td>\n",
       "      <td>secondary</td>\n",
       "      <td>no</td>\n",
       "      <td>659</td>\n",
       "      <td>no</td>\n",
       "      <td>yes</td>\n",
       "      <td>cellular</td>\n",
       "      <td>28</td>\n",
       "      <td>jul</td>\n",
       "      <td>446</td>\n",
       "      <td>2</td>\n",
       "      <td>-1</td>\n",
       "      <td>0</td>\n",
       "      <td>unknown</td>\n",
       "      <td>no</td>\n",
       "    </tr>\n",
       "    <tr>\n",
       "      <th>32029</th>\n",
       "      <td>59</td>\n",
       "      <td>technician</td>\n",
       "      <td>married</td>\n",
       "      <td>secondary</td>\n",
       "      <td>no</td>\n",
       "      <td>0</td>\n",
       "      <td>yes</td>\n",
       "      <td>no</td>\n",
       "      <td>cellular</td>\n",
       "      <td>14</td>\n",
       "      <td>apr</td>\n",
       "      <td>145</td>\n",
       "      <td>1</td>\n",
       "      <td>-1</td>\n",
       "      <td>0</td>\n",
       "      <td>unknown</td>\n",
       "      <td>no</td>\n",
       "    </tr>\n",
       "    <tr>\n",
       "      <th>33704</th>\n",
       "      <td>35</td>\n",
       "      <td>management</td>\n",
       "      <td>single</td>\n",
       "      <td>tertiary</td>\n",
       "      <td>no</td>\n",
       "      <td>704</td>\n",
       "      <td>no</td>\n",
       "      <td>no</td>\n",
       "      <td>cellular</td>\n",
       "      <td>21</td>\n",
       "      <td>apr</td>\n",
       "      <td>164</td>\n",
       "      <td>1</td>\n",
       "      <td>-1</td>\n",
       "      <td>0</td>\n",
       "      <td>unknown</td>\n",
       "      <td>yes</td>\n",
       "    </tr>\n",
       "    <tr>\n",
       "      <th>34564</th>\n",
       "      <td>41</td>\n",
       "      <td>blue-collar</td>\n",
       "      <td>divorced</td>\n",
       "      <td>secondary</td>\n",
       "      <td>no</td>\n",
       "      <td>257</td>\n",
       "      <td>yes</td>\n",
       "      <td>no</td>\n",
       "      <td>cellular</td>\n",
       "      <td>5</td>\n",
       "      <td>may</td>\n",
       "      <td>442</td>\n",
       "      <td>2</td>\n",
       "      <td>-1</td>\n",
       "      <td>0</td>\n",
       "      <td>unknown</td>\n",
       "      <td>no</td>\n",
       "    </tr>\n",
       "    <tr>\n",
       "      <th>39598</th>\n",
       "      <td>43</td>\n",
       "      <td>management</td>\n",
       "      <td>divorced</td>\n",
       "      <td>tertiary</td>\n",
       "      <td>no</td>\n",
       "      <td>36</td>\n",
       "      <td>no</td>\n",
       "      <td>no</td>\n",
       "      <td>cellular</td>\n",
       "      <td>26</td>\n",
       "      <td>may</td>\n",
       "      <td>118</td>\n",
       "      <td>1</td>\n",
       "      <td>102</td>\n",
       "      <td>2</td>\n",
       "      <td>failure</td>\n",
       "      <td>no</td>\n",
       "    </tr>\n",
       "  </tbody>\n",
       "</table>\n",
       "</div>"
      ],
      "text/plain": [
       "       age          job   marital  education default  balance housing loan  \\\n",
       "17257   32   technician   married  secondary      no      659      no  yes   \n",
       "32029   59   technician   married  secondary      no        0     yes   no   \n",
       "33704   35   management    single   tertiary      no      704      no   no   \n",
       "34564   41  blue-collar  divorced  secondary      no      257     yes   no   \n",
       "39598   43   management  divorced   tertiary      no       36      no   no   \n",
       "\n",
       "        contact  day month  duration  campaign  pdays  previous poutcome    y  \n",
       "17257  cellular   28   jul       446         2     -1         0  unknown   no  \n",
       "32029  cellular   14   apr       145         1     -1         0  unknown   no  \n",
       "33704  cellular   21   apr       164         1     -1         0  unknown  yes  \n",
       "34564  cellular    5   may       442         2     -1         0  unknown   no  \n",
       "39598  cellular   26   may       118         1    102         2  failure   no  "
      ]
     },
     "execution_count": 1,
     "metadata": {},
     "output_type": "execute_result"
    }
   ],
   "source": [
    "import warnings\n",
    "warnings.filterwarnings('ignore')\n",
    "\n",
    "import numpy as np\n",
    "import pandas as pd\n",
    "import seaborn as sns\n",
    "import matplotlib.pyplot as plt\n",
    "import math\n",
    "\n",
    "df = pd.read_csv('train.csv', sep = ';')\n",
    "df.sample(5)"
   ]
  },
  {
   "cell_type": "code",
   "execution_count": 2,
   "id": "44e06f68-e9bd-4caf-a172-4f445a75fe16",
   "metadata": {},
   "outputs": [
    {
     "data": {
      "text/plain": [
       "(Index(['job', 'marital', 'education', 'default', 'housing', 'loan', 'contact',\n",
       "        'month', 'poutcome', 'y'],\n",
       "       dtype='object'),\n",
       " Index(['age', 'balance', 'day', 'duration', 'campaign', 'pdays', 'previous'], dtype='object'))"
      ]
     },
     "execution_count": 2,
     "metadata": {},
     "output_type": "execute_result"
    }
   ],
   "source": [
    "cats = df.select_dtypes(include = ['object']).columns\n",
    "nums = df.select_dtypes(include = ['int64', 'float64']).columns\n",
    "\n",
    "cats, nums"
   ]
  },
  {
   "cell_type": "markdown",
   "id": "b1624cf3-9198-407d-9e68-9b65da79e713",
   "metadata": {},
   "source": [
    "### Missing Values"
   ]
  },
  {
   "cell_type": "code",
   "execution_count": 136,
   "id": "28b1d564-39b9-4e92-b701-1a3b31e9e5aa",
   "metadata": {},
   "outputs": [
    {
     "data": {
      "text/plain": [
       "age          0\n",
       "job          0\n",
       "marital      0\n",
       "education    0\n",
       "default      0\n",
       "balance      0\n",
       "housing      0\n",
       "loan         0\n",
       "contact      0\n",
       "day          0\n",
       "month        0\n",
       "duration     0\n",
       "campaign     0\n",
       "pdays        0\n",
       "previous     0\n",
       "poutcome     0\n",
       "y            0\n",
       "dtype: int64"
      ]
     },
     "execution_count": 136,
     "metadata": {},
     "output_type": "execute_result"
    }
   ],
   "source": [
    "df.isna().sum()"
   ]
  },
  {
   "cell_type": "markdown",
   "id": "2057459a-b5de-475b-bdd0-6dc8216663cc",
   "metadata": {},
   "source": [
    "Tidak perlu handling missing values, dikarenakan tidak ada kolom yang null"
   ]
  },
  {
   "cell_type": "markdown",
   "id": "f82a37df-c14c-4bda-97b7-5e62d48434fe",
   "metadata": {},
   "source": [
    "### Duplicate Values"
   ]
  },
  {
   "cell_type": "code",
   "execution_count": 137,
   "id": "d7b970f9-1999-4bf6-91ee-8d4eb7eb7502",
   "metadata": {},
   "outputs": [
    {
     "data": {
      "text/plain": [
       "False"
      ]
     },
     "execution_count": 137,
     "metadata": {},
     "output_type": "execute_result"
    }
   ],
   "source": [
    "df.duplicated().any()"
   ]
  },
  {
   "cell_type": "markdown",
   "id": "5dcc3eee-e140-4fb3-bacd-4e84fbfdb64a",
   "metadata": {},
   "source": [
    "Tidak perlu handling duplicated values di karenakan tidak ada value duplikat"
   ]
  },
  {
   "cell_type": "markdown",
   "id": "16ca820a-cfa1-48e2-870f-1aed59310ed6",
   "metadata": {},
   "source": [
    "### Penanganan Outliers "
   ]
  },
  {
   "cell_type": "markdown",
   "id": "da8cedba-b789-4080-8f2e-520ed897ef58",
   "metadata": {},
   "source": [
    "Kami mempertimbangkan untuk  penanganan outliers menggunakan Z-score untuk menentukan seberapa jauh suatu data berada dari rata-rata, dengan Z-score tinggi dianggap sebagai outlier atau nilai ekstrem , kami mempertimbangkan dengan memilih z-score dikarenakan kami tidak ingin kehilangan banyak data. Dikarenakan data nya tidak berdistribusi normal maka kami melakukan log transformasi terlebih dahulu."
   ]
  },
  {
   "cell_type": "code",
   "execution_count": 3,
   "id": "9bc771dd",
   "metadata": {},
   "outputs": [
    {
     "name": "stdout",
     "output_type": "stream",
     "text": [
      "balance contains 3766 negative values\n",
      "pdays contains 36954 negative values\n"
     ]
    }
   ],
   "source": [
    "for i in nums:\n",
    "    if (df[i] < 0).any():\n",
    "        print(f'{i} contains {len(df[df[i] < 0])} negative values')"
   ]
  },
  {
   "cell_type": "markdown",
   "id": "3f3293a6",
   "metadata": {},
   "source": [
    "Fitur balance dan pdays dengan nilai negatif akan kami substitusi dengan nilai 0 atas penilaian nasabah tidak memiliki saldo dalam rekening dan nasabah belum pernah dikontak atau diberikan marketing campaign sebelumnya "
   ]
  },
  {
   "cell_type": "code",
   "execution_count": 458,
   "id": "350a0c78-4b0a-43f6-8561-3cf21f7dd473",
   "metadata": {},
   "outputs": [
    {
     "name": "stdout",
     "output_type": "stream",
     "text": [
      "Total negative value of age: 0\n",
      "Total negative value of balance: 0\n",
      "Total negative value of day: 0\n",
      "Total negative value of duration: 0\n",
      "Total negative value of campaign: 0\n",
      "Total negative value of pdays: 0\n",
      "Total negative value of previous: 0\n"
     ]
    }
   ],
   "source": [
    "for i in nums:\n",
    "    if (df[i] < 0).any():\n",
    "        df[i] = df.apply(lambda x : int(0) if int(x[i]) < 0 else x[i], axis = 1)\n",
    "    print(f\"Total negative value of {i}:\", (df[i] < 0).sum())"
   ]
  },
  {
   "cell_type": "markdown",
   "id": "4079f53c-c429-4f49-bd36-f66fa303c62a",
   "metadata": {},
   "source": [
    "Sebelum melakukan log transformasi, dicek terlebih dahulu agar tidak ada negatif values ketika log transformasi"
   ]
  },
  {
   "cell_type": "code",
   "execution_count": 459,
   "id": "d797fdc3-2b7c-40d9-9099-44109f1ada9d",
   "metadata": {},
   "outputs": [],
   "source": [
    "for i in nums:\n",
    "    if i not in ['age', 'day']:\n",
    "        df[i] = np.log(df[i] + (df[df[i] > 0][i].min() / 2))"
   ]
  },
  {
   "cell_type": "markdown",
   "id": "30541176",
   "metadata": {},
   "source": [
    "Log transform diaplikasikan pada seluruh kolom numeric dengan mayoritas distribusi data positively skewed kecuali fitur age dan day dimana distribusi data cukup normal"
   ]
  },
  {
   "cell_type": "code",
   "execution_count": 140,
   "id": "01541116-1e01-41c6-ba81-b4a3aedad34d",
   "metadata": {},
   "outputs": [
    {
     "data": {
      "text/html": [
       "<div>\n",
       "<style scoped>\n",
       "    .dataframe tbody tr th:only-of-type {\n",
       "        vertical-align: middle;\n",
       "    }\n",
       "\n",
       "    .dataframe tbody tr th {\n",
       "        vertical-align: top;\n",
       "    }\n",
       "\n",
       "    .dataframe thead th {\n",
       "        text-align: right;\n",
       "    }\n",
       "</style>\n",
       "<table border=\"1\" class=\"dataframe\">\n",
       "  <thead>\n",
       "    <tr style=\"text-align: right;\">\n",
       "      <th></th>\n",
       "      <th>age</th>\n",
       "      <th>balance</th>\n",
       "      <th>day</th>\n",
       "      <th>duration</th>\n",
       "      <th>campaign</th>\n",
       "      <th>pdays</th>\n",
       "      <th>previous</th>\n",
       "    </tr>\n",
       "  </thead>\n",
       "  <tbody>\n",
       "    <tr>\n",
       "      <th>count</th>\n",
       "      <td>45211.000000</td>\n",
       "      <td>45211.000000</td>\n",
       "      <td>45211.000000</td>\n",
       "      <td>45211.000000</td>\n",
       "      <td>45211.000000</td>\n",
       "      <td>45211.000000</td>\n",
       "      <td>45211.000000</td>\n",
       "    </tr>\n",
       "    <tr>\n",
       "      <th>mean</th>\n",
       "      <td>40.936210</td>\n",
       "      <td>5.199427</td>\n",
       "      <td>15.806419</td>\n",
       "      <td>5.167016</td>\n",
       "      <td>0.963267</td>\n",
       "      <td>0.389388</td>\n",
       "      <td>-0.373537</td>\n",
       "    </tr>\n",
       "    <tr>\n",
       "      <th>std</th>\n",
       "      <td>10.618762</td>\n",
       "      <td>3.007085</td>\n",
       "      <td>8.322476</td>\n",
       "      <td>0.927908</td>\n",
       "      <td>0.590519</td>\n",
       "      <td>2.311494</td>\n",
       "      <td>0.727591</td>\n",
       "    </tr>\n",
       "    <tr>\n",
       "      <th>min</th>\n",
       "      <td>18.000000</td>\n",
       "      <td>-0.693147</td>\n",
       "      <td>1.000000</td>\n",
       "      <td>-0.693147</td>\n",
       "      <td>0.405465</td>\n",
       "      <td>-0.693147</td>\n",
       "      <td>-0.693147</td>\n",
       "    </tr>\n",
       "    <tr>\n",
       "      <th>25%</th>\n",
       "      <td>33.000000</td>\n",
       "      <td>4.283587</td>\n",
       "      <td>8.000000</td>\n",
       "      <td>4.639572</td>\n",
       "      <td>0.405465</td>\n",
       "      <td>-0.693147</td>\n",
       "      <td>-0.693147</td>\n",
       "    </tr>\n",
       "    <tr>\n",
       "      <th>50%</th>\n",
       "      <td>39.000000</td>\n",
       "      <td>6.105909</td>\n",
       "      <td>16.000000</td>\n",
       "      <td>5.195731</td>\n",
       "      <td>0.916291</td>\n",
       "      <td>-0.693147</td>\n",
       "      <td>-0.693147</td>\n",
       "    </tr>\n",
       "    <tr>\n",
       "      <th>75%</th>\n",
       "      <td>48.000000</td>\n",
       "      <td>7.264380</td>\n",
       "      <td>21.000000</td>\n",
       "      <td>5.766757</td>\n",
       "      <td>1.252763</td>\n",
       "      <td>-0.693147</td>\n",
       "      <td>-0.693147</td>\n",
       "    </tr>\n",
       "    <tr>\n",
       "      <th>max</th>\n",
       "      <td>95.000000</td>\n",
       "      <td>11.533977</td>\n",
       "      <td>31.000000</td>\n",
       "      <td>8.500759</td>\n",
       "      <td>4.151040</td>\n",
       "      <td>6.770216</td>\n",
       "      <td>5.618588</td>\n",
       "    </tr>\n",
       "  </tbody>\n",
       "</table>\n",
       "</div>"
      ],
      "text/plain": [
       "                age       balance           day      duration      campaign  \\\n",
       "count  45211.000000  45211.000000  45211.000000  45211.000000  45211.000000   \n",
       "mean      40.936210      5.199427     15.806419      5.167016      0.963267   \n",
       "std       10.618762      3.007085      8.322476      0.927908      0.590519   \n",
       "min       18.000000     -0.693147      1.000000     -0.693147      0.405465   \n",
       "25%       33.000000      4.283587      8.000000      4.639572      0.405465   \n",
       "50%       39.000000      6.105909     16.000000      5.195731      0.916291   \n",
       "75%       48.000000      7.264380     21.000000      5.766757      1.252763   \n",
       "max       95.000000     11.533977     31.000000      8.500759      4.151040   \n",
       "\n",
       "              pdays      previous  \n",
       "count  45211.000000  45211.000000  \n",
       "mean       0.389388     -0.373537  \n",
       "std        2.311494      0.727591  \n",
       "min       -0.693147     -0.693147  \n",
       "25%       -0.693147     -0.693147  \n",
       "50%       -0.693147     -0.693147  \n",
       "75%       -0.693147     -0.693147  \n",
       "max        6.770216      5.618588  "
      ]
     },
     "execution_count": 140,
     "metadata": {},
     "output_type": "execute_result"
    }
   ],
   "source": [
    "df.describe()"
   ]
  },
  {
   "cell_type": "markdown",
   "id": "1e171596-2696-4bf2-9990-cc73714b70e4",
   "metadata": {},
   "source": [
    "Terlihat dari `df.describe()` bahwa data sudah berdistribusi normal"
   ]
  },
  {
   "cell_type": "code",
   "execution_count": 460,
   "id": "69478505-6f8f-40ab-8a27-999237747915",
   "metadata": {},
   "outputs": [
    {
     "name": "stdout",
     "output_type": "stream",
     "text": [
      "Before removing outlier:  45211\n",
      "After removing outlier:  43173\n"
     ]
    }
   ],
   "source": [
    "from scipy import stats\n",
    "\n",
    "print(\"Before removing outlier: \", len(df))\n",
    "\n",
    "for i in nums:\n",
    "    if i not in ['age', 'day']:\n",
    "        z_scores = np.abs(stats.zscore(df[i]))\n",
    "        df = df[z_scores <= 3]\n",
    "\n",
    "print(\"After removing outlier: \", len(df))"
   ]
  },
  {
   "cell_type": "markdown",
   "id": "b625e7b6-4c41-4b54-8dfe-c8122a6b0549",
   "metadata": {},
   "source": [
    "Setelah removing outlier dengan zscore terdapat 2.038 data yang di remove"
   ]
  },
  {
   "cell_type": "markdown",
   "id": "06a13864-085e-4780-9867-fd9b3546a271",
   "metadata": {},
   "source": [
    "### Normalization Transformation"
   ]
  },
  {
   "cell_type": "markdown",
   "id": "ace34880-6389-4465-963e-d03adce1b379",
   "metadata": {},
   "source": [
    "Seebelum dilakukan scalling dengan normalization, data perlu di split terlebih dahulu, menjadi train dan test"
   ]
  },
  {
   "cell_type": "code",
   "execution_count": 461,
   "id": "3dc43212-264d-4877-ad16-1b5225b47342",
   "metadata": {},
   "outputs": [],
   "source": [
    "X = df.drop(columns=['y']).copy()\n",
    "y = df[['y']].copy()\n",
    "\n",
    "from sklearn.model_selection import train_test_split\n",
    "\n",
    "X_train, X_test, y_train, y_test = train_test_split(X, y, test_size = 0.3)"
   ]
  },
  {
   "cell_type": "code",
   "execution_count": 462,
   "id": "66a3d028-2a54-442c-84ce-32ac7e662e6c",
   "metadata": {},
   "outputs": [],
   "source": [
    "from sklearn.preprocessing import MinMaxScaler\n",
    "\n",
    "scaler = MinMaxScaler()\n",
    "for i in list(X_train.select_dtypes(include = ['int64', 'float64']).columns):\n",
    "    fitted = scaler.fit(X_train[[i]])\n",
    "    X_train[i] = fitted.transform(X_train[[i]])\n",
    "    X_test[i] = fitted.transform(X_test[[i]])"
   ]
  },
  {
   "cell_type": "markdown",
   "id": "5d93f05d",
   "metadata": {},
   "source": [
    "Drop fitur education dengan unknown value karena kurang dapat memberikan informasi dan hanya mencakup 4.1% dari samples"
   ]
  },
  {
   "cell_type": "code",
   "execution_count": 32,
   "id": "3fea717b",
   "metadata": {},
   "outputs": [
    {
     "name": "stdout",
     "output_type": "stream",
     "text": [
      "education unknown: 4.1%\n"
     ]
    }
   ],
   "source": [
    "for i in ['education']:\n",
    "    if len(df[df[i].isin(['unknown'])]) > 0:\n",
    "        print(f\"{i} unknown: {round(len(df[df[i].isin(['unknown'])]) / len(df) * 100, 2)}%\")"
   ]
  },
  {
   "cell_type": "code",
   "execution_count": 463,
   "id": "e73e9511-e3d6-404a-8451-7ce13407a9fb",
   "metadata": {},
   "outputs": [],
   "source": [
    "train = pd.concat([X_train, y_train], axis = 1)\n",
    "test = pd.concat([X_test, y_test], axis = 1)\n",
    "\n",
    "train = train[train['education'] != 'unknown']\n",
    "test = test[test['education'] != 'unknown']\n",
    "train = train[train['job'] != 'unknown']\n",
    "test = test[test['job'] != 'unknown']\n",
    "\n",
    "X_train = train.drop(columns=['y'])\n",
    "y_train = train[['y']]\n",
    "\n",
    "X_test = test.drop(columns=['y'])\n",
    "y_test = test[['y']]"
   ]
  },
  {
   "cell_type": "markdown",
   "id": "59929d6c-ac1f-4c71-8d55-9531eaa3e1c9",
   "metadata": {},
   "source": [
    "### Lable Encoding & One Hot Encoding"
   ]
  },
  {
   "cell_type": "markdown",
   "id": "b4c8833d-efd8-491a-8ae3-9272b9d04c4b",
   "metadata": {},
   "source": [
    "Fitur-fitur kategorikal perlu di-encode menjadi representasi numerik agar dapat digunakan dalam model. dengan label encoding pada kolom `education`, `default`, `housing`, `loan` dan `month`. untuk kolom month di jadikan 4 kuartal menjadi 'month quarter'\n",
    "dan one hot encoding untuk kolom `job` dan `month quarter`"
   ]
  },
  {
   "cell_type": "code",
   "execution_count": 36,
   "id": "e84d707e",
   "metadata": {},
   "outputs": [
    {
     "data": {
      "text/html": [
       "<div>\n",
       "<style scoped>\n",
       "    .dataframe tbody tr th:only-of-type {\n",
       "        vertical-align: middle;\n",
       "    }\n",
       "\n",
       "    .dataframe tbody tr th {\n",
       "        vertical-align: top;\n",
       "    }\n",
       "\n",
       "    .dataframe thead th {\n",
       "        text-align: right;\n",
       "    }\n",
       "</style>\n",
       "<table border=\"1\" class=\"dataframe\">\n",
       "  <thead>\n",
       "    <tr style=\"text-align: right;\">\n",
       "      <th></th>\n",
       "      <th>pdays</th>\n",
       "      <th>previous</th>\n",
       "    </tr>\n",
       "  </thead>\n",
       "  <tbody>\n",
       "    <tr>\n",
       "      <th>pdays</th>\n",
       "      <td>1.000000</td>\n",
       "      <td>0.946205</td>\n",
       "    </tr>\n",
       "    <tr>\n",
       "      <th>previous</th>\n",
       "      <td>0.946205</td>\n",
       "      <td>1.000000</td>\n",
       "    </tr>\n",
       "  </tbody>\n",
       "</table>\n",
       "</div>"
      ],
      "text/plain": [
       "             pdays  previous\n",
       "pdays     1.000000  0.946205\n",
       "previous  0.946205  1.000000"
      ]
     },
     "execution_count": 36,
     "metadata": {},
     "output_type": "execute_result"
    }
   ],
   "source": [
    "df[['pdays', 'previous']].corr()"
   ]
  },
  {
   "cell_type": "markdown",
   "id": "a0f33200",
   "metadata": {},
   "source": [
    "Antara kolom pdays dan previous rentan terjadi multicollinearity sehingga perlu ditentukan salah satu untuk menjadi fitur penentu"
   ]
  },
  {
   "cell_type": "code",
   "execution_count": 464,
   "id": "1e99fe63-bfb1-45b0-b5f9-ad94ee6baee2",
   "metadata": {},
   "outputs": [],
   "source": [
    "X_train['is_married'] = X_train['marital'].apply(lambda x : 1 if x == 'married' else 0)\n",
    "\n",
    "X_test['is_married'] = X_test['marital'].apply(lambda x : 1 if x == 'married' else 0)\n",
    "\n",
    "X_train['education_mapped'] = X_train['education'].map({'primary' : 0,\n",
    "                                                        'secondary' : 1,\n",
    "                                                        'tertiary' : 2})\n",
    "\n",
    "X_test['education_mapped'] = X_test['education'].map({'primary' : 0,\n",
    "                                                      'secondary' : 1,\n",
    "                                                      'tertiary' : 2})\n",
    "\n",
    "X_train['is_default'] = X_train['default'].map({'no' : 0,\n",
    "                                                'yes' : 1})\n",
    "\n",
    "X_test['is_default'] = X_test['default'].map({'no' : 0,\n",
    "                                              'yes' : 1})\n",
    "\n",
    "X_train['is_housing'] = X_train['housing'].map({'no' : 0,\n",
    "                                                'yes' : 1})\n",
    "\n",
    "X_test['is_housing'] = X_test['housing'].map({'no' : 0,\n",
    "                                              'yes' : 1})\n",
    "\n",
    "X_train['is_loan'] = X_train['loan'].map({'no' : 0,\n",
    "                                          'yes' : 1})\n",
    "\n",
    "X_test['is_loan'] = X_test['loan'].map({'no' : 0,\n",
    "                                        'yes' : 1})\n",
    "\n",
    "X_train['is_poutcome_succcess'] = X_train['poutcome'].apply(lambda x : 1 if x == 'success' else 0)\n",
    "\n",
    "X_test['is_poutcome_succcess'] = X_test['poutcome'].apply(lambda x : 1 if x == 'success' else 0)\n",
    "\n",
    "y_train['y'] = y_train['y'].map({'no' : 0,\n",
    "                                 'yes' : 1})\n",
    "\n",
    "y_test['y'] = y_test['y'].map({'no' : 0,\n",
    "                               'yes' : 1})"
   ]
  },
  {
   "cell_type": "code",
   "execution_count": 465,
   "id": "f64753d3-d0ab-4080-a83f-59c89483e82e",
   "metadata": {},
   "outputs": [],
   "source": [
    "for i in ['job']:\n",
    "    X_train = pd.concat([X_train, pd.get_dummies(X_train[i], prefix = i)], axis = 1)\n",
    "    X_test = pd.concat([X_test, pd.get_dummies(X_test[i], prefix = i)], axis = 1)"
   ]
  },
  {
   "cell_type": "code",
   "execution_count": 364,
   "id": "693adc7b-e1cb-496b-b28a-e92572349115",
   "metadata": {},
   "outputs": [],
   "source": [
    "X_train = X_train.drop(columns = list(X_train.select_dtypes(include = ['object']).columns) +\\\n",
    "                       ['contact', 'day', 'month', 'duration', 'campaign', 'pdays'])\n",
    "X_test = X_test.drop(columns = list(X_test.select_dtypes(include = ['object']).columns) +\\\n",
    "                     ['contact', 'day', 'month', 'duration', 'campaign', 'pdays'])"
   ]
  },
  {
   "cell_type": "code",
   "execution_count": 331,
   "id": "a3372295-5a23-4a20-b479-fbdf091fa537",
   "metadata": {},
   "outputs": [
    {
     "data": {
      "text/plain": [
       "20"
      ]
     },
     "metadata": {},
     "output_type": "display_data"
    },
    {
     "data": {
      "text/plain": [
       "(Index(['age', 'balance', 'previous', 'is_married', 'education_mapped',\n",
       "        'is_default', 'is_housing', 'is_loan', 'is_poutcome_succcess',\n",
       "        'job_admin.', 'job_blue-collar', 'job_entrepreneur', 'job_housemaid',\n",
       "        'job_management', 'job_retired', 'job_self-employed', 'job_services',\n",
       "        'job_student', 'job_technician', 'job_unemployed'],\n",
       "       dtype='object'),\n",
       " None)"
      ]
     },
     "execution_count": 331,
     "metadata": {},
     "output_type": "execute_result"
    }
   ],
   "source": [
    "X_train.columns, display(len(X_train.columns))"
   ]
  },
  {
   "cell_type": "markdown",
   "id": "1e5ea9e8-ae4c-4ebd-a07b-aef1996c49ff",
   "metadata": {},
   "source": [
    "### Class Imbalance"
   ]
  },
  {
   "cell_type": "code",
   "execution_count": 365,
   "id": "d64f6fd5-64c8-4122-a3b1-1aa64c066551",
   "metadata": {},
   "outputs": [],
   "source": [
    "from imblearn import over_sampling\n",
    "\n",
    "X_train_over, y_train_over = over_sampling.SMOTE().fit_resample(X_train, y_train)"
   ]
  },
  {
   "cell_type": "code",
   "execution_count": 366,
   "id": "e7a1d49f-a752-4b31-9dd8-c499941b3513",
   "metadata": {},
   "outputs": [
    {
     "data": {
      "text/plain": [
       "(50950, 50950, 28840, 28840, 12408, 12408)"
      ]
     },
     "execution_count": 366,
     "metadata": {},
     "output_type": "execute_result"
    }
   ],
   "source": [
    "len(X_train_over), len(y_train_over), len(X_train), len(y_train), len(X_test), len(y_test)"
   ]
  },
  {
   "cell_type": "markdown",
   "id": "176b0219",
   "metadata": {},
   "source": [
    "### Feature Selection"
   ]
  },
  {
   "cell_type": "markdown",
   "id": "56bb76ab",
   "metadata": {},
   "source": [
    "Pemilihan fitur dilakukan secara iteratif menggunakan 3 pendekatan yaitu RFE, SelectKBest dan Feature Importance. Hasil yang digunakan merupakan irisan dari ketiga metode tersebut<br>\n",
    "\n",
    "Berdasarkan hasil evaluasi model menggunakan n_features = 20 akan diperoleh cofficient untuk setiap fitur kemudian disortir berdasarkan kepentingannya terhadap prediksi"
   ]
  },
  {
   "cell_type": "markdown",
   "id": "b7fc341e",
   "metadata": {},
   "source": [
    "#### Initial n_features = 20"
   ]
  },
  {
   "cell_type": "code",
   "execution_count": 376,
   "id": "a08c6783",
   "metadata": {},
   "outputs": [
    {
     "name": "stdout",
     "output_type": "stream",
     "text": [
      "20 Features Logistic Regression Evaluation Result\n",
      "Accuracy (Train Set): 0.70\n",
      "Accuracy (Test Set): 0.70\n",
      "Precision (Train Set): 0.22\n",
      "Precision (Test Set): 0.20\n",
      "Recall (Train Set): 0.61\n",
      "Recall (Test Set): 0.60\n",
      "F1-Score (Train Set): 0.32\n",
      "F1-Score (Test Set): 0.30\n",
      "\n",
      "20 Features KNN Classifier Evaluation Result\n",
      "Accuracy (Train Set): 0.81\n",
      "Accuracy (Test Set): 0.70\n",
      "Precision (Train Set): 0.37\n",
      "Precision (Test Set): 0.18\n",
      "Recall (Train Set): 0.89\n",
      "Recall (Test Set): 0.48\n",
      "F1-Score (Train Set): 0.53\n",
      "F1-Score (Test Set): 0.26\n",
      "\n",
      "20 Features Decision Tree Classifier Evaluation Result\n",
      "Accuracy (Train Set): 0.99\n",
      "Accuracy (Test Set): 0.78\n",
      "Precision (Train Set): 1.00\n",
      "Precision (Test Set): 0.20\n",
      "Recall (Train Set): 0.95\n",
      "Recall (Test Set): 0.31\n",
      "F1-Score (Train Set): 0.97\n",
      "F1-Score (Test Set): 0.24\n",
      "\n",
      "20 Features Random Forest Classifier Evaluation Result\n",
      "Accuracy (Train Set): 0.99\n",
      "Accuracy (Test Set): 0.79\n",
      "Precision (Train Set): 0.98\n",
      "Precision (Test Set): 0.22\n",
      "Recall (Train Set): 0.96\n",
      "Recall (Test Set): 0.33\n",
      "F1-Score (Train Set): 0.97\n",
      "F1-Score (Test Set): 0.26\n",
      "\n",
      "20 Features AdaBoost Classifier Evaluation Result\n",
      "Accuracy (Train Set): 0.73\n",
      "Accuracy (Test Set): 0.73\n",
      "Precision (Train Set): 0.23\n",
      "Precision (Test Set): 0.22\n",
      "Recall (Train Set): 0.57\n",
      "Recall (Test Set): 0.57\n",
      "F1-Score (Train Set): 0.33\n",
      "F1-Score (Test Set): 0.31\n",
      "\n",
      "20 Features XGBoost Classifier Evaluation Result\n",
      "Accuracy (Train Set): 0.90\n",
      "Accuracy (Test Set): 0.89\n",
      "Precision (Train Set): 0.65\n",
      "Precision (Test Set): 0.46\n",
      "Recall (Train Set): 0.31\n",
      "Recall (Test Set): 0.22\n",
      "F1-Score (Train Set): 0.42\n",
      "F1-Score (Test Set): 0.29\n",
      "\n"
     ]
    }
   ],
   "source": [
    "eval_classification()"
   ]
  },
  {
   "cell_type": "markdown",
   "id": "e9b4cfc4",
   "metadata": {},
   "source": [
    "Coefficient yang diperoleh model menggunakan 20 fitur akan dirampingkan menjadi 18 fitur dengan tingkatan tertinggi"
   ]
  },
  {
   "cell_type": "code",
   "execution_count": 367,
   "id": "bd830fca",
   "metadata": {},
   "outputs": [
    {
     "data": {
      "text/plain": [
       "<matplotlib.legend.Legend at 0x1ef3f2df910>"
      ]
     },
     "execution_count": 367,
     "metadata": {},
     "output_type": "execute_result"
    },
    {
     "data": {
      "image/png": "[encoded data removed]",
      "text/plain": [
       "<Figure size 600x450 with 1 Axes>"
      ]
     },
     "metadata": {},
     "output_type": "display_data"
    }
   ],
   "source": [
    "model = LogisticRegression()\n",
    "model.fit(X_train_over, y_train_over)\n",
    "\n",
    "importance = np.abs(model.coef_)\n",
    "feature_names = np.array(X_train.columns)\n",
    "plt.figure(figsize = (6, 4.5), facecolor='#e8e6e1')\n",
    "ax = plt.axes()\n",
    "ax.set_facecolor('#f1f2f2')\n",
    "pd.DataFrame(list(zip(list(X_train.columns), list(model.coef_[0]))), columns = ['feature', 'coef'])\\\n",
    "            .sort_values(by = ['coef'], ascending = True).reset_index(drop = True)\\\n",
    "            .plot(x = 'feature', kind = 'barh', fontsize = 8, ax = ax)\n",
    "plt.title(\"Feature importances via coefficients\")\n",
    "plt.xlabel('coefficient')\n",
    "plt.legend(loc = 'center right')"
   ]
  },
  {
   "cell_type": "markdown",
   "id": "240cb73a",
   "metadata": {},
   "source": [
    "Hasil perampingan 18 fitur berdasarkan cofficient hasil modeling"
   ]
  },
  {
   "cell_type": "code",
   "execution_count": 381,
   "id": "875306cc",
   "metadata": {},
   "outputs": [
    {
     "data": {
      "text/plain": [
       "array(['is_poutcome_succcess', 'is_default', 'job_entrepreneur',\n",
       "       'job_housemaid', 'job_services', 'job_self-employed', 'balance',\n",
       "       'job_blue-collar', 'job_technician', 'job_management',\n",
       "       'job_unemployed', 'job_admin.', 'is_housing', 'age', 'is_loan',\n",
       "       'previous', 'job_student', 'is_married'], dtype=object)"
      ]
     },
     "execution_count": 381,
     "metadata": {},
     "output_type": "execute_result"
    }
   ],
   "source": [
    "feat_imp_18 = pd.DataFrame(list(zip(list(X_train.columns), list(np.abs(model.coef_[0])))), columns = ['feature', 'coef'])\\\n",
    "                            .sort_values(by = ['coef'], ascending = False).reset_index(drop = True)[:18]['feature'].to_numpy()\n",
    "feat_imp_18"
   ]
  },
  {
   "cell_type": "markdown",
   "id": "1b871f74",
   "metadata": {},
   "source": [
    "Nilai coefficient untuk setiap fitur yang telah dikonversi dan disortir secara rinci kedalam dataframe"
   ]
  },
  {
   "cell_type": "code",
   "execution_count": 370,
   "id": "93f23b86",
   "metadata": {
    "scrolled": true
   },
   "outputs": [
    {
     "data": {
      "text/html": [
       "<div>\n",
       "<style scoped>\n",
       "    .dataframe tbody tr th:only-of-type {\n",
       "        vertical-align: middle;\n",
       "    }\n",
       "\n",
       "    .dataframe tbody tr th {\n",
       "        vertical-align: top;\n",
       "    }\n",
       "\n",
       "    .dataframe thead th {\n",
       "        text-align: right;\n",
       "    }\n",
       "</style>\n",
       "<table border=\"1\" class=\"dataframe\">\n",
       "  <thead>\n",
       "    <tr style=\"text-align: right;\">\n",
       "      <th></th>\n",
       "      <th>feature</th>\n",
       "      <th>coef</th>\n",
       "    </tr>\n",
       "  </thead>\n",
       "  <tbody>\n",
       "    <tr>\n",
       "      <th>0</th>\n",
       "      <td>is_poutcome_succcess</td>\n",
       "      <td>2.215788</td>\n",
       "    </tr>\n",
       "    <tr>\n",
       "      <th>1</th>\n",
       "      <td>is_default</td>\n",
       "      <td>1.262718</td>\n",
       "    </tr>\n",
       "    <tr>\n",
       "      <th>2</th>\n",
       "      <td>job_entrepreneur</td>\n",
       "      <td>1.105255</td>\n",
       "    </tr>\n",
       "    <tr>\n",
       "      <th>3</th>\n",
       "      <td>job_housemaid</td>\n",
       "      <td>1.076766</td>\n",
       "    </tr>\n",
       "    <tr>\n",
       "      <th>4</th>\n",
       "      <td>job_services</td>\n",
       "      <td>1.029277</td>\n",
       "    </tr>\n",
       "    <tr>\n",
       "      <th>5</th>\n",
       "      <td>job_self-employed</td>\n",
       "      <td>1.001234</td>\n",
       "    </tr>\n",
       "    <tr>\n",
       "      <th>6</th>\n",
       "      <td>balance</td>\n",
       "      <td>0.986398</td>\n",
       "    </tr>\n",
       "    <tr>\n",
       "      <th>7</th>\n",
       "      <td>job_blue-collar</td>\n",
       "      <td>0.962579</td>\n",
       "    </tr>\n",
       "    <tr>\n",
       "      <th>8</th>\n",
       "      <td>job_technician</td>\n",
       "      <td>0.945795</td>\n",
       "    </tr>\n",
       "    <tr>\n",
       "      <th>9</th>\n",
       "      <td>job_management</td>\n",
       "      <td>0.890587</td>\n",
       "    </tr>\n",
       "    <tr>\n",
       "      <th>10</th>\n",
       "      <td>job_unemployed</td>\n",
       "      <td>0.762144</td>\n",
       "    </tr>\n",
       "    <tr>\n",
       "      <th>11</th>\n",
       "      <td>job_admin.</td>\n",
       "      <td>0.752620</td>\n",
       "    </tr>\n",
       "    <tr>\n",
       "      <th>12</th>\n",
       "      <td>is_housing</td>\n",
       "      <td>0.683887</td>\n",
       "    </tr>\n",
       "    <tr>\n",
       "      <th>13</th>\n",
       "      <td>age</td>\n",
       "      <td>0.520601</td>\n",
       "    </tr>\n",
       "    <tr>\n",
       "      <th>14</th>\n",
       "      <td>is_loan</td>\n",
       "      <td>0.493546</td>\n",
       "    </tr>\n",
       "    <tr>\n",
       "      <th>15</th>\n",
       "      <td>previous</td>\n",
       "      <td>0.490354</td>\n",
       "    </tr>\n",
       "    <tr>\n",
       "      <th>16</th>\n",
       "      <td>job_student</td>\n",
       "      <td>0.397845</td>\n",
       "    </tr>\n",
       "    <tr>\n",
       "      <th>17</th>\n",
       "      <td>is_married</td>\n",
       "      <td>0.320680</td>\n",
       "    </tr>\n",
       "    <tr>\n",
       "      <th>18</th>\n",
       "      <td>job_retired</td>\n",
       "      <td>0.184830</td>\n",
       "    </tr>\n",
       "    <tr>\n",
       "      <th>19</th>\n",
       "      <td>education_mapped</td>\n",
       "      <td>0.170651</td>\n",
       "    </tr>\n",
       "  </tbody>\n",
       "</table>\n",
       "</div>"
      ],
      "text/plain": [
       "                 feature      coef\n",
       "0   is_poutcome_succcess  2.215788\n",
       "1             is_default  1.262718\n",
       "2       job_entrepreneur  1.105255\n",
       "3          job_housemaid  1.076766\n",
       "4           job_services  1.029277\n",
       "5      job_self-employed  1.001234\n",
       "6                balance  0.986398\n",
       "7        job_blue-collar  0.962579\n",
       "8         job_technician  0.945795\n",
       "9         job_management  0.890587\n",
       "10        job_unemployed  0.762144\n",
       "11            job_admin.  0.752620\n",
       "12            is_housing  0.683887\n",
       "13                   age  0.520601\n",
       "14               is_loan  0.493546\n",
       "15              previous  0.490354\n",
       "16           job_student  0.397845\n",
       "17            is_married  0.320680\n",
       "18           job_retired  0.184830\n",
       "19      education_mapped  0.170651"
      ]
     },
     "execution_count": 370,
     "metadata": {},
     "output_type": "execute_result"
    }
   ],
   "source": [
    "pd.DataFrame(list(zip(list(X_train.columns), list(np.abs(model.coef_[0])))), columns = ['feature', 'coef'])\\\n",
    "                            .sort_values(by = ['coef'], ascending = False).reset_index(drop = True)"
   ]
  },
  {
   "cell_type": "markdown",
   "id": "db32cf72",
   "metadata": {},
   "source": [
    "Hasil pemeringkatan 18 fitur teratas menggunakan metode SelectKBest"
   ]
  },
  {
   "cell_type": "code",
   "execution_count": 379,
   "id": "3cf5b9b1",
   "metadata": {},
   "outputs": [
    {
     "data": {
      "text/plain": [
       "array(['age', 'balance', 'previous', 'is_married', 'education_mapped',\n",
       "       'is_default', 'is_housing', 'is_loan', 'is_poutcome_succcess',\n",
       "       'job_blue-collar', 'job_entrepreneur', 'job_housemaid',\n",
       "       'job_management', 'job_retired', 'job_services', 'job_student',\n",
       "       'job_technician', 'job_unemployed'], dtype=object)"
      ]
     },
     "execution_count": 379,
     "metadata": {},
     "output_type": "execute_result"
    }
   ],
   "source": [
    "from sklearn.feature_selection import SelectKBest, f_classif\n",
    "\n",
    "k_best_18 = SelectKBest(score_func = f_classif, k = 18).fit(X_train_over, y_train_over).get_feature_names_out()\n",
    "k_best_18"
   ]
  },
  {
   "cell_type": "markdown",
   "id": "35c6ac91",
   "metadata": {},
   "source": [
    "Susunan fitur hasil eliminasi features coefficient terkecil menggunakan RFE  menghasilkan 18 fitur dengan score tertinggi"
   ]
  },
  {
   "cell_type": "code",
   "execution_count": 380,
   "id": "c844a235",
   "metadata": {},
   "outputs": [
    {
     "data": {
      "text/plain": [
       "array(['age', 'balance', 'previous', 'is_married', 'is_default',\n",
       "       'is_housing', 'is_loan', 'is_poutcome_succcess', 'job_admin.',\n",
       "       'job_blue-collar', 'job_entrepreneur', 'job_housemaid',\n",
       "       'job_management', 'job_self-employed', 'job_services',\n",
       "       'job_student', 'job_technician', 'job_unemployed'], dtype=object)"
      ]
     },
     "execution_count": 380,
     "metadata": {},
     "output_type": "execute_result"
    }
   ],
   "source": [
    "from sklearn.feature_selection import RFE\n",
    "\n",
    "selector = RFE(estimator = LogisticRegression(), n_features_to_select = 18, step = 1)\n",
    "selector = selector.fit(X_train_over, y_train_over)\n",
    "rfe_18 = selector.get_feature_names_out()\n",
    "rfe_18"
   ]
  },
  {
   "cell_type": "markdown",
   "id": "23a601cb",
   "metadata": {},
   "source": [
    "Irisan dari ketiga metode diatas diperoleh 16 fitur temporer yang akan dilakukan repetisi feature selection pada tahap berikutnya"
   ]
  },
  {
   "cell_type": "code",
   "execution_count": 382,
   "id": "e8bb8bc4",
   "metadata": {},
   "outputs": [
    {
     "data": {
      "text/plain": [
       "16"
      ]
     },
     "metadata": {},
     "output_type": "display_data"
    },
    {
     "data": {
      "text/plain": [
       "(array(['is_poutcome_succcess', 'is_default', 'job_entrepreneur',\n",
       "        'job_housemaid', 'job_services', 'balance', 'job_blue-collar',\n",
       "        'job_technician', 'job_management', 'job_unemployed', 'is_housing',\n",
       "        'age', 'is_loan', 'previous', 'job_student', 'is_married'],\n",
       "       dtype='<U20'),\n",
       " None)"
      ]
     },
     "execution_count": 382,
     "metadata": {},
     "output_type": "execute_result"
    }
   ],
   "source": [
    "features = []\n",
    "\n",
    "for i in feat_imp_18:\n",
    "    for j in k_best_18:\n",
    "        for k in rfe_18:\n",
    "            if (i == j) and (j == k):\n",
    "                features.append(i)\n",
    "\n",
    "np.array(features), display(len(features))"
   ]
  },
  {
   "cell_type": "code",
   "execution_count": 452,
   "id": "6c1a96a1",
   "metadata": {},
   "outputs": [
    {
     "data": {
      "text/plain": [
       "16"
      ]
     },
     "metadata": {},
     "output_type": "display_data"
    },
    {
     "data": {
      "text/plain": [
       "(Index(['is_poutcome_succcess', 'is_default', 'job_entrepreneur',\n",
       "        'job_housemaid', 'job_services', 'balance', 'job_blue-collar',\n",
       "        'job_technician', 'job_management', 'job_unemployed', 'is_housing',\n",
       "        'age', 'is_loan', 'previous', 'job_student', 'is_married'],\n",
       "       dtype='object'),\n",
       " None)"
      ]
     },
     "execution_count": 452,
     "metadata": {},
     "output_type": "execute_result"
    }
   ],
   "source": [
    "X_train.columns, display(len(X_train.columns))"
   ]
  },
  {
   "cell_type": "markdown",
   "id": "3f966021",
   "metadata": {},
   "source": [
    "#### Temporal n_features = 16"
   ]
  },
  {
   "cell_type": "code",
   "execution_count": 467,
   "id": "12ec8d33",
   "metadata": {},
   "outputs": [],
   "source": [
    "from imblearn import over_sampling\n",
    "\n",
    "X_train_over, y_train_over = over_sampling.SMOTE().fit_resample(X_train, y_train)"
   ]
  },
  {
   "cell_type": "code",
   "execution_count": 468,
   "id": "37e661d5",
   "metadata": {},
   "outputs": [
    {
     "data": {
      "text/plain": [
       "(51124, 51124, 28868, 28868, 12380, 12380)"
      ]
     },
     "execution_count": 468,
     "metadata": {},
     "output_type": "execute_result"
    }
   ],
   "source": [
    "len(X_train_over), len(y_train_over), len(X_train), len(y_train), len(X_test), len(y_test)"
   ]
  },
  {
   "cell_type": "markdown",
   "id": "576d43e6",
   "metadata": {},
   "source": [
    "Reduksi fitur dari 20 menjadi 16 tidak menyebabkan performa model menurun secara signifikan berdasarkan hasil evaluasi berikut "
   ]
  },
  {
   "cell_type": "code",
   "execution_count": 481,
   "id": "a329a1c9",
   "metadata": {
    "scrolled": false
   },
   "outputs": [
    {
     "name": "stdout",
     "output_type": "stream",
     "text": [
      "16 Features Logistic Regression Evaluation Result\n",
      "Accuracy (Train Set): 0.69\n",
      "Accuracy (Test Set): 0.69\n",
      "Precision (Train Set): 0.21\n",
      "Precision (Test Set): 0.21\n",
      "Recall (Train Set): 0.61\n",
      "Recall (Test Set): 0.60\n",
      "F1-Score (Train Set): 0.31\n",
      "F1-Score (Test Set): 0.31\n",
      "\n",
      "16 Features KNN Classifier Evaluation Result\n",
      "Accuracy (Train Set): 0.82\n",
      "Accuracy (Test Set): 0.69\n",
      "Precision (Train Set): 0.38\n",
      "Precision (Test Set): 0.18\n",
      "Recall (Train Set): 0.89\n",
      "Recall (Test Set): 0.48\n",
      "F1-Score (Train Set): 0.53\n",
      "F1-Score (Test Set): 0.26\n",
      "\n",
      "16 Features Decision Tree Classifier Evaluation Result\n",
      "Accuracy (Train Set): 0.99\n",
      "Accuracy (Test Set): 0.80\n",
      "Precision (Train Set): 1.00\n",
      "Precision (Test Set): 0.20\n",
      "Recall (Train Set): 0.94\n",
      "Recall (Test Set): 0.26\n",
      "F1-Score (Train Set): 0.97\n",
      "F1-Score (Test Set): 0.23\n",
      "\n",
      "16 Features Random Forest Classifier Evaluation Result\n",
      "Accuracy (Train Set): 0.99\n",
      "Accuracy (Test Set): 0.80\n",
      "Precision (Train Set): 0.99\n",
      "Precision (Test Set): 0.23\n",
      "Recall (Train Set): 0.95\n",
      "Recall (Test Set): 0.33\n",
      "F1-Score (Train Set): 0.97\n",
      "F1-Score (Test Set): 0.27\n",
      "\n",
      "16 Features AdaBoost Classifier Evaluation Result\n",
      "Accuracy (Train Set): 0.73\n",
      "Accuracy (Test Set): 0.73\n",
      "Precision (Train Set): 0.23\n",
      "Precision (Test Set): 0.23\n",
      "Recall (Train Set): 0.57\n",
      "Recall (Test Set): 0.57\n",
      "F1-Score (Train Set): 0.33\n",
      "F1-Score (Test Set): 0.32\n",
      "\n",
      "16 Features XGBoost Classifier Evaluation Result\n",
      "Accuracy (Train Set): 0.90\n",
      "Accuracy (Test Set): 0.88\n",
      "Precision (Train Set): 0.62\n",
      "Precision (Test Set): 0.46\n",
      "Recall (Train Set): 0.32\n",
      "Recall (Test Set): 0.24\n",
      "F1-Score (Train Set): 0.42\n",
      "F1-Score (Test Set): 0.32\n",
      "\n"
     ]
    }
   ],
   "source": [
    "eval_classification()"
   ]
  },
  {
   "cell_type": "markdown",
   "id": "b92f8153",
   "metadata": {},
   "source": [
    "Coefficient yang diperoleh model menggunakan 16 fitur akan dirampingkan menjadi 12 fitur dengan tingkatan tertinggi"
   ]
  },
  {
   "cell_type": "code",
   "execution_count": 469,
   "id": "ed6c28f6",
   "metadata": {},
   "outputs": [
    {
     "data": {
      "text/plain": [
       "<matplotlib.legend.Legend at 0x1ef3fc3ee00>"
      ]
     },
     "execution_count": 469,
     "metadata": {},
     "output_type": "execute_result"
    },
    {
     "data": {
      "image/png": "[encoded data removed]",
      "text/plain": [
       "<Figure size 500x350 with 1 Axes>"
      ]
     },
     "metadata": {},
     "output_type": "display_data"
    }
   ],
   "source": [
    "model = LogisticRegression()\n",
    "model.fit(X_train_over, y_train_over)\n",
    "\n",
    "importance = np.abs(model.coef_)\n",
    "feature_names = np.array(X_train.columns)\n",
    "plt.figure(figsize = (5, 3.5), facecolor='#e8e6e1')\n",
    "ax = plt.axes()\n",
    "ax.set_facecolor('#f1f2f2')\n",
    "pd.DataFrame(list(zip(list(X_train.columns), list(model.coef_[0]))), columns = ['feature', 'coef'])\\\n",
    "            .sort_values(by = ['coef'], ascending = True).reset_index(drop = True)\\\n",
    "            .plot(x = 'feature', kind = 'barh', fontsize = 8, ax = ax)\n",
    "plt.title(\"Feature importances via coefficients\")\n",
    "plt.xlabel('coefficient')\n",
    "plt.legend(loc = 'center right')"
   ]
  },
  {
   "cell_type": "markdown",
   "id": "431e75ff",
   "metadata": {},
   "source": [
    "Hasil perampingan 12 fitur berdasarkan cofficient hasil modeling"
   ]
  },
  {
   "cell_type": "code",
   "execution_count": 476,
   "id": "2b102856",
   "metadata": {},
   "outputs": [
    {
     "data": {
      "text/plain": [
       "array(['is_poutcome_succcess', 'balance', 'is_default', 'job_housemaid',\n",
       "       'is_housing', 'previous', 'is_loan', 'job_services',\n",
       "       'job_blue-collar', 'job_entrepreneur', 'is_married', 'job_student'],\n",
       "      dtype=object)"
      ]
     },
     "execution_count": 476,
     "metadata": {},
     "output_type": "execute_result"
    }
   ],
   "source": [
    "feat_imp_12 = pd.DataFrame(list(zip(list(X_train.columns), list(np.abs(model.coef_[0])))), columns = ['feature', 'coef'])\\\n",
    "                            .sort_values(by = ['coef'], ascending = False).reset_index(drop = True)[:12]['feature'].to_numpy()\n",
    "feat_imp_12"
   ]
  },
  {
   "cell_type": "markdown",
   "id": "4ae0da11",
   "metadata": {},
   "source": [
    "Nilai coefficient untuk setiap fitur yang telah dikonversi dan disortir secara rinci kedalam dataframe"
   ]
  },
  {
   "cell_type": "code",
   "execution_count": 472,
   "id": "404fd668",
   "metadata": {
    "scrolled": true
   },
   "outputs": [
    {
     "data": {
      "text/html": [
       "<div>\n",
       "<style scoped>\n",
       "    .dataframe tbody tr th:only-of-type {\n",
       "        vertical-align: middle;\n",
       "    }\n",
       "\n",
       "    .dataframe tbody tr th {\n",
       "        vertical-align: top;\n",
       "    }\n",
       "\n",
       "    .dataframe thead th {\n",
       "        text-align: right;\n",
       "    }\n",
       "</style>\n",
       "<table border=\"1\" class=\"dataframe\">\n",
       "  <thead>\n",
       "    <tr style=\"text-align: right;\">\n",
       "      <th></th>\n",
       "      <th>feature</th>\n",
       "      <th>coef</th>\n",
       "    </tr>\n",
       "  </thead>\n",
       "  <tbody>\n",
       "    <tr>\n",
       "      <th>0</th>\n",
       "      <td>is_poutcome_succcess</td>\n",
       "      <td>2.268004</td>\n",
       "    </tr>\n",
       "    <tr>\n",
       "      <th>1</th>\n",
       "      <td>balance</td>\n",
       "      <td>0.958118</td>\n",
       "    </tr>\n",
       "    <tr>\n",
       "      <th>2</th>\n",
       "      <td>is_default</td>\n",
       "      <td>0.789733</td>\n",
       "    </tr>\n",
       "    <tr>\n",
       "      <th>3</th>\n",
       "      <td>job_housemaid</td>\n",
       "      <td>0.740749</td>\n",
       "    </tr>\n",
       "    <tr>\n",
       "      <th>4</th>\n",
       "      <td>is_housing</td>\n",
       "      <td>0.726436</td>\n",
       "    </tr>\n",
       "    <tr>\n",
       "      <th>5</th>\n",
       "      <td>previous</td>\n",
       "      <td>0.507682</td>\n",
       "    </tr>\n",
       "    <tr>\n",
       "      <th>6</th>\n",
       "      <td>is_loan</td>\n",
       "      <td>0.428529</td>\n",
       "    </tr>\n",
       "    <tr>\n",
       "      <th>7</th>\n",
       "      <td>job_services</td>\n",
       "      <td>0.419659</td>\n",
       "    </tr>\n",
       "    <tr>\n",
       "      <th>8</th>\n",
       "      <td>job_blue-collar</td>\n",
       "      <td>0.410823</td>\n",
       "    </tr>\n",
       "    <tr>\n",
       "      <th>9</th>\n",
       "      <td>job_entrepreneur</td>\n",
       "      <td>0.383170</td>\n",
       "    </tr>\n",
       "    <tr>\n",
       "      <th>10</th>\n",
       "      <td>is_married</td>\n",
       "      <td>0.351992</td>\n",
       "    </tr>\n",
       "    <tr>\n",
       "      <th>11</th>\n",
       "      <td>job_student</td>\n",
       "      <td>0.305734</td>\n",
       "    </tr>\n",
       "    <tr>\n",
       "      <th>12</th>\n",
       "      <td>job_technician</td>\n",
       "      <td>0.298116</td>\n",
       "    </tr>\n",
       "    <tr>\n",
       "      <th>13</th>\n",
       "      <td>job_unemployed</td>\n",
       "      <td>0.197048</td>\n",
       "    </tr>\n",
       "    <tr>\n",
       "      <th>14</th>\n",
       "      <td>job_management</td>\n",
       "      <td>0.176455</td>\n",
       "    </tr>\n",
       "    <tr>\n",
       "      <th>15</th>\n",
       "      <td>age</td>\n",
       "      <td>0.102577</td>\n",
       "    </tr>\n",
       "  </tbody>\n",
       "</table>\n",
       "</div>"
      ],
      "text/plain": [
       "                 feature      coef\n",
       "0   is_poutcome_succcess  2.268004\n",
       "1                balance  0.958118\n",
       "2             is_default  0.789733\n",
       "3          job_housemaid  0.740749\n",
       "4             is_housing  0.726436\n",
       "5               previous  0.507682\n",
       "6                is_loan  0.428529\n",
       "7           job_services  0.419659\n",
       "8        job_blue-collar  0.410823\n",
       "9       job_entrepreneur  0.383170\n",
       "10            is_married  0.351992\n",
       "11           job_student  0.305734\n",
       "12        job_technician  0.298116\n",
       "13        job_unemployed  0.197048\n",
       "14        job_management  0.176455\n",
       "15                   age  0.102577"
      ]
     },
     "execution_count": 472,
     "metadata": {},
     "output_type": "execute_result"
    }
   ],
   "source": [
    "pd.DataFrame(list(zip(list(X_train.columns), list(np.abs(model.coef_[0])))), columns = ['feature', 'coef'])\\\n",
    "                            .sort_values(by = ['coef'], ascending = False).reset_index(drop = True)"
   ]
  },
  {
   "cell_type": "markdown",
   "id": "efe42c97",
   "metadata": {},
   "source": [
    "Hasil pemeringkatan 12 fitur teratas menggunakan metode SelectKBest"
   ]
  },
  {
   "cell_type": "code",
   "execution_count": 477,
   "id": "eeba4df2",
   "metadata": {},
   "outputs": [
    {
     "data": {
      "text/plain": [
       "array(['is_poutcome_succcess', 'is_default', 'job_housemaid',\n",
       "       'job_services', 'balance', 'job_blue-collar', 'job_management',\n",
       "       'is_housing', 'is_loan', 'previous', 'job_student', 'is_married'],\n",
       "      dtype=object)"
      ]
     },
     "execution_count": 477,
     "metadata": {},
     "output_type": "execute_result"
    }
   ],
   "source": [
    "from sklearn.feature_selection import SelectKBest, f_classif\n",
    "\n",
    "k_best_12 = SelectKBest(score_func = f_classif, k = 12).fit(X_train_over, y_train_over).get_feature_names_out()\n",
    "k_best_12"
   ]
  },
  {
   "cell_type": "markdown",
   "id": "f3759003",
   "metadata": {},
   "source": [
    "Susunan fitur hasil eliminasi features coefficient terkecil menggunakan RFE menghasilkan 12 fitur dengan score tertinggi"
   ]
  },
  {
   "cell_type": "code",
   "execution_count": 478,
   "id": "8ad2423e",
   "metadata": {},
   "outputs": [
    {
     "data": {
      "text/plain": [
       "array(['is_poutcome_succcess', 'is_default', 'job_entrepreneur',\n",
       "       'job_housemaid', 'job_services', 'balance', 'job_blue-collar',\n",
       "       'is_housing', 'is_loan', 'previous', 'job_student', 'is_married'],\n",
       "      dtype=object)"
      ]
     },
     "execution_count": 478,
     "metadata": {},
     "output_type": "execute_result"
    }
   ],
   "source": [
    "from sklearn.feature_selection import RFE\n",
    "\n",
    "selector = RFE(estimator = LogisticRegression(), n_features_to_select = 12, step = 1)\n",
    "selector = selector.fit(X_train_over, y_train_over)\n",
    "rfe_12 = selector.get_feature_names_out()\n",
    "rfe_12"
   ]
  },
  {
   "cell_type": "markdown",
   "id": "2dbc7187",
   "metadata": {},
   "source": [
    "Irisan dari ketiga metode diatas diperoleh 11 fitur temporer yang akan dilakukan modeling dan evaluasi tingkat esensi dan relevansi pada tahap berikutnya"
   ]
  },
  {
   "cell_type": "code",
   "execution_count": 479,
   "id": "5fce956f",
   "metadata": {},
   "outputs": [
    {
     "data": {
      "text/plain": [
       "11"
      ]
     },
     "metadata": {},
     "output_type": "display_data"
    },
    {
     "data": {
      "text/plain": [
       "(array(['is_poutcome_succcess', 'balance', 'is_default', 'job_housemaid',\n",
       "        'is_housing', 'previous', 'is_loan', 'job_services',\n",
       "        'job_blue-collar', 'is_married', 'job_student'], dtype='<U20'),\n",
       " None)"
      ]
     },
     "execution_count": 479,
     "metadata": {},
     "output_type": "execute_result"
    }
   ],
   "source": [
    "features = []\n",
    "\n",
    "for i in feat_imp_12:\n",
    "    for j in k_best_12:\n",
    "        for k in rfe_12:\n",
    "            if (i == j) and (j == k):\n",
    "                features.append(i)\n",
    "\n",
    "np.array(features), display(len(features))"
   ]
  },
  {
   "cell_type": "markdown",
   "id": "41449cbb",
   "metadata": {},
   "source": [
    "### Modeling n_features = 11"
   ]
  },
  {
   "cell_type": "code",
   "execution_count": 1125,
   "id": "c15b47e5",
   "metadata": {},
   "outputs": [],
   "source": [
    "X = df.drop(columns=['y']).copy()\n",
    "y = df[['y']].copy()\n",
    "\n",
    "from sklearn.model_selection import train_test_split\n",
    "\n",
    "X_train, X_test, y_train, y_test = train_test_split(X, y, test_size = 0.3, random_state = 9)"
   ]
  },
  {
   "cell_type": "code",
   "execution_count": 1126,
   "id": "00ad8157",
   "metadata": {},
   "outputs": [],
   "source": [
    "from sklearn.preprocessing import MinMaxScaler\n",
    "\n",
    "scaler = MinMaxScaler()\n",
    "for i in list(X_train.select_dtypes(include = ['int64', 'float64']).columns):\n",
    "    fitted = scaler.fit(X_train[[i]])\n",
    "    X_train[i] = fitted.transform(X_train[[i]])\n",
    "    X_test[i] = fitted.transform(X_test[[i]])"
   ]
  },
  {
   "cell_type": "code",
   "execution_count": 1127,
   "id": "6003e569",
   "metadata": {},
   "outputs": [],
   "source": [
    "train = pd.concat([X_train, y_train], axis = 1)\n",
    "test = pd.concat([X_test, y_test], axis = 1)\n",
    "\n",
    "train = train[train['education'] != 'unknown']\n",
    "test = test[test['education'] != 'unknown']\n",
    "train = train[train['job'] != 'unknown']\n",
    "test = test[test['job'] != 'unknown']\n",
    "\n",
    "X_train = train.drop(columns=['y'])\n",
    "y_train = train[['y']]\n",
    "\n",
    "X_test = test.drop(columns=['y'])\n",
    "y_test = test[['y']]"
   ]
  },
  {
   "cell_type": "code",
   "execution_count": 1128,
   "id": "6b21534f",
   "metadata": {},
   "outputs": [],
   "source": [
    "X_train['is_married'] = X_train['marital'].apply(lambda x : 1 if x == 'married' else 0)\n",
    "\n",
    "X_test['is_married'] = X_test['marital'].apply(lambda x : 1 if x == 'married' else 0)\n",
    "\n",
    "X_train['education_mapped'] = X_train['education'].map({'primary' : 0,\n",
    "                                                        'secondary' : 1,\n",
    "                                                        'tertiary' : 2})\n",
    "\n",
    "X_test['education_mapped'] = X_test['education'].map({'primary' : 0,\n",
    "                                                      'secondary' : 1,\n",
    "                                                      'tertiary' : 2})\n",
    "\n",
    "X_train['is_default'] = X_train['default'].map({'no' : 0,\n",
    "                                                'yes' : 1})\n",
    "\n",
    "X_test['is_default'] = X_test['default'].map({'no' : 0,\n",
    "                                              'yes' : 1})\n",
    "\n",
    "X_train['is_housing'] = X_train['housing'].map({'no' : 0,\n",
    "                                                'yes' : 1})\n",
    "\n",
    "X_test['is_housing'] = X_test['housing'].map({'no' : 0,\n",
    "                                              'yes' : 1})\n",
    "\n",
    "X_train['is_loan'] = X_train['loan'].map({'no' : 0,\n",
    "                                          'yes' : 1})\n",
    "\n",
    "X_test['is_loan'] = X_test['loan'].map({'no' : 0,\n",
    "                                        'yes' : 1})\n",
    "\n",
    "X_train['is_poutcome_succcess'] = X_train['poutcome'].apply(lambda x : 1 if x == 'success' else 0)\n",
    "\n",
    "X_test['is_poutcome_succcess'] = X_test['poutcome'].apply(lambda x : 1 if x == 'success' else 0)\n",
    "\n",
    "y_train['y'] = y_train['y'].map({'no' : 0,\n",
    "                                 'yes' : 1})\n",
    "\n",
    "y_test['y'] = y_test['y'].map({'no' : 0,\n",
    "                               'yes' : 1})"
   ]
  },
  {
   "cell_type": "code",
   "execution_count": 1129,
   "id": "ebfd8723",
   "metadata": {},
   "outputs": [],
   "source": [
    "for i in ['job']:\n",
    "    X_train = pd.concat([X_train, pd.get_dummies(X_train[i], prefix = i)], axis = 1)\n",
    "    X_test = pd.concat([X_test, pd.get_dummies(X_test[i], prefix = i)], axis = 1)"
   ]
  },
  {
   "cell_type": "code",
   "execution_count": 1130,
   "id": "1308b1db",
   "metadata": {},
   "outputs": [],
   "source": [
    "X_train = X_train.drop(columns = list(X_train.select_dtypes(include = ['object']).columns) +\\\n",
    "                       ['contact', 'day', 'month', 'duration', 'campaign', 'pdays'])\n",
    "X_test = X_test.drop(columns = list(X_test.select_dtypes(include = ['object']).columns) +\\\n",
    "                     ['contact', 'day', 'month', 'duration', 'campaign', 'pdays'])"
   ]
  },
  {
   "cell_type": "code",
   "execution_count": 1051,
   "id": "9be41d08",
   "metadata": {},
   "outputs": [],
   "source": [
    "features = ['is_poutcome_succcess', 'balance', 'is_housing', 'previous', \\\n",
    "            'is_loan', 'education_mapped', 'is_married']\n",
    "\n",
    "X_train = X_train[features]\n",
    "X_test = X_test[features]"
   ]
  },
  {
   "cell_type": "code",
   "execution_count": 1132,
   "id": "d6d5f5d8",
   "metadata": {},
   "outputs": [
    {
     "data": {
      "text/plain": [
       "11"
      ]
     },
     "metadata": {},
     "output_type": "display_data"
    },
    {
     "data": {
      "text/plain": [
       "(Index(['is_poutcome_succcess', 'balance', 'is_default', 'job_housemaid',\n",
       "        'is_housing', 'previous', 'is_loan', 'job_services', 'job_blue-collar',\n",
       "        'is_married', 'job_student'],\n",
       "       dtype='object'),\n",
       " None)"
      ]
     },
     "execution_count": 1132,
     "metadata": {},
     "output_type": "execute_result"
    }
   ],
   "source": [
    "X_train.columns, display(len(X_train.columns))"
   ]
  },
  {
   "cell_type": "markdown",
   "id": "d4e7e2c9",
   "metadata": {},
   "source": [
    "Berdasarkan hasil evaluasi model dapat diketahui bahwa beberapa fitur tidak terlalu signifikan keberadaannya dalam menentukan output dari prediksi sehingga perlu direduksi menjadi 7 fitur"
   ]
  },
  {
   "cell_type": "code",
   "execution_count": 1052,
   "id": "bdf559e7",
   "metadata": {},
   "outputs": [
    {
     "data": {
      "text/plain": [
       "7"
      ]
     },
     "metadata": {},
     "output_type": "display_data"
    },
    {
     "data": {
      "text/plain": [
       "(Index(['is_poutcome_succcess', 'balance', 'is_housing', 'previous', 'is_loan',\n",
       "        'education_mapped', 'is_married'],\n",
       "       dtype='object'),\n",
       " None)"
      ]
     },
     "execution_count": 1052,
     "metadata": {},
     "output_type": "execute_result"
    }
   ],
   "source": [
    "X_train.columns, display(len(X_train.columns))"
   ]
  },
  {
   "cell_type": "code",
   "execution_count": 1053,
   "id": "ce887785",
   "metadata": {},
   "outputs": [],
   "source": [
    "from imblearn import over_sampling\n",
    "\n",
    "X_train_over, y_train_over = over_sampling.SMOTE(random_state = 9).fit_resample(X_train, y_train)"
   ]
  },
  {
   "cell_type": "code",
   "execution_count": 1054,
   "id": "d8623c8b",
   "metadata": {},
   "outputs": [
    {
     "data": {
      "text/plain": [
       "(51174, 51174, 28879, 28879, 12369, 12369)"
      ]
     },
     "execution_count": 1054,
     "metadata": {},
     "output_type": "execute_result"
    }
   ],
   "source": [
    "len(X_train_over), len(y_train_over), len(X_train), len(y_train), len(X_test), len(y_test)"
   ]
  },
  {
   "cell_type": "code",
   "execution_count": 1055,
   "id": "4d11c54b",
   "metadata": {},
   "outputs": [],
   "source": [
    "from sklearn.metrics import accuracy_score, precision_score, recall_score, f1_score, roc_auc_score\n",
    "from sklearn.linear_model import LogisticRegression\n",
    "from sklearn.neighbors import KNeighborsClassifier\n",
    "from sklearn.tree import DecisionTreeClassifier\n",
    "from sklearn.ensemble import RandomForestClassifier\n",
    "from sklearn.ensemble import AdaBoostClassifier\n",
    "from xgboost import XGBClassifier\n",
    "from lightgbm import LGBMClassifier\n",
    "\n",
    "def eval_classification():\n",
    "    \n",
    "    list_model = {'Logistic Regression' : LogisticRegression(random_state = 9),\n",
    "                  'KNN Classifier' : KNeighborsClassifier(),\n",
    "                  'Decision Tree Classifier' : DecisionTreeClassifier(random_state = 9),\n",
    "                  'Random Forest Classifier' : RandomForestClassifier(random_state = 9),\n",
    "                  'AdaBoost Classifier' : AdaBoostClassifier(random_state = 9),\n",
    "                  'XGBoost Classifier' : XGBClassifier(random_state = 9)}\n",
    "                  \n",
    "    for key, val in list_model.items():\n",
    "        model = val\n",
    "        model.fit(X_train_over, y_train_over)\n",
    "    \n",
    "        y_pred = model.predict(X_test)\n",
    "        y_pred_train = model.predict(X_train)\n",
    "        y_pred_proba = model.predict_proba(X_test)\n",
    "        y_pred_proba_train = model.predict_proba(X_train)\n",
    "\n",
    "        print(key, \"Evaluation Result\")\n",
    "        print(\"Accuracy (Train Set): %.2f\" % accuracy_score(y_train, y_pred_train))\n",
    "        print(\"Accuracy (Test Set): %.2f\" % accuracy_score(y_test, y_pred))\n",
    "        print(\"Precision (Train Set): %.2f\" % precision_score(y_train, y_pred_train))\n",
    "        print(\"Precision (Test Set): %.2f\" % precision_score(y_test, y_pred))\n",
    "        print(\"Recall (Train Set): %.2f\" % recall_score(y_train, y_pred_train))\n",
    "        print(\"Recall (Test Set): %.2f\" % recall_score(y_test, y_pred))\n",
    "        print(\"F1-Score (Train Set): %.2f\" % f1_score(y_train, y_pred_train))\n",
    "        print(\"F1-Score (Test Set): %.2f\" % f1_score(y_test, y_pred))\n",
    "        print(\"\")"
   ]
  },
  {
   "cell_type": "code",
   "execution_count": 1056,
   "id": "3d8e9ac3",
   "metadata": {},
   "outputs": [
    {
     "name": "stdout",
     "output_type": "stream",
     "text": [
      "Logistic Regression Evaluation Result\n",
      "Accuracy (Train Set): 0.69\n",
      "Accuracy (Test Set): 0.69\n",
      "Precision (Train Set): 0.21\n",
      "Precision (Test Set): 0.21\n",
      "Recall (Train Set): 0.61\n",
      "Recall (Test Set): 0.60\n",
      "F1-Score (Train Set): 0.31\n",
      "F1-Score (Test Set): 0.31\n",
      "\n",
      "KNN Classifier Evaluation Result\n",
      "Accuracy (Train Set): 0.81\n",
      "Accuracy (Test Set): 0.70\n",
      "Precision (Train Set): 0.35\n",
      "Precision (Test Set): 0.18\n",
      "Recall (Train Set): 0.74\n",
      "Recall (Test Set): 0.46\n",
      "F1-Score (Train Set): 0.48\n",
      "F1-Score (Test Set): 0.26\n",
      "\n",
      "Decision Tree Classifier Evaluation Result\n",
      "Accuracy (Train Set): 0.97\n",
      "Accuracy (Test Set): 0.72\n",
      "Precision (Train Set): 0.96\n",
      "Precision (Test Set): 0.19\n",
      "Recall (Train Set): 0.72\n",
      "Recall (Test Set): 0.41\n",
      "F1-Score (Train Set): 0.83\n",
      "F1-Score (Test Set): 0.26\n",
      "\n",
      "Random Forest Classifier Evaluation Result\n",
      "Accuracy (Train Set): 0.97\n",
      "Accuracy (Test Set): 0.71\n",
      "Precision (Train Set): 0.88\n",
      "Precision (Test Set): 0.18\n",
      "Recall (Train Set): 0.81\n",
      "Recall (Test Set): 0.42\n",
      "F1-Score (Train Set): 0.84\n",
      "F1-Score (Test Set): 0.25\n",
      "\n",
      "AdaBoost Classifier Evaluation Result\n",
      "Accuracy (Train Set): 0.70\n",
      "Accuracy (Test Set): 0.69\n",
      "Precision (Train Set): 0.21\n",
      "Precision (Test Set): 0.20\n",
      "Recall (Train Set): 0.60\n",
      "Recall (Test Set): 0.58\n",
      "F1-Score (Train Set): 0.31\n",
      "F1-Score (Test Set): 0.30\n",
      "\n",
      "XGBoost Classifier Evaluation Result\n",
      "Accuracy (Train Set): 0.78\n",
      "Accuracy (Test Set): 0.75\n",
      "Precision (Train Set): 0.28\n",
      "Precision (Test Set): 0.22\n",
      "Recall (Train Set): 0.58\n",
      "Recall (Test Set): 0.48\n",
      "F1-Score (Train Set): 0.38\n",
      "F1-Score (Test Set): 0.31\n",
      "\n"
     ]
    }
   ],
   "source": [
    "eval_classification()"
   ]
  },
  {
   "cell_type": "code",
   "execution_count": 1058,
   "id": "62d46441-2e75-4b6e-b02c-c40002f66aef",
   "metadata": {},
   "outputs": [
    {
     "name": "stdout",
     "output_type": "stream",
     "text": [
      "Best Parameter: {'C': 0.000142, 'penalty': 'l2'}\n",
      "Best Score: 0.65\n",
      "\n",
      "Tuned Logistic Regression\n",
      "Accuracy (Train Set): 0.64\n",
      "Accuracy (Test Set): 0.64\n",
      "Precision (Train Set): 0.19\n",
      "Precision (Test Set): 0.19\n",
      "Recall (Train Set): 0.66\n",
      "Recall (Test Set): 0.64\n",
      "F1-Score (Train Set): 0.29\n",
      "F1-Score (Test Set): 0.29\n"
     ]
    }
   ],
   "source": [
    "from sklearn.model_selection import GridSearchCV\n",
    "\n",
    "params = {\"penalty\": ['l1', 'l2'],\n",
    "          \"C\":[0.000137, 0.000142]}\n",
    "\n",
    "model = GridSearchCV(LogisticRegression(random_state = 9), \n",
    "                   param_grid = params, \n",
    "                   cv = 10, \n",
    "                   scoring = 'recall')\n",
    "\n",
    "model.fit(X_train_over, y_train_over)\n",
    "y_pred = model.predict(X_test)\n",
    "y_pred_train = model.predict(X_train)\n",
    "y_pred_proba = model.predict_proba(X_test)\n",
    "y_pred_proba_train = model.predict_proba(X_train)\n",
    "\n",
    "print(f'Best Parameter: {model.best_params_}')\n",
    "print(\"Best Score: %.2f\" % model.best_score_)\n",
    "print('')\n",
    "\n",
    "print(\"Tuned Logistic Regression\")\n",
    "print(\"Accuracy (Train Set): %.2f\" % accuracy_score(y_train, y_pred_train))\n",
    "print(\"Accuracy (Test Set): %.2f\" % accuracy_score(y_test, y_pred))\n",
    "print(\"Precision (Train Set): %.2f\" % precision_score(y_train, y_pred_train))\n",
    "print(\"Precision (Test Set): %.2f\" % precision_score(y_test, y_pred))\n",
    "print(\"Recall (Train Set): %.2f\" % recall_score(y_train, y_pred_train))\n",
    "print(\"Recall (Test Set): %.2f\" % recall_score(y_test, y_pred))\n",
    "print(\"F1-Score (Train Set): %.2f\" % f1_score(y_train, y_pred_train))\n",
    "print(\"F1-Score (Test Set): %.2f\" % f1_score(y_test, y_pred))"
   ]
  },
  {
   "cell_type": "code",
   "execution_count": 1075,
   "id": "ea9a315f",
   "metadata": {},
   "outputs": [
    {
     "name": "stdout",
     "output_type": "stream",
     "text": [
      "Best Parameter: {'algorithm': 'ball_tree', 'n_neighbors': 15, 'p': 2}\n",
      "Best Score: 0.69\n",
      "\n",
      "Tuned KNN Classifier\n",
      "Accuracy (Train Set): 0.76\n",
      "Accuracy (Test Set): 0.70\n",
      "Precision (Train Set): 0.28\n",
      "Precision (Test Set): 0.19\n",
      "Recall (Train Set): 0.70\n",
      "Recall (Test Set): 0.49\n",
      "F1-Score (Train Set): 0.40\n",
      "F1-Score (Test Set): 0.27\n"
     ]
    }
   ],
   "source": [
    "from sklearn.model_selection import GridSearchCV\n",
    "\n",
    "params = {\"n_neighbors\": [10, 15, 20],\n",
    "          \"algorithm\":['ball_tree', 'kd_tree', 'brute'],\n",
    "          \"p\" : [1, 2]}\n",
    "\n",
    "model = GridSearchCV(KNeighborsClassifier(), \n",
    "                   param_grid = params, \n",
    "                   cv = 10, \n",
    "                   scoring = 'recall')\n",
    "\n",
    "model.fit(X_train_over, y_train_over)\n",
    "y_pred = model.predict(X_test)\n",
    "y_pred_train = model.predict(X_train)\n",
    "y_pred_proba = model.predict_proba(X_test)\n",
    "y_pred_proba_train = model.predict_proba(X_train)\n",
    "\n",
    "print(f'Best Parameter: {model.best_params_}')\n",
    "print(\"Best Score: %.2f\" % model.best_score_)\n",
    "print('')\n",
    "\n",
    "print(\"Tuned KNN Classifier\")\n",
    "print(\"Accuracy (Train Set): %.2f\" % accuracy_score(y_train, y_pred_train))\n",
    "print(\"Accuracy (Test Set): %.2f\" % accuracy_score(y_test, y_pred))\n",
    "print(\"Precision (Train Set): %.2f\" % precision_score(y_train, y_pred_train))\n",
    "print(\"Precision (Test Set): %.2f\" % precision_score(y_test, y_pred))\n",
    "print(\"Recall (Train Set): %.2f\" % recall_score(y_train, y_pred_train))\n",
    "print(\"Recall (Test Set): %.2f\" % recall_score(y_test, y_pred))\n",
    "print(\"F1-Score (Train Set): %.2f\" % f1_score(y_train, y_pred_train))\n",
    "print(\"F1-Score (Test Set): %.2f\" % f1_score(y_test, y_pred))"
   ]
  },
  {
   "cell_type": "code",
   "execution_count": 1095,
   "id": "6cdba7a5",
   "metadata": {},
   "outputs": [
    {
     "name": "stdout",
     "output_type": "stream",
     "text": [
      "Best Parameter: {'ccp_alpha': 0.005, 'max_depth': 1000, 'min_samples_split': 2}\n",
      "Best Score: 0.60\n",
      "\n",
      "Tuned Decision Tree Classifier\n",
      "Accuracy (Train Set): 0.68\n",
      "Accuracy (Test Set): 0.68\n",
      "Precision (Train Set): 0.20\n",
      "Precision (Test Set): 0.20\n",
      "Recall (Train Set): 0.60\n",
      "Recall (Test Set): 0.59\n",
      "F1-Score (Train Set): 0.30\n",
      "F1-Score (Test Set): 0.30\n"
     ]
    }
   ],
   "source": [
    "from sklearn.model_selection import GridSearchCV\n",
    "\n",
    "params = {\"max_depth\": [1000, 2000, 3000],\n",
    "          \"min_samples_split\":[2, 5, 10],\n",
    "          \"ccp_alpha\" : [0.005, 0.006]}\n",
    "\n",
    "model = GridSearchCV(DecisionTreeClassifier(random_state = 9), \n",
    "                   param_grid = params, \n",
    "                   cv = 10, \n",
    "                   scoring = 'recall')\n",
    "\n",
    "model.fit(X_train_over, y_train_over)\n",
    "y_pred = model.predict(X_test)\n",
    "y_pred_train = model.predict(X_train)\n",
    "y_pred_proba = model.predict_proba(X_test)\n",
    "y_pred_proba_train = model.predict_proba(X_train)\n",
    "\n",
    "print(f'Best Parameter: {model.best_params_}')\n",
    "print(\"Best Score: %.2f\" % model.best_score_)\n",
    "print('')\n",
    "\n",
    "print(\"Tuned Decision Tree Classifier\")\n",
    "print(\"Accuracy (Train Set): %.2f\" % accuracy_score(y_train, y_pred_train))\n",
    "print(\"Accuracy (Test Set): %.2f\" % accuracy_score(y_test, y_pred))\n",
    "print(\"Precision (Train Set): %.2f\" % precision_score(y_train, y_pred_train))\n",
    "print(\"Precision (Test Set): %.2f\" % precision_score(y_test, y_pred))\n",
    "print(\"Recall (Train Set): %.2f\" % recall_score(y_train, y_pred_train))\n",
    "print(\"Recall (Test Set): %.2f\" % recall_score(y_test, y_pred))\n",
    "print(\"F1-Score (Train Set): %.2f\" % f1_score(y_train, y_pred_train))\n",
    "print(\"F1-Score (Test Set): %.2f\" % f1_score(y_test, y_pred))"
   ]
  },
  {
   "cell_type": "code",
   "execution_count": 1101,
   "id": "81da8006",
   "metadata": {},
   "outputs": [
    {
     "name": "stdout",
     "output_type": "stream",
     "text": [
      "Best Parameter: {'ccp_alpha': 0.001, 'criterion': 'gini'}\n",
      "Best Score: 0.57\n",
      "\n",
      "Tuned Random Forest Classifier\n",
      "Accuracy (Train Set): 0.73\n",
      "Accuracy (Test Set): 0.72\n",
      "Precision (Train Set): 0.23\n",
      "Precision (Test Set): 0.22\n",
      "Recall (Train Set): 0.57\n",
      "Recall (Test Set): 0.55\n",
      "F1-Score (Train Set): 0.32\n",
      "F1-Score (Test Set): 0.31\n"
     ]
    }
   ],
   "source": [
    "from sklearn.model_selection import GridSearchCV\n",
    "\n",
    "params = {\"criterion\":['gini', 'entropy'],\n",
    "          \"ccp_alpha\":[0.001, 0.008]}\n",
    "\n",
    "model = GridSearchCV(RandomForestClassifier(random_state = 9), \n",
    "                   param_grid = params,\n",
    "                   n_jobs = -1,\n",
    "                   cv = 10, \n",
    "                   scoring = 'recall')\n",
    "\n",
    "model.fit(X_train_over, y_train_over)\n",
    "y_pred = model.predict(X_test)\n",
    "y_pred_train = model.predict(X_train)\n",
    "y_pred_proba = model.predict_proba(X_test)\n",
    "y_pred_proba_train = model.predict_proba(X_train)\n",
    "\n",
    "print(f'Best Parameter: {model.best_params_}')\n",
    "print(\"Best Score: %.2f\" % model.best_score_)\n",
    "print('')\n",
    "\n",
    "print(\"Tuned Random Forest Classifier\")\n",
    "print(\"Accuracy (Train Set): %.2f\" % accuracy_score(y_train, y_pred_train))\n",
    "print(\"Accuracy (Test Set): %.2f\" % accuracy_score(y_test, y_pred))\n",
    "print(\"Precision (Train Set): %.2f\" % precision_score(y_train, y_pred_train))\n",
    "print(\"Precision (Test Set): %.2f\" % precision_score(y_test, y_pred))\n",
    "print(\"Recall (Train Set): %.2f\" % recall_score(y_train, y_pred_train))\n",
    "print(\"Recall (Test Set): %.2f\" % recall_score(y_test, y_pred))\n",
    "print(\"F1-Score (Train Set): %.2f\" % f1_score(y_train, y_pred_train))\n",
    "print(\"F1-Score (Test Set): %.2f\" % f1_score(y_test, y_pred))"
   ]
  },
  {
   "cell_type": "code",
   "execution_count": 1089,
   "id": "110709f1",
   "metadata": {},
   "outputs": [
    {
     "name": "stdout",
     "output_type": "stream",
     "text": [
      "Best Parameter: {'algorithm': 'SAMME.R', 'learning_rate': 0.203}\n",
      "Best Score: 0.61\n",
      "\n",
      "Tuned Adaboost Classifier\n",
      "Accuracy (Train Set): 0.69\n",
      "Accuracy (Test Set): 0.68\n",
      "Precision (Train Set): 0.21\n",
      "Precision (Test Set): 0.21\n",
      "Recall (Train Set): 0.62\n",
      "Recall (Test Set): 0.60\n",
      "F1-Score (Train Set): 0.31\n",
      "F1-Score (Test Set): 0.31\n"
     ]
    }
   ],
   "source": [
    "from sklearn.model_selection import GridSearchCV\n",
    "\n",
    "params = {\"algorithm\": ['SAMME', 'SAMME.R'],\n",
    "          \"learning_rate\":[0.203, 0.217]}\n",
    "\n",
    "model = GridSearchCV(AdaBoostClassifier(random_state = 9), \n",
    "                   param_grid = params, \n",
    "                   cv = 10, \n",
    "                   scoring = 'recall')\n",
    "\n",
    "model.fit(X_train_over, y_train_over)\n",
    "y_pred = model.predict(X_test)\n",
    "y_pred_train = model.predict(X_train)\n",
    "y_pred_proba = model.predict_proba(X_test)\n",
    "y_pred_proba_train = model.predict_proba(X_train)\n",
    "\n",
    "print(f'Best Parameter: {model.best_params_}')\n",
    "print(\"Best Score: %.2f\" % model.best_score_)\n",
    "print('')\n",
    "\n",
    "print(\"Tuned Adaboost Classifier\")\n",
    "print(\"Accuracy (Train Set): %.2f\" % accuracy_score(y_train, y_pred_train))\n",
    "print(\"Accuracy (Test Set): %.2f\" % accuracy_score(y_test, y_pred))\n",
    "print(\"Precision (Train Set): %.2f\" % precision_score(y_train, y_pred_train))\n",
    "print(\"Precision (Test Set): %.2f\" % precision_score(y_test, y_pred))\n",
    "print(\"Recall (Train Set): %.2f\" % recall_score(y_train, y_pred_train))\n",
    "print(\"Recall (Test Set): %.2f\" % recall_score(y_test, y_pred))\n",
    "print(\"F1-Score (Train Set): %.2f\" % f1_score(y_train, y_pred_train))\n",
    "print(\"F1-Score (Test Set): %.2f\" % f1_score(y_test, y_pred))"
   ]
  },
  {
   "cell_type": "code",
   "execution_count": 1077,
   "id": "0b07678a",
   "metadata": {
    "scrolled": true
   },
   "outputs": [
    {
     "name": "stdout",
     "output_type": "stream",
     "text": [
      "[17:02:14] WARNING: C:\\buildkite-agent\\builds\\buildkite-windows-cpu-autoscaling-group-i-0fdc6d574b9c0d168-1\\xgboost\\xgboost-ci-windows\\src\\learner.cc:767: \n",
      "Parameters: { \"gamma\" } are not used.\n",
      "\n",
      "[17:02:15] WARNING: C:\\buildkite-agent\\builds\\buildkite-windows-cpu-autoscaling-group-i-0fdc6d574b9c0d168-1\\xgboost\\xgboost-ci-windows\\src\\learner.cc:767: \n",
      "Parameters: { \"gamma\" } are not used.\n",
      "\n",
      "[17:02:15] WARNING: C:\\buildkite-agent\\builds\\buildkite-windows-cpu-autoscaling-group-i-0fdc6d574b9c0d168-1\\xgboost\\xgboost-ci-windows\\src\\learner.cc:767: \n",
      "Parameters: { \"gamma\" } are not used.\n",
      "\n",
      "[17:02:16] WARNING: C:\\buildkite-agent\\builds\\buildkite-windows-cpu-autoscaling-group-i-0fdc6d574b9c0d168-1\\xgboost\\xgboost-ci-windows\\src\\learner.cc:767: \n",
      "Parameters: { \"gamma\" } are not used.\n",
      "\n",
      "[17:02:16] WARNING: C:\\buildkite-agent\\builds\\buildkite-windows-cpu-autoscaling-group-i-0fdc6d574b9c0d168-1\\xgboost\\xgboost-ci-windows\\src\\learner.cc:767: \n",
      "Parameters: { \"gamma\" } are not used.\n",
      "\n",
      "[17:02:17] WARNING: C:\\buildkite-agent\\builds\\buildkite-windows-cpu-autoscaling-group-i-0fdc6d574b9c0d168-1\\xgboost\\xgboost-ci-windows\\src\\learner.cc:767: \n",
      "Parameters: { \"gamma\" } are not used.\n",
      "\n",
      "[17:02:17] WARNING: C:\\buildkite-agent\\builds\\buildkite-windows-cpu-autoscaling-group-i-0fdc6d574b9c0d168-1\\xgboost\\xgboost-ci-windows\\src\\learner.cc:767: \n",
      "Parameters: { \"gamma\" } are not used.\n",
      "\n",
      "[17:02:18] WARNING: C:\\buildkite-agent\\builds\\buildkite-windows-cpu-autoscaling-group-i-0fdc6d574b9c0d168-1\\xgboost\\xgboost-ci-windows\\src\\learner.cc:767: \n",
      "Parameters: { \"gamma\" } are not used.\n",
      "\n",
      "[17:02:18] WARNING: C:\\buildkite-agent\\builds\\buildkite-windows-cpu-autoscaling-group-i-0fdc6d574b9c0d168-1\\xgboost\\xgboost-ci-windows\\src\\learner.cc:767: \n",
      "Parameters: { \"gamma\" } are not used.\n",
      "\n",
      "[17:02:19] WARNING: C:\\buildkite-agent\\builds\\buildkite-windows-cpu-autoscaling-group-i-0fdc6d574b9c0d168-1\\xgboost\\xgboost-ci-windows\\src\\learner.cc:767: \n",
      "Parameters: { \"gamma\" } are not used.\n",
      "\n",
      "[17:02:19] WARNING: C:\\buildkite-agent\\builds\\buildkite-windows-cpu-autoscaling-group-i-0fdc6d574b9c0d168-1\\xgboost\\xgboost-ci-windows\\src\\learner.cc:767: \n",
      "Parameters: { \"gamma\" } are not used.\n",
      "\n",
      "[17:02:19] WARNING: C:\\buildkite-agent\\builds\\buildkite-windows-cpu-autoscaling-group-i-0fdc6d574b9c0d168-1\\xgboost\\xgboost-ci-windows\\src\\learner.cc:767: \n",
      "Parameters: { \"gamma\" } are not used.\n",
      "\n",
      "[17:02:20] WARNING: C:\\buildkite-agent\\builds\\buildkite-windows-cpu-autoscaling-group-i-0fdc6d574b9c0d168-1\\xgboost\\xgboost-ci-windows\\src\\learner.cc:767: \n",
      "Parameters: { \"gamma\" } are not used.\n",
      "\n",
      "[17:02:20] WARNING: C:\\buildkite-agent\\builds\\buildkite-windows-cpu-autoscaling-group-i-0fdc6d574b9c0d168-1\\xgboost\\xgboost-ci-windows\\src\\learner.cc:767: \n",
      "Parameters: { \"gamma\" } are not used.\n",
      "\n",
      "[17:02:21] WARNING: C:\\buildkite-agent\\builds\\buildkite-windows-cpu-autoscaling-group-i-0fdc6d574b9c0d168-1\\xgboost\\xgboost-ci-windows\\src\\learner.cc:767: \n",
      "Parameters: { \"gamma\" } are not used.\n",
      "\n",
      "[17:02:21] WARNING: C:\\buildkite-agent\\builds\\buildkite-windows-cpu-autoscaling-group-i-0fdc6d574b9c0d168-1\\xgboost\\xgboost-ci-windows\\src\\learner.cc:767: \n",
      "Parameters: { \"gamma\" } are not used.\n",
      "\n",
      "[17:02:21] WARNING: C:\\buildkite-agent\\builds\\buildkite-windows-cpu-autoscaling-group-i-0fdc6d574b9c0d168-1\\xgboost\\xgboost-ci-windows\\src\\learner.cc:767: \n",
      "Parameters: { \"gamma\" } are not used.\n",
      "\n",
      "[17:02:22] WARNING: C:\\buildkite-agent\\builds\\buildkite-windows-cpu-autoscaling-group-i-0fdc6d574b9c0d168-1\\xgboost\\xgboost-ci-windows\\src\\learner.cc:767: \n",
      "Parameters: { \"gamma\" } are not used.\n",
      "\n",
      "[17:02:22] WARNING: C:\\buildkite-agent\\builds\\buildkite-windows-cpu-autoscaling-group-i-0fdc6d574b9c0d168-1\\xgboost\\xgboost-ci-windows\\src\\learner.cc:767: \n",
      "Parameters: { \"gamma\" } are not used.\n",
      "\n",
      "[17:02:23] WARNING: C:\\buildkite-agent\\builds\\buildkite-windows-cpu-autoscaling-group-i-0fdc6d574b9c0d168-1\\xgboost\\xgboost-ci-windows\\src\\learner.cc:767: \n",
      "Parameters: { \"gamma\" } are not used.\n",
      "\n",
      "[17:02:23] WARNING: C:\\buildkite-agent\\builds\\buildkite-windows-cpu-autoscaling-group-i-0fdc6d574b9c0d168-1\\xgboost\\xgboost-ci-windows\\src\\learner.cc:767: \n",
      "Parameters: { \"gamma\" } are not used.\n",
      "\n",
      "[17:02:24] WARNING: C:\\buildkite-agent\\builds\\buildkite-windows-cpu-autoscaling-group-i-0fdc6d574b9c0d168-1\\xgboost\\xgboost-ci-windows\\src\\learner.cc:767: \n",
      "Parameters: { \"gamma\" } are not used.\n",
      "\n",
      "[17:02:25] WARNING: C:\\buildkite-agent\\builds\\buildkite-windows-cpu-autoscaling-group-i-0fdc6d574b9c0d168-1\\xgboost\\xgboost-ci-windows\\src\\learner.cc:767: \n",
      "Parameters: { \"gamma\" } are not used.\n",
      "\n",
      "[17:02:26] WARNING: C:\\buildkite-agent\\builds\\buildkite-windows-cpu-autoscaling-group-i-0fdc6d574b9c0d168-1\\xgboost\\xgboost-ci-windows\\src\\learner.cc:767: \n",
      "Parameters: { \"gamma\" } are not used.\n",
      "\n",
      "[17:02:27] WARNING: C:\\buildkite-agent\\builds\\buildkite-windows-cpu-autoscaling-group-i-0fdc6d574b9c0d168-1\\xgboost\\xgboost-ci-windows\\src\\learner.cc:767: \n",
      "Parameters: { \"gamma\" } are not used.\n",
      "\n",
      "[17:02:28] WARNING: C:\\buildkite-agent\\builds\\buildkite-windows-cpu-autoscaling-group-i-0fdc6d574b9c0d168-1\\xgboost\\xgboost-ci-windows\\src\\learner.cc:767: \n",
      "Parameters: { \"gamma\" } are not used.\n",
      "\n",
      "[17:02:29] WARNING: C:\\buildkite-agent\\builds\\buildkite-windows-cpu-autoscaling-group-i-0fdc6d574b9c0d168-1\\xgboost\\xgboost-ci-windows\\src\\learner.cc:767: \n",
      "Parameters: { \"gamma\" } are not used.\n",
      "\n",
      "[17:02:30] WARNING: C:\\buildkite-agent\\builds\\buildkite-windows-cpu-autoscaling-group-i-0fdc6d574b9c0d168-1\\xgboost\\xgboost-ci-windows\\src\\learner.cc:767: \n",
      "Parameters: { \"gamma\" } are not used.\n",
      "\n",
      "[17:02:31] WARNING: C:\\buildkite-agent\\builds\\buildkite-windows-cpu-autoscaling-group-i-0fdc6d574b9c0d168-1\\xgboost\\xgboost-ci-windows\\src\\learner.cc:767: \n",
      "Parameters: { \"gamma\" } are not used.\n",
      "\n",
      "[17:02:32] WARNING: C:\\buildkite-agent\\builds\\buildkite-windows-cpu-autoscaling-group-i-0fdc6d574b9c0d168-1\\xgboost\\xgboost-ci-windows\\src\\learner.cc:767: \n",
      "Parameters: { \"gamma\" } are not used.\n",
      "\n",
      "[17:02:33] WARNING: C:\\buildkite-agent\\builds\\buildkite-windows-cpu-autoscaling-group-i-0fdc6d574b9c0d168-1\\xgboost\\xgboost-ci-windows\\src\\learner.cc:767: \n",
      "Parameters: { \"gamma\" } are not used.\n",
      "\n",
      "[17:02:33] WARNING: C:\\buildkite-agent\\builds\\buildkite-windows-cpu-autoscaling-group-i-0fdc6d574b9c0d168-1\\xgboost\\xgboost-ci-windows\\src\\learner.cc:767: \n",
      "Parameters: { \"gamma\" } are not used.\n",
      "\n",
      "[17:02:34] WARNING: C:\\buildkite-agent\\builds\\buildkite-windows-cpu-autoscaling-group-i-0fdc6d574b9c0d168-1\\xgboost\\xgboost-ci-windows\\src\\learner.cc:767: \n",
      "Parameters: { \"gamma\" } are not used.\n",
      "\n",
      "[17:02:35] WARNING: C:\\buildkite-agent\\builds\\buildkite-windows-cpu-autoscaling-group-i-0fdc6d574b9c0d168-1\\xgboost\\xgboost-ci-windows\\src\\learner.cc:767: \n",
      "Parameters: { \"gamma\" } are not used.\n",
      "\n",
      "[17:02:35] WARNING: C:\\buildkite-agent\\builds\\buildkite-windows-cpu-autoscaling-group-i-0fdc6d574b9c0d168-1\\xgboost\\xgboost-ci-windows\\src\\learner.cc:767: \n",
      "Parameters: { \"gamma\" } are not used.\n",
      "\n",
      "[17:02:36] WARNING: C:\\buildkite-agent\\builds\\buildkite-windows-cpu-autoscaling-group-i-0fdc6d574b9c0d168-1\\xgboost\\xgboost-ci-windows\\src\\learner.cc:767: \n",
      "Parameters: { \"gamma\" } are not used.\n",
      "\n",
      "[17:02:37] WARNING: C:\\buildkite-agent\\builds\\buildkite-windows-cpu-autoscaling-group-i-0fdc6d574b9c0d168-1\\xgboost\\xgboost-ci-windows\\src\\learner.cc:767: \n",
      "Parameters: { \"gamma\" } are not used.\n",
      "\n",
      "[17:02:38] WARNING: C:\\buildkite-agent\\builds\\buildkite-windows-cpu-autoscaling-group-i-0fdc6d574b9c0d168-1\\xgboost\\xgboost-ci-windows\\src\\learner.cc:767: \n",
      "Parameters: { \"gamma\" } are not used.\n",
      "\n",
      "[17:02:39] WARNING: C:\\buildkite-agent\\builds\\buildkite-windows-cpu-autoscaling-group-i-0fdc6d574b9c0d168-1\\xgboost\\xgboost-ci-windows\\src\\learner.cc:767: \n",
      "Parameters: { \"gamma\" } are not used.\n",
      "\n",
      "[17:02:40] WARNING: C:\\buildkite-agent\\builds\\buildkite-windows-cpu-autoscaling-group-i-0fdc6d574b9c0d168-1\\xgboost\\xgboost-ci-windows\\src\\learner.cc:767: \n",
      "Parameters: { \"gamma\" } are not used.\n",
      "\n",
      "[17:02:41] WARNING: C:\\buildkite-agent\\builds\\buildkite-windows-cpu-autoscaling-group-i-0fdc6d574b9c0d168-1\\xgboost\\xgboost-ci-windows\\src\\learner.cc:767: \n",
      "Parameters: { \"gamma\" } are not used.\n",
      "\n",
      "Best Parameter: {'booster': 'gblinear', 'gamma': 0.5, 'learning_rate': 0.01, 'n_estimators': 100, 'reg_alpha': 0, 'reg_lambda': 0.5}\n",
      "Best Score: 0.68\n",
      "\n",
      "Tuned XGBoost Classifier\n",
      "Accuracy (Train Set): 0.62\n",
      "Accuracy (Test Set): 0.61\n",
      "Precision (Train Set): 0.18\n",
      "Precision (Test Set): 0.18\n",
      "Recall (Train Set): 0.68\n",
      "Recall (Test Set): 0.67\n",
      "F1-Score (Train Set): 0.29\n",
      "F1-Score (Test Set): 0.29\n"
     ]
    }
   ],
   "source": [
    "from sklearn.model_selection import GridSearchCV\n",
    "\n",
    "params = {\n",
    "    'n_estimators': [100, 200],\n",
    "    'learning_rate': [0.01],\n",
    "    'booster': ['gblinear'],\n",
    "    'gamma': [0.5],\n",
    "    'reg_alpha': [0, 1],\n",
    "    'reg_lambda': [0.5]\n",
    "}\n",
    "\n",
    "model = GridSearchCV(XGBClassifier(random_state = 9), \n",
    "                   param_grid = params, \n",
    "                   cv = 10, \n",
    "                   scoring = 'recall')\n",
    "\n",
    "model.fit(X_train_over, y_train_over)\n",
    "y_pred = model.predict(X_test)\n",
    "y_pred_train = model.predict(X_train)\n",
    "y_pred_proba = model.predict_proba(X_test)\n",
    "y_pred_proba_train = model.predict_proba(X_train)\n",
    "\n",
    "print(f'Best Parameter: {model.best_params_}')\n",
    "print(\"Best Score: %.2f\" % model.best_score_)\n",
    "print('')\n",
    "\n",
    "print(\"Tuned XGBoost Classifier\")\n",
    "print(\"Accuracy (Train Set): %.2f\" % accuracy_score(y_train, y_pred_train))\n",
    "print(\"Accuracy (Test Set): %.2f\" % accuracy_score(y_test, y_pred))\n",
    "print(\"Precision (Train Set): %.2f\" % precision_score(y_train, y_pred_train))\n",
    "print(\"Precision (Test Set): %.2f\" % precision_score(y_test, y_pred))\n",
    "print(\"Recall (Train Set): %.2f\" % recall_score(y_train, y_pred_train))\n",
    "print(\"Recall (Test Set): %.2f\" % recall_score(y_test, y_pred))\n",
    "print(\"F1-Score (Train Set): %.2f\" % f1_score(y_train, y_pred_train))\n",
    "print(\"F1-Score (Test Set): %.2f\" % f1_score(y_test, y_pred))"
   ]
  },
  {
   "cell_type": "code",
   "execution_count": 1078,
   "id": "b49269cd",
   "metadata": {},
   "outputs": [
    {
     "name": "stdout",
     "output_type": "stream",
     "text": [
      "[17:04:35] WARNING: C:\\buildkite-agent\\builds\\buildkite-windows-cpu-autoscaling-group-i-0fdc6d574b9c0d168-1\\xgboost\\xgboost-ci-windows\\src\\learner.cc:767: \n",
      "Parameters: { \"gamma\" } are not used.\n",
      "\n"
     ]
    },
    {
     "data": {
      "text/plain": [
       "<matplotlib.legend.Legend at 0x1ef4e40d630>"
      ]
     },
     "execution_count": 1078,
     "metadata": {},
     "output_type": "execute_result"
    },
    {
     "data": {
      "image/png": "[encoded data removed]",
      "text/plain": [
       "<Figure size 500x300 with 1 Axes>"
      ]
     },
     "metadata": {},
     "output_type": "display_data"
    }
   ],
   "source": [
    "model = XGBClassifier(booster = 'gblinear', gamma = 0.5, learning_rate = 0.01, n_estimators = 100,\\\n",
    "                      reg_alpha = 0, reg_lambda = 0.5, random_state = 9)\n",
    "model.fit(X_train_over, y_train_over)\n",
    "importance = np.abs(model.feature_importances_)\n",
    "feature_names = np.array(X_train.columns)\n",
    "plt.figure(figsize = (5, 3), facecolor='#e8e6e1')\n",
    "ax = plt.axes()\n",
    "ax.set_facecolor('#f1f2f2')\n",
    "pd.DataFrame(list(zip(list(X_train.columns), list(model.feature_importances_))), columns = ['feature', 'coef'])\\\n",
    "            .sort_values(by = ['coef'], ascending = True).reset_index(drop = True)\\\n",
    "            .plot(x = 'feature', kind = 'barh', fontsize = 8, ax = ax)\n",
    "plt.title(\"XGBoost classifier feature importances via coefficients\")\n",
    "plt.xlabel('coefficient')\n",
    "plt.legend(loc = 'center right')"
   ]
  },
  {
   "cell_type": "code",
   "execution_count": 863,
   "id": "1082d4f3",
   "metadata": {},
   "outputs": [
    {
     "data": {
      "text/html": [
       "<div>\n",
       "<style scoped>\n",
       "    .dataframe tbody tr th:only-of-type {\n",
       "        vertical-align: middle;\n",
       "    }\n",
       "\n",
       "    .dataframe tbody tr th {\n",
       "        vertical-align: top;\n",
       "    }\n",
       "\n",
       "    .dataframe thead th {\n",
       "        text-align: right;\n",
       "    }\n",
       "</style>\n",
       "<table border=\"1\" class=\"dataframe\">\n",
       "  <thead>\n",
       "    <tr style=\"text-align: right;\">\n",
       "      <th></th>\n",
       "      <th>feature</th>\n",
       "      <th>coef</th>\n",
       "    </tr>\n",
       "  </thead>\n",
       "  <tbody>\n",
       "    <tr>\n",
       "      <th>0</th>\n",
       "      <td>job_services</td>\n",
       "      <td>0.005287</td>\n",
       "    </tr>\n",
       "    <tr>\n",
       "      <th>1</th>\n",
       "      <td>is_default</td>\n",
       "      <td>0.005308</td>\n",
       "    </tr>\n",
       "    <tr>\n",
       "      <th>2</th>\n",
       "      <td>job_blue-collar</td>\n",
       "      <td>0.007707</td>\n",
       "    </tr>\n",
       "    <tr>\n",
       "      <th>3</th>\n",
       "      <td>previous</td>\n",
       "      <td>0.010764</td>\n",
       "    </tr>\n",
       "    <tr>\n",
       "      <th>4</th>\n",
       "      <td>job_housemaid</td>\n",
       "      <td>0.012734</td>\n",
       "    </tr>\n",
       "    <tr>\n",
       "      <th>5</th>\n",
       "      <td>balance</td>\n",
       "      <td>0.014801</td>\n",
       "    </tr>\n",
       "    <tr>\n",
       "      <th>6</th>\n",
       "      <td>job_student</td>\n",
       "      <td>0.015884</td>\n",
       "    </tr>\n",
       "    <tr>\n",
       "      <th>7</th>\n",
       "      <td>is_loan</td>\n",
       "      <td>0.017525</td>\n",
       "    </tr>\n",
       "    <tr>\n",
       "      <th>8</th>\n",
       "      <td>is_married</td>\n",
       "      <td>0.019714</td>\n",
       "    </tr>\n",
       "    <tr>\n",
       "      <th>9</th>\n",
       "      <td>is_housing</td>\n",
       "      <td>0.142353</td>\n",
       "    </tr>\n",
       "    <tr>\n",
       "      <th>10</th>\n",
       "      <td>is_poutcome_succcess</td>\n",
       "      <td>0.747923</td>\n",
       "    </tr>\n",
       "  </tbody>\n",
       "</table>\n",
       "</div>"
      ],
      "text/plain": [
       "                 feature      coef\n",
       "0           job_services  0.005287\n",
       "1             is_default  0.005308\n",
       "2        job_blue-collar  0.007707\n",
       "3               previous  0.010764\n",
       "4          job_housemaid  0.012734\n",
       "5                balance  0.014801\n",
       "6            job_student  0.015884\n",
       "7                is_loan  0.017525\n",
       "8             is_married  0.019714\n",
       "9             is_housing  0.142353\n",
       "10  is_poutcome_succcess  0.747923"
      ]
     },
     "execution_count": 863,
     "metadata": {},
     "output_type": "execute_result"
    }
   ],
   "source": [
    "pd.DataFrame(list(zip(list(X_train.columns), list(model.feature_importances_))), columns = ['feature', 'coef'])\\\n",
    "            .sort_values(by = ['coef'], ascending = True).reset_index(drop = True)"
   ]
  },
  {
   "cell_type": "code",
   "execution_count": 1061,
   "id": "f4dfa052",
   "metadata": {},
   "outputs": [
    {
     "data": {
      "text/html": [
       "<div>\n",
       "<style scoped>\n",
       "    .dataframe tbody tr th:only-of-type {\n",
       "        vertical-align: middle;\n",
       "    }\n",
       "\n",
       "    .dataframe tbody tr th {\n",
       "        vertical-align: top;\n",
       "    }\n",
       "\n",
       "    .dataframe thead th {\n",
       "        text-align: right;\n",
       "    }\n",
       "</style>\n",
       "<table border=\"1\" class=\"dataframe\">\n",
       "  <thead>\n",
       "    <tr style=\"text-align: right;\">\n",
       "      <th></th>\n",
       "      <th>feature</th>\n",
       "      <th>coef</th>\n",
       "    </tr>\n",
       "  </thead>\n",
       "  <tbody>\n",
       "    <tr>\n",
       "      <th>0</th>\n",
       "      <td>is_housing</td>\n",
       "      <td>-0.249110</td>\n",
       "    </tr>\n",
       "    <tr>\n",
       "      <th>1</th>\n",
       "      <td>is_loan</td>\n",
       "      <td>-0.106619</td>\n",
       "    </tr>\n",
       "    <tr>\n",
       "      <th>2</th>\n",
       "      <td>is_married</td>\n",
       "      <td>-0.100443</td>\n",
       "    </tr>\n",
       "    <tr>\n",
       "      <th>3</th>\n",
       "      <td>balance</td>\n",
       "      <td>0.105035</td>\n",
       "    </tr>\n",
       "    <tr>\n",
       "      <th>4</th>\n",
       "      <td>education_mapped</td>\n",
       "      <td>0.128424</td>\n",
       "    </tr>\n",
       "    <tr>\n",
       "      <th>5</th>\n",
       "      <td>previous</td>\n",
       "      <td>0.171821</td>\n",
       "    </tr>\n",
       "    <tr>\n",
       "      <th>6</th>\n",
       "      <td>is_poutcome_succcess</td>\n",
       "      <td>0.225070</td>\n",
       "    </tr>\n",
       "  </tbody>\n",
       "</table>\n",
       "</div>"
      ],
      "text/plain": [
       "                feature      coef\n",
       "0            is_housing -0.249110\n",
       "1               is_loan -0.106619\n",
       "2            is_married -0.100443\n",
       "3               balance  0.105035\n",
       "4      education_mapped  0.128424\n",
       "5              previous  0.171821\n",
       "6  is_poutcome_succcess  0.225070"
      ]
     },
     "execution_count": 1061,
     "metadata": {},
     "output_type": "execute_result"
    }
   ],
   "source": [
    "pd.DataFrame(list(zip(list(X_train.columns), list(model.coef_[0]))), columns = ['feature', 'coef'])\\\n",
    "            .sort_values(by = ['coef'], ascending = True).reset_index(drop = True)"
   ]
  },
  {
   "cell_type": "code",
   "execution_count": 1079,
   "id": "1e466166",
   "metadata": {},
   "outputs": [
    {
     "data": {
      "text/html": [
       "<div>\n",
       "<style scoped>\n",
       "    .dataframe tbody tr th:only-of-type {\n",
       "        vertical-align: middle;\n",
       "    }\n",
       "\n",
       "    .dataframe tbody tr th {\n",
       "        vertical-align: top;\n",
       "    }\n",
       "\n",
       "    .dataframe thead th {\n",
       "        text-align: right;\n",
       "    }\n",
       "</style>\n",
       "<table border=\"1\" class=\"dataframe\">\n",
       "  <thead>\n",
       "    <tr style=\"text-align: right;\">\n",
       "      <th></th>\n",
       "      <th>feature</th>\n",
       "      <th>coef</th>\n",
       "    </tr>\n",
       "  </thead>\n",
       "  <tbody>\n",
       "    <tr>\n",
       "      <th>0</th>\n",
       "      <td>is_housing</td>\n",
       "      <td>-2.080760</td>\n",
       "    </tr>\n",
       "    <tr>\n",
       "      <th>1</th>\n",
       "      <td>is_loan</td>\n",
       "      <td>-0.876709</td>\n",
       "    </tr>\n",
       "    <tr>\n",
       "      <th>2</th>\n",
       "      <td>is_married</td>\n",
       "      <td>-0.864179</td>\n",
       "    </tr>\n",
       "    <tr>\n",
       "      <th>3</th>\n",
       "      <td>balance</td>\n",
       "      <td>0.731104</td>\n",
       "    </tr>\n",
       "    <tr>\n",
       "      <th>4</th>\n",
       "      <td>education_mapped</td>\n",
       "      <td>0.991062</td>\n",
       "    </tr>\n",
       "    <tr>\n",
       "      <th>5</th>\n",
       "      <td>previous</td>\n",
       "      <td>1.354249</td>\n",
       "    </tr>\n",
       "    <tr>\n",
       "      <th>6</th>\n",
       "      <td>is_poutcome_succcess</td>\n",
       "      <td>1.745234</td>\n",
       "    </tr>\n",
       "  </tbody>\n",
       "</table>\n",
       "</div>"
      ],
      "text/plain": [
       "                feature      coef\n",
       "0            is_housing -2.080760\n",
       "1               is_loan -0.876709\n",
       "2            is_married -0.864179\n",
       "3               balance  0.731104\n",
       "4      education_mapped  0.991062\n",
       "5              previous  1.354249\n",
       "6  is_poutcome_succcess  1.745234"
      ]
     },
     "execution_count": 1079,
     "metadata": {},
     "output_type": "execute_result"
    }
   ],
   "source": [
    "pd.DataFrame(list(zip(list(X_train.columns), list(model.feature_importances_))), columns = ['feature', 'coef'])\\\n",
    "            .sort_values(by = ['coef'], ascending = True).reset_index(drop = True)"
   ]
  },
  {
   "cell_type": "code",
   "execution_count": 1080,
   "id": "a9cd4f03-f798-48cc-8e4c-707c6980a3be",
   "metadata": {},
   "outputs": [
    {
     "data": {
      "text/plain": [
       "Text(1.9722222222222232, 0.5, 'Actual')"
      ]
     },
     "execution_count": 1080,
     "metadata": {},
     "output_type": "execute_result"
    },
    {
     "data": {
      "image/png": "[encoded data removed]",
      "text/plain": [
       "<Figure size 250x200 with 2 Axes>"
      ]
     },
     "metadata": {},
     "output_type": "display_data"
    }
   ],
   "source": [
    "from sklearn.metrics import confusion_matrix\n",
    "\n",
    "fig = plt.figure(figsize = (2.5,2))\n",
    "sns.heatmap((confusion_matrix(y_test, y_pred)), annot = True, fmt = '.0f', ax = fig.add_subplot(1,1, 1))\n",
    "plt.title(f'Confusion matrix\\ntest set of {len(y_test)}')\n",
    "plt.xlabel('Predicted')\n",
    "plt.ylabel('Actual')"
   ]
  },
  {
   "cell_type": "code",
   "execution_count": 900,
   "id": "067ba61f",
   "metadata": {
    "scrolled": false
   },
   "outputs": [
    {
     "data": {
      "image/png": "[encoded data removed]",
      "text/plain": [
       "<Figure size 800x590 with 2 Axes>"
      ]
     },
     "metadata": {},
     "output_type": "display_data"
    }
   ],
   "source": [
    "from xgboost import DMatrix\n",
    "\n",
    "booster = model.get_booster()\n",
    "predictions = booster.predict(DMatrix(X_test[:]), pred_contribs = True)\n",
    "shap.summary_plot(predictions[:,:-1], X_test)"
   ]
  },
  {
   "cell_type": "code",
   "execution_count": 865,
   "id": "8c287652",
   "metadata": {},
   "outputs": [
    {
     "data": {
      "image/png": "[encoded data removed]",
      "text/plain": [
       "<Figure size 800x590 with 2 Axes>"
      ]
     },
     "metadata": {},
     "output_type": "display_data"
    }
   ],
   "source": [
    "import shap\n",
    "explainer = shap.TreeExplainer(model)\n",
    "shap_values = explainer.shap_values(X_test)\n",
    "shap.summary_plot(shap_values, X_test)"
   ]
  },
  {
   "cell_type": "code",
   "execution_count": 1082,
   "id": "240254aa",
   "metadata": {
    "scrolled": false
   },
   "outputs": [
    {
     "data": {
      "image/png": "[encoded data removed]",
      "text/plain": [
       "<Figure size 800x430 with 2 Axes>"
      ]
     },
     "metadata": {},
     "output_type": "display_data"
    }
   ],
   "source": [
    "explainer = shap.LinearExplainer(model, X_train_over, feature_dependence=\"independent\")\n",
    "shap_values = explainer.shap_values(X_test)\n",
    "X_test_array = np.array(X_test)\n",
    "shap.summary_plot(shap_values, X_test_array, feature_names=X_train.columns)"
   ]
  }
 ],
 "metadata": {
  "kernelspec": {
   "display_name": "Python 3 (ipykernel)",
   "language": "python",
   "name": "python3"
  },
  "language_info": {
   "codemirror_mode": {
    "name": "ipython",
    "version": 3
   },
   "file_extension": ".py",
   "mimetype": "text/x-python",
   "name": "python",
   "nbconvert_exporter": "python",
   "pygments_lexer": "ipython3",
   "version": "3.10.9"
  }
 },
 "nbformat": 4,
 "nbformat_minor": 5
}
