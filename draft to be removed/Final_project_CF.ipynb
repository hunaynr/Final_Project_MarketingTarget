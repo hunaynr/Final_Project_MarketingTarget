{
 "cells": [
  {
   "cell_type": "markdown",
   "id": "874952a6-c899-49c5-a67f-9ca378a6828a",
   "metadata": {},
   "source": [
    "## Data Preparation"
   ]
  },
  {
   "cell_type": "markdown",
   "id": "0897b016-420e-423e-9b8d-626d15cfd45e",
   "metadata": {},
   "source": [
    "Mempersiapkan dan memastikan bahwa data yang digunakan untuk analisis adalah data yang berkualitas dan dapat digunakan untuk modelling"
   ]
  },
  {
   "cell_type": "code",
   "execution_count": 1,
   "id": "eda0a9ff-aa88-437a-8213-a8e3604c594f",
   "metadata": {},
   "outputs": [
    {
     "ename": "FileNotFoundError",
     "evalue": "[Errno 2] No such file or directory: 'train.csv'",
     "output_type": "error",
     "traceback": [
      "\u001b[1;31m---------------------------------------------------------------------------\u001b[0m",
      "\u001b[1;31mFileNotFoundError\u001b[0m                         Traceback (most recent call last)",
      "Cell \u001b[1;32mIn[1], line 10\u001b[0m\n\u001b[0;32m      7\u001b[0m \u001b[38;5;28;01mimport\u001b[39;00m \u001b[38;5;21;01mmatplotlib\u001b[39;00m\u001b[38;5;21;01m.\u001b[39;00m\u001b[38;5;21;01mpyplot\u001b[39;00m \u001b[38;5;28;01mas\u001b[39;00m \u001b[38;5;21;01mplt\u001b[39;00m\n\u001b[0;32m      8\u001b[0m \u001b[38;5;28;01mimport\u001b[39;00m \u001b[38;5;21;01mmath\u001b[39;00m\n\u001b[1;32m---> 10\u001b[0m df \u001b[38;5;241m=\u001b[39m \u001b[43mpd\u001b[49m\u001b[38;5;241;43m.\u001b[39;49m\u001b[43mread_csv\u001b[49m\u001b[43m(\u001b[49m\u001b[38;5;124;43m'\u001b[39;49m\u001b[38;5;124;43mtrain.csv\u001b[39;49m\u001b[38;5;124;43m'\u001b[39;49m\u001b[43m,\u001b[49m\u001b[43m \u001b[49m\u001b[43msep\u001b[49m\u001b[43m \u001b[49m\u001b[38;5;241;43m=\u001b[39;49m\u001b[43m \u001b[49m\u001b[38;5;124;43m'\u001b[39;49m\u001b[38;5;124;43m;\u001b[39;49m\u001b[38;5;124;43m'\u001b[39;49m\u001b[43m)\u001b[49m\n\u001b[0;32m     11\u001b[0m df\u001b[38;5;241m.\u001b[39msample(\u001b[38;5;241m5\u001b[39m)\n",
      "File \u001b[1;32m~\\anaconda3\\lib\\site-packages\\pandas\\util\\_decorators.py:211\u001b[0m, in \u001b[0;36mdeprecate_kwarg.<locals>._deprecate_kwarg.<locals>.wrapper\u001b[1;34m(*args, **kwargs)\u001b[0m\n\u001b[0;32m    209\u001b[0m     \u001b[38;5;28;01melse\u001b[39;00m:\n\u001b[0;32m    210\u001b[0m         kwargs[new_arg_name] \u001b[38;5;241m=\u001b[39m new_arg_value\n\u001b[1;32m--> 211\u001b[0m \u001b[38;5;28;01mreturn\u001b[39;00m func(\u001b[38;5;241m*\u001b[39margs, \u001b[38;5;241m*\u001b[39m\u001b[38;5;241m*\u001b[39mkwargs)\n",
      "File \u001b[1;32m~\\anaconda3\\lib\\site-packages\\pandas\\util\\_decorators.py:331\u001b[0m, in \u001b[0;36mdeprecate_nonkeyword_arguments.<locals>.decorate.<locals>.wrapper\u001b[1;34m(*args, **kwargs)\u001b[0m\n\u001b[0;32m    325\u001b[0m \u001b[38;5;28;01mif\u001b[39;00m \u001b[38;5;28mlen\u001b[39m(args) \u001b[38;5;241m>\u001b[39m num_allow_args:\n\u001b[0;32m    326\u001b[0m     warnings\u001b[38;5;241m.\u001b[39mwarn(\n\u001b[0;32m    327\u001b[0m         msg\u001b[38;5;241m.\u001b[39mformat(arguments\u001b[38;5;241m=\u001b[39m_format_argument_list(allow_args)),\n\u001b[0;32m    328\u001b[0m         \u001b[38;5;167;01mFutureWarning\u001b[39;00m,\n\u001b[0;32m    329\u001b[0m         stacklevel\u001b[38;5;241m=\u001b[39mfind_stack_level(),\n\u001b[0;32m    330\u001b[0m     )\n\u001b[1;32m--> 331\u001b[0m \u001b[38;5;28;01mreturn\u001b[39;00m func(\u001b[38;5;241m*\u001b[39margs, \u001b[38;5;241m*\u001b[39m\u001b[38;5;241m*\u001b[39mkwargs)\n",
      "File \u001b[1;32m~\\anaconda3\\lib\\site-packages\\pandas\\io\\parsers\\readers.py:950\u001b[0m, in \u001b[0;36mread_csv\u001b[1;34m(filepath_or_buffer, sep, delimiter, header, names, index_col, usecols, squeeze, prefix, mangle_dupe_cols, dtype, engine, converters, true_values, false_values, skipinitialspace, skiprows, skipfooter, nrows, na_values, keep_default_na, na_filter, verbose, skip_blank_lines, parse_dates, infer_datetime_format, keep_date_col, date_parser, dayfirst, cache_dates, iterator, chunksize, compression, thousands, decimal, lineterminator, quotechar, quoting, doublequote, escapechar, comment, encoding, encoding_errors, dialect, error_bad_lines, warn_bad_lines, on_bad_lines, delim_whitespace, low_memory, memory_map, float_precision, storage_options)\u001b[0m\n\u001b[0;32m    935\u001b[0m kwds_defaults \u001b[38;5;241m=\u001b[39m _refine_defaults_read(\n\u001b[0;32m    936\u001b[0m     dialect,\n\u001b[0;32m    937\u001b[0m     delimiter,\n\u001b[1;32m   (...)\u001b[0m\n\u001b[0;32m    946\u001b[0m     defaults\u001b[38;5;241m=\u001b[39m{\u001b[38;5;124m\"\u001b[39m\u001b[38;5;124mdelimiter\u001b[39m\u001b[38;5;124m\"\u001b[39m: \u001b[38;5;124m\"\u001b[39m\u001b[38;5;124m,\u001b[39m\u001b[38;5;124m\"\u001b[39m},\n\u001b[0;32m    947\u001b[0m )\n\u001b[0;32m    948\u001b[0m kwds\u001b[38;5;241m.\u001b[39mupdate(kwds_defaults)\n\u001b[1;32m--> 950\u001b[0m \u001b[38;5;28;01mreturn\u001b[39;00m \u001b[43m_read\u001b[49m\u001b[43m(\u001b[49m\u001b[43mfilepath_or_buffer\u001b[49m\u001b[43m,\u001b[49m\u001b[43m \u001b[49m\u001b[43mkwds\u001b[49m\u001b[43m)\u001b[49m\n",
      "File \u001b[1;32m~\\anaconda3\\lib\\site-packages\\pandas\\io\\parsers\\readers.py:605\u001b[0m, in \u001b[0;36m_read\u001b[1;34m(filepath_or_buffer, kwds)\u001b[0m\n\u001b[0;32m    602\u001b[0m _validate_names(kwds\u001b[38;5;241m.\u001b[39mget(\u001b[38;5;124m\"\u001b[39m\u001b[38;5;124mnames\u001b[39m\u001b[38;5;124m\"\u001b[39m, \u001b[38;5;28;01mNone\u001b[39;00m))\n\u001b[0;32m    604\u001b[0m \u001b[38;5;66;03m# Create the parser.\u001b[39;00m\n\u001b[1;32m--> 605\u001b[0m parser \u001b[38;5;241m=\u001b[39m TextFileReader(filepath_or_buffer, \u001b[38;5;241m*\u001b[39m\u001b[38;5;241m*\u001b[39mkwds)\n\u001b[0;32m    607\u001b[0m \u001b[38;5;28;01mif\u001b[39;00m chunksize \u001b[38;5;129;01mor\u001b[39;00m iterator:\n\u001b[0;32m    608\u001b[0m     \u001b[38;5;28;01mreturn\u001b[39;00m parser\n",
      "File \u001b[1;32m~\\anaconda3\\lib\\site-packages\\pandas\\io\\parsers\\readers.py:1442\u001b[0m, in \u001b[0;36mTextFileReader.__init__\u001b[1;34m(self, f, engine, **kwds)\u001b[0m\n\u001b[0;32m   1439\u001b[0m     \u001b[38;5;28mself\u001b[39m\u001b[38;5;241m.\u001b[39moptions[\u001b[38;5;124m\"\u001b[39m\u001b[38;5;124mhas_index_names\u001b[39m\u001b[38;5;124m\"\u001b[39m] \u001b[38;5;241m=\u001b[39m kwds[\u001b[38;5;124m\"\u001b[39m\u001b[38;5;124mhas_index_names\u001b[39m\u001b[38;5;124m\"\u001b[39m]\n\u001b[0;32m   1441\u001b[0m \u001b[38;5;28mself\u001b[39m\u001b[38;5;241m.\u001b[39mhandles: IOHandles \u001b[38;5;241m|\u001b[39m \u001b[38;5;28;01mNone\u001b[39;00m \u001b[38;5;241m=\u001b[39m \u001b[38;5;28;01mNone\u001b[39;00m\n\u001b[1;32m-> 1442\u001b[0m \u001b[38;5;28mself\u001b[39m\u001b[38;5;241m.\u001b[39m_engine \u001b[38;5;241m=\u001b[39m \u001b[38;5;28;43mself\u001b[39;49m\u001b[38;5;241;43m.\u001b[39;49m\u001b[43m_make_engine\u001b[49m\u001b[43m(\u001b[49m\u001b[43mf\u001b[49m\u001b[43m,\u001b[49m\u001b[43m \u001b[49m\u001b[38;5;28;43mself\u001b[39;49m\u001b[38;5;241;43m.\u001b[39;49m\u001b[43mengine\u001b[49m\u001b[43m)\u001b[49m\n",
      "File \u001b[1;32m~\\anaconda3\\lib\\site-packages\\pandas\\io\\parsers\\readers.py:1735\u001b[0m, in \u001b[0;36mTextFileReader._make_engine\u001b[1;34m(self, f, engine)\u001b[0m\n\u001b[0;32m   1733\u001b[0m     \u001b[38;5;28;01mif\u001b[39;00m \u001b[38;5;124m\"\u001b[39m\u001b[38;5;124mb\u001b[39m\u001b[38;5;124m\"\u001b[39m \u001b[38;5;129;01mnot\u001b[39;00m \u001b[38;5;129;01min\u001b[39;00m mode:\n\u001b[0;32m   1734\u001b[0m         mode \u001b[38;5;241m+\u001b[39m\u001b[38;5;241m=\u001b[39m \u001b[38;5;124m\"\u001b[39m\u001b[38;5;124mb\u001b[39m\u001b[38;5;124m\"\u001b[39m\n\u001b[1;32m-> 1735\u001b[0m \u001b[38;5;28mself\u001b[39m\u001b[38;5;241m.\u001b[39mhandles \u001b[38;5;241m=\u001b[39m \u001b[43mget_handle\u001b[49m\u001b[43m(\u001b[49m\n\u001b[0;32m   1736\u001b[0m \u001b[43m    \u001b[49m\u001b[43mf\u001b[49m\u001b[43m,\u001b[49m\n\u001b[0;32m   1737\u001b[0m \u001b[43m    \u001b[49m\u001b[43mmode\u001b[49m\u001b[43m,\u001b[49m\n\u001b[0;32m   1738\u001b[0m \u001b[43m    \u001b[49m\u001b[43mencoding\u001b[49m\u001b[38;5;241;43m=\u001b[39;49m\u001b[38;5;28;43mself\u001b[39;49m\u001b[38;5;241;43m.\u001b[39;49m\u001b[43moptions\u001b[49m\u001b[38;5;241;43m.\u001b[39;49m\u001b[43mget\u001b[49m\u001b[43m(\u001b[49m\u001b[38;5;124;43m\"\u001b[39;49m\u001b[38;5;124;43mencoding\u001b[39;49m\u001b[38;5;124;43m\"\u001b[39;49m\u001b[43m,\u001b[49m\u001b[43m \u001b[49m\u001b[38;5;28;43;01mNone\u001b[39;49;00m\u001b[43m)\u001b[49m\u001b[43m,\u001b[49m\n\u001b[0;32m   1739\u001b[0m \u001b[43m    \u001b[49m\u001b[43mcompression\u001b[49m\u001b[38;5;241;43m=\u001b[39;49m\u001b[38;5;28;43mself\u001b[39;49m\u001b[38;5;241;43m.\u001b[39;49m\u001b[43moptions\u001b[49m\u001b[38;5;241;43m.\u001b[39;49m\u001b[43mget\u001b[49m\u001b[43m(\u001b[49m\u001b[38;5;124;43m\"\u001b[39;49m\u001b[38;5;124;43mcompression\u001b[39;49m\u001b[38;5;124;43m\"\u001b[39;49m\u001b[43m,\u001b[49m\u001b[43m \u001b[49m\u001b[38;5;28;43;01mNone\u001b[39;49;00m\u001b[43m)\u001b[49m\u001b[43m,\u001b[49m\n\u001b[0;32m   1740\u001b[0m \u001b[43m    \u001b[49m\u001b[43mmemory_map\u001b[49m\u001b[38;5;241;43m=\u001b[39;49m\u001b[38;5;28;43mself\u001b[39;49m\u001b[38;5;241;43m.\u001b[39;49m\u001b[43moptions\u001b[49m\u001b[38;5;241;43m.\u001b[39;49m\u001b[43mget\u001b[49m\u001b[43m(\u001b[49m\u001b[38;5;124;43m\"\u001b[39;49m\u001b[38;5;124;43mmemory_map\u001b[39;49m\u001b[38;5;124;43m\"\u001b[39;49m\u001b[43m,\u001b[49m\u001b[43m \u001b[49m\u001b[38;5;28;43;01mFalse\u001b[39;49;00m\u001b[43m)\u001b[49m\u001b[43m,\u001b[49m\n\u001b[0;32m   1741\u001b[0m \u001b[43m    \u001b[49m\u001b[43mis_text\u001b[49m\u001b[38;5;241;43m=\u001b[39;49m\u001b[43mis_text\u001b[49m\u001b[43m,\u001b[49m\n\u001b[0;32m   1742\u001b[0m \u001b[43m    \u001b[49m\u001b[43merrors\u001b[49m\u001b[38;5;241;43m=\u001b[39;49m\u001b[38;5;28;43mself\u001b[39;49m\u001b[38;5;241;43m.\u001b[39;49m\u001b[43moptions\u001b[49m\u001b[38;5;241;43m.\u001b[39;49m\u001b[43mget\u001b[49m\u001b[43m(\u001b[49m\u001b[38;5;124;43m\"\u001b[39;49m\u001b[38;5;124;43mencoding_errors\u001b[39;49m\u001b[38;5;124;43m\"\u001b[39;49m\u001b[43m,\u001b[49m\u001b[43m \u001b[49m\u001b[38;5;124;43m\"\u001b[39;49m\u001b[38;5;124;43mstrict\u001b[39;49m\u001b[38;5;124;43m\"\u001b[39;49m\u001b[43m)\u001b[49m\u001b[43m,\u001b[49m\n\u001b[0;32m   1743\u001b[0m \u001b[43m    \u001b[49m\u001b[43mstorage_options\u001b[49m\u001b[38;5;241;43m=\u001b[39;49m\u001b[38;5;28;43mself\u001b[39;49m\u001b[38;5;241;43m.\u001b[39;49m\u001b[43moptions\u001b[49m\u001b[38;5;241;43m.\u001b[39;49m\u001b[43mget\u001b[49m\u001b[43m(\u001b[49m\u001b[38;5;124;43m\"\u001b[39;49m\u001b[38;5;124;43mstorage_options\u001b[39;49m\u001b[38;5;124;43m\"\u001b[39;49m\u001b[43m,\u001b[49m\u001b[43m \u001b[49m\u001b[38;5;28;43;01mNone\u001b[39;49;00m\u001b[43m)\u001b[49m\u001b[43m,\u001b[49m\n\u001b[0;32m   1744\u001b[0m \u001b[43m\u001b[49m\u001b[43m)\u001b[49m\n\u001b[0;32m   1745\u001b[0m \u001b[38;5;28;01massert\u001b[39;00m \u001b[38;5;28mself\u001b[39m\u001b[38;5;241m.\u001b[39mhandles \u001b[38;5;129;01mis\u001b[39;00m \u001b[38;5;129;01mnot\u001b[39;00m \u001b[38;5;28;01mNone\u001b[39;00m\n\u001b[0;32m   1746\u001b[0m f \u001b[38;5;241m=\u001b[39m \u001b[38;5;28mself\u001b[39m\u001b[38;5;241m.\u001b[39mhandles\u001b[38;5;241m.\u001b[39mhandle\n",
      "File \u001b[1;32m~\\anaconda3\\lib\\site-packages\\pandas\\io\\common.py:856\u001b[0m, in \u001b[0;36mget_handle\u001b[1;34m(path_or_buf, mode, encoding, compression, memory_map, is_text, errors, storage_options)\u001b[0m\n\u001b[0;32m    851\u001b[0m \u001b[38;5;28;01melif\u001b[39;00m \u001b[38;5;28misinstance\u001b[39m(handle, \u001b[38;5;28mstr\u001b[39m):\n\u001b[0;32m    852\u001b[0m     \u001b[38;5;66;03m# Check whether the filename is to be opened in binary mode.\u001b[39;00m\n\u001b[0;32m    853\u001b[0m     \u001b[38;5;66;03m# Binary mode does not support 'encoding' and 'newline'.\u001b[39;00m\n\u001b[0;32m    854\u001b[0m     \u001b[38;5;28;01mif\u001b[39;00m ioargs\u001b[38;5;241m.\u001b[39mencoding \u001b[38;5;129;01mand\u001b[39;00m \u001b[38;5;124m\"\u001b[39m\u001b[38;5;124mb\u001b[39m\u001b[38;5;124m\"\u001b[39m \u001b[38;5;129;01mnot\u001b[39;00m \u001b[38;5;129;01min\u001b[39;00m ioargs\u001b[38;5;241m.\u001b[39mmode:\n\u001b[0;32m    855\u001b[0m         \u001b[38;5;66;03m# Encoding\u001b[39;00m\n\u001b[1;32m--> 856\u001b[0m         handle \u001b[38;5;241m=\u001b[39m \u001b[38;5;28;43mopen\u001b[39;49m\u001b[43m(\u001b[49m\n\u001b[0;32m    857\u001b[0m \u001b[43m            \u001b[49m\u001b[43mhandle\u001b[49m\u001b[43m,\u001b[49m\n\u001b[0;32m    858\u001b[0m \u001b[43m            \u001b[49m\u001b[43mioargs\u001b[49m\u001b[38;5;241;43m.\u001b[39;49m\u001b[43mmode\u001b[49m\u001b[43m,\u001b[49m\n\u001b[0;32m    859\u001b[0m \u001b[43m            \u001b[49m\u001b[43mencoding\u001b[49m\u001b[38;5;241;43m=\u001b[39;49m\u001b[43mioargs\u001b[49m\u001b[38;5;241;43m.\u001b[39;49m\u001b[43mencoding\u001b[49m\u001b[43m,\u001b[49m\n\u001b[0;32m    860\u001b[0m \u001b[43m            \u001b[49m\u001b[43merrors\u001b[49m\u001b[38;5;241;43m=\u001b[39;49m\u001b[43merrors\u001b[49m\u001b[43m,\u001b[49m\n\u001b[0;32m    861\u001b[0m \u001b[43m            \u001b[49m\u001b[43mnewline\u001b[49m\u001b[38;5;241;43m=\u001b[39;49m\u001b[38;5;124;43m\"\u001b[39;49m\u001b[38;5;124;43m\"\u001b[39;49m\u001b[43m,\u001b[49m\n\u001b[0;32m    862\u001b[0m \u001b[43m        \u001b[49m\u001b[43m)\u001b[49m\n\u001b[0;32m    863\u001b[0m     \u001b[38;5;28;01melse\u001b[39;00m:\n\u001b[0;32m    864\u001b[0m         \u001b[38;5;66;03m# Binary mode\u001b[39;00m\n\u001b[0;32m    865\u001b[0m         handle \u001b[38;5;241m=\u001b[39m \u001b[38;5;28mopen\u001b[39m(handle, ioargs\u001b[38;5;241m.\u001b[39mmode)\n",
      "\u001b[1;31mFileNotFoundError\u001b[0m: [Errno 2] No such file or directory: 'train.csv'"
     ]
    }
   ],
   "source": [
    "import warnings\n",
    "warnings.filterwarnings('ignore')\n",
    "\n",
    "import numpy as np\n",
    "import pandas as pd\n",
    "import seaborn as sns\n",
    "import matplotlib.pyplot as plt\n",
    "import math\n",
    "\n",
    "df = pd.read_csv('train.csv', sep = ';')\n",
    "df.sample(5)"
   ]
  },
  {
   "cell_type": "code",
   "execution_count": 135,
   "id": "44e06f68-e9bd-4caf-a172-4f445a75fe16",
   "metadata": {},
   "outputs": [
    {
     "data": {
      "text/plain": [
       "(Index(['job', 'marital', 'education', 'default', 'housing', 'loan', 'contact',\n",
       "        'month', 'poutcome', 'y'],\n",
       "       dtype='object'),\n",
       " Index(['age', 'balance', 'day', 'duration', 'campaign', 'pdays', 'previous'], dtype='object'))"
      ]
     },
     "execution_count": 135,
     "metadata": {},
     "output_type": "execute_result"
    }
   ],
   "source": [
    "cats = df.select_dtypes(include = ['object']).columns\n",
    "nums = df.select_dtypes(include = ['int64', 'float64']).columns\n",
    "\n",
    "cats, nums"
   ]
  },
  {
   "cell_type": "markdown",
   "id": "b1624cf3-9198-407d-9e68-9b65da79e713",
   "metadata": {},
   "source": [
    "### Missing Values"
   ]
  },
  {
   "cell_type": "code",
   "execution_count": 136,
   "id": "28b1d564-39b9-4e92-b701-1a3b31e9e5aa",
   "metadata": {},
   "outputs": [
    {
     "data": {
      "text/plain": [
       "age          0\n",
       "job          0\n",
       "marital      0\n",
       "education    0\n",
       "default      0\n",
       "balance      0\n",
       "housing      0\n",
       "loan         0\n",
       "contact      0\n",
       "day          0\n",
       "month        0\n",
       "duration     0\n",
       "campaign     0\n",
       "pdays        0\n",
       "previous     0\n",
       "poutcome     0\n",
       "y            0\n",
       "dtype: int64"
      ]
     },
     "execution_count": 136,
     "metadata": {},
     "output_type": "execute_result"
    }
   ],
   "source": [
    "df.isna().sum()"
   ]
  },
  {
   "cell_type": "markdown",
   "id": "2057459a-b5de-475b-bdd0-6dc8216663cc",
   "metadata": {},
   "source": [
    "Tidak perlu handling missing values, dikarenakan tidak ada kolom yang null"
   ]
  },
  {
   "cell_type": "markdown",
   "id": "f82a37df-c14c-4bda-97b7-5e62d48434fe",
   "metadata": {},
   "source": [
    "### Duplicate Values"
   ]
  },
  {
   "cell_type": "code",
   "execution_count": 137,
   "id": "d7b970f9-1999-4bf6-91ee-8d4eb7eb7502",
   "metadata": {},
   "outputs": [
    {
     "data": {
      "text/plain": [
       "False"
      ]
     },
     "execution_count": 137,
     "metadata": {},
     "output_type": "execute_result"
    }
   ],
   "source": [
    "df.duplicated().any()"
   ]
  },
  {
   "cell_type": "markdown",
   "id": "5dcc3eee-e140-4fb3-bacd-4e84fbfdb64a",
   "metadata": {},
   "source": [
    "Tidak perlu handling duplicated values di karenakan tidak ada value duplikat"
   ]
  },
  {
   "cell_type": "markdown",
   "id": "16ca820a-cfa1-48e2-870f-1aed59310ed6",
   "metadata": {},
   "source": [
    "### Penanganan Outliers "
   ]
  },
  {
   "cell_type": "markdown",
   "id": "da8cedba-b789-4080-8f2e-520ed897ef58",
   "metadata": {},
   "source": [
    "Kami mempertimbangkan untuk  penanganan outliers menggunakan Z-score untuk menentukan seberapa jauh suatu data berada dari rata-rata, dengan Z-score tinggi dianggap sebagai outlier atau nilai ekstrem , kami mempertimbangkan dengan memilih z-score dikarenakan kami tidak ingin kehilangan banyak data. Dikarenakan data nya tidak berdistribusi normal maka kami melakukan log transformasi terlebih dahulu."
   ]
  },
  {
   "cell_type": "code",
   "execution_count": 138,
   "id": "350a0c78-4b0a-43f6-8561-3cf21f7dd473",
   "metadata": {},
   "outputs": [
    {
     "name": "stdout",
     "output_type": "stream",
     "text": [
      "Total negative value of age: 0\n",
      "Total negative value of balance: 0\n",
      "Total negative value of day: 0\n",
      "Total negative value of duration: 0\n",
      "Total negative value of campaign: 0\n",
      "Total negative value of pdays: 0\n",
      "Total negative value of previous: 0\n"
     ]
    }
   ],
   "source": [
    "for i in nums:\n",
    "    if (df[i] < 0).any():\n",
    "        df[i] = df.apply(lambda x : int(0) if int(x[i]) < 0 else x[i], axis = 1)\n",
    "    print(f\"Total negative value of {i}:\", (df[i] < 0).sum())"
   ]
  },
  {
   "cell_type": "markdown",
   "id": "4079f53c-c429-4f49-bd36-f66fa303c62a",
   "metadata": {},
   "source": [
    "Sebelum melakukan log transformasi, dicek terlebih dahulu agar tidak ada negatif values ketika log transformasi"
   ]
  },
  {
   "cell_type": "code",
   "execution_count": 139,
   "id": "d797fdc3-2b7c-40d9-9099-44109f1ada9d",
   "metadata": {},
   "outputs": [],
   "source": [
    "for i in nums:\n",
    "    if i not in ['age', 'day']:\n",
    "        df[i] = np.log(df[i] + (df[df[i] > 0][i].min() / 2))"
   ]
  },
  {
   "cell_type": "code",
   "execution_count": 140,
   "id": "01541116-1e01-41c6-ba81-b4a3aedad34d",
   "metadata": {},
   "outputs": [
    {
     "data": {
      "text/html": [
       "<div>\n",
       "<style scoped>\n",
       "    .dataframe tbody tr th:only-of-type {\n",
       "        vertical-align: middle;\n",
       "    }\n",
       "\n",
       "    .dataframe tbody tr th {\n",
       "        vertical-align: top;\n",
       "    }\n",
       "\n",
       "    .dataframe thead th {\n",
       "        text-align: right;\n",
       "    }\n",
       "</style>\n",
       "<table border=\"1\" class=\"dataframe\">\n",
       "  <thead>\n",
       "    <tr style=\"text-align: right;\">\n",
       "      <th></th>\n",
       "      <th>age</th>\n",
       "      <th>balance</th>\n",
       "      <th>day</th>\n",
       "      <th>duration</th>\n",
       "      <th>campaign</th>\n",
       "      <th>pdays</th>\n",
       "      <th>previous</th>\n",
       "    </tr>\n",
       "  </thead>\n",
       "  <tbody>\n",
       "    <tr>\n",
       "      <th>count</th>\n",
       "      <td>45211.000000</td>\n",
       "      <td>45211.000000</td>\n",
       "      <td>45211.000000</td>\n",
       "      <td>45211.000000</td>\n",
       "      <td>45211.000000</td>\n",
       "      <td>45211.000000</td>\n",
       "      <td>45211.000000</td>\n",
       "    </tr>\n",
       "    <tr>\n",
       "      <th>mean</th>\n",
       "      <td>40.936210</td>\n",
       "      <td>5.199427</td>\n",
       "      <td>15.806419</td>\n",
       "      <td>5.167016</td>\n",
       "      <td>0.963267</td>\n",
       "      <td>0.389388</td>\n",
       "      <td>-0.373537</td>\n",
       "    </tr>\n",
       "    <tr>\n",
       "      <th>std</th>\n",
       "      <td>10.618762</td>\n",
       "      <td>3.007085</td>\n",
       "      <td>8.322476</td>\n",
       "      <td>0.927908</td>\n",
       "      <td>0.590519</td>\n",
       "      <td>2.311494</td>\n",
       "      <td>0.727591</td>\n",
       "    </tr>\n",
       "    <tr>\n",
       "      <th>min</th>\n",
       "      <td>18.000000</td>\n",
       "      <td>-0.693147</td>\n",
       "      <td>1.000000</td>\n",
       "      <td>-0.693147</td>\n",
       "      <td>0.405465</td>\n",
       "      <td>-0.693147</td>\n",
       "      <td>-0.693147</td>\n",
       "    </tr>\n",
       "    <tr>\n",
       "      <th>25%</th>\n",
       "      <td>33.000000</td>\n",
       "      <td>4.283587</td>\n",
       "      <td>8.000000</td>\n",
       "      <td>4.639572</td>\n",
       "      <td>0.405465</td>\n",
       "      <td>-0.693147</td>\n",
       "      <td>-0.693147</td>\n",
       "    </tr>\n",
       "    <tr>\n",
       "      <th>50%</th>\n",
       "      <td>39.000000</td>\n",
       "      <td>6.105909</td>\n",
       "      <td>16.000000</td>\n",
       "      <td>5.195731</td>\n",
       "      <td>0.916291</td>\n",
       "      <td>-0.693147</td>\n",
       "      <td>-0.693147</td>\n",
       "    </tr>\n",
       "    <tr>\n",
       "      <th>75%</th>\n",
       "      <td>48.000000</td>\n",
       "      <td>7.264380</td>\n",
       "      <td>21.000000</td>\n",
       "      <td>5.766757</td>\n",
       "      <td>1.252763</td>\n",
       "      <td>-0.693147</td>\n",
       "      <td>-0.693147</td>\n",
       "    </tr>\n",
       "    <tr>\n",
       "      <th>max</th>\n",
       "      <td>95.000000</td>\n",
       "      <td>11.533977</td>\n",
       "      <td>31.000000</td>\n",
       "      <td>8.500759</td>\n",
       "      <td>4.151040</td>\n",
       "      <td>6.770216</td>\n",
       "      <td>5.618588</td>\n",
       "    </tr>\n",
       "  </tbody>\n",
       "</table>\n",
       "</div>"
      ],
      "text/plain": [
       "                age       balance           day      duration      campaign  \\\n",
       "count  45211.000000  45211.000000  45211.000000  45211.000000  45211.000000   \n",
       "mean      40.936210      5.199427     15.806419      5.167016      0.963267   \n",
       "std       10.618762      3.007085      8.322476      0.927908      0.590519   \n",
       "min       18.000000     -0.693147      1.000000     -0.693147      0.405465   \n",
       "25%       33.000000      4.283587      8.000000      4.639572      0.405465   \n",
       "50%       39.000000      6.105909     16.000000      5.195731      0.916291   \n",
       "75%       48.000000      7.264380     21.000000      5.766757      1.252763   \n",
       "max       95.000000     11.533977     31.000000      8.500759      4.151040   \n",
       "\n",
       "              pdays      previous  \n",
       "count  45211.000000  45211.000000  \n",
       "mean       0.389388     -0.373537  \n",
       "std        2.311494      0.727591  \n",
       "min       -0.693147     -0.693147  \n",
       "25%       -0.693147     -0.693147  \n",
       "50%       -0.693147     -0.693147  \n",
       "75%       -0.693147     -0.693147  \n",
       "max        6.770216      5.618588  "
      ]
     },
     "execution_count": 140,
     "metadata": {},
     "output_type": "execute_result"
    }
   ],
   "source": [
    "df.describe()"
   ]
  },
  {
   "cell_type": "markdown",
   "id": "1e171596-2696-4bf2-9990-cc73714b70e4",
   "metadata": {},
   "source": [
    "Terlihat dari `df.describe()` bahwa data sudah berdistribusi normal"
   ]
  },
  {
   "cell_type": "code",
   "execution_count": 141,
   "id": "69478505-6f8f-40ab-8a27-999237747915",
   "metadata": {},
   "outputs": [
    {
     "name": "stdout",
     "output_type": "stream",
     "text": [
      "Before removing outlier:  45211\n",
      "After removing outlier:  43173\n"
     ]
    }
   ],
   "source": [
    "from scipy import stats\n",
    "\n",
    "print(\"Before removing outlier: \", len(df))\n",
    "\n",
    "for i in nums:\n",
    "    if i not in ['age', 'day']:\n",
    "        z_scores = np.abs(stats.zscore(df[i]))\n",
    "        df = df[z_scores <= 3]\n",
    "\n",
    "print(\"After removing outlier: \", len(df))"
   ]
  },
  {
   "cell_type": "markdown",
   "id": "b625e7b6-4c41-4b54-8dfe-c8122a6b0549",
   "metadata": {},
   "source": [
    "Setelah removing outlier dengan zscore terdapat 2.038 data yang di remove"
   ]
  },
  {
   "cell_type": "markdown",
   "id": "06a13864-085e-4780-9867-fd9b3546a271",
   "metadata": {},
   "source": [
    "### Normalization Transformation"
   ]
  },
  {
   "cell_type": "markdown",
   "id": "ace34880-6389-4465-963e-d03adce1b379",
   "metadata": {},
   "source": [
    "Seebelum dilakukan scalling dengan normalization, data perlu di split terlebih dahulu, menjadi train dan test"
   ]
  },
  {
   "cell_type": "code",
   "execution_count": 142,
   "id": "3dc43212-264d-4877-ad16-1b5225b47342",
   "metadata": {},
   "outputs": [],
   "source": [
    "X = df.drop(columns=['y'])\n",
    "y = df[['y']]\n",
    "\n",
    "from sklearn.model_selection import train_test_split\n",
    "\n",
    "X_train, X_test, y_train, y_test = train_test_split(X, y, test_size=0.3)"
   ]
  },
  {
   "cell_type": "code",
   "execution_count": 143,
   "id": "66a3d028-2a54-442c-84ce-32ac7e662e6c",
   "metadata": {},
   "outputs": [],
   "source": [
    "from sklearn.preprocessing import MinMaxScaler\n",
    "\n",
    "scaler = MinMaxScaler()\n",
    "for i in list(X_train.select_dtypes(include = ['int64', 'float64']).columns):\n",
    "    fitted = scaler.fit(X_train[[i]])\n",
    "    X_train[i] = fitted.transform(X_train[[i]])\n",
    "    X_test[i] = fitted.transform(X_test[[i]])"
   ]
  },
  {
   "cell_type": "code",
   "execution_count": 144,
   "id": "e73e9511-e3d6-404a-8451-7ce13407a9fb",
   "metadata": {},
   "outputs": [],
   "source": [
    "train = pd.concat([X_train, y_train], axis = 1)\n",
    "test = pd.concat([X_test, y_test], axis = 1)\n",
    "\n",
    "train = train[train['education'] != 'unknown']\n",
    "test = test[test['education'] != 'unknown']\n",
    "\n",
    "X_train = train.drop(columns=['y'])\n",
    "y_train = train[['y']]\n",
    "\n",
    "X_test = test.drop(columns=['y'])\n",
    "y_test = test[['y']]"
   ]
  },
  {
   "cell_type": "markdown",
   "id": "59929d6c-ac1f-4c71-8d55-9531eaa3e1c9",
   "metadata": {},
   "source": [
    "### Lable Encoding & One Hot Encoding"
   ]
  },
  {
   "cell_type": "markdown",
   "id": "b4c8833d-efd8-491a-8ae3-9272b9d04c4b",
   "metadata": {},
   "source": [
    "Fitur-fitur kategorikal perlu di-encode menjadi representasi numerik agar dapat digunakan dalam model. dengan label encoding pada kolom `education`, `default`, `housing`, `loan` dan `month`. untuk kolom month di jadikan 4 kuartal menjadi 'month quarter'\n",
    "dan one hot encoding untuk kolom `job` dan `month quarter`"
   ]
  },
  {
   "cell_type": "code",
   "execution_count": 145,
   "id": "b1636260-6654-4a9f-ba15-7a1576a0f1f5",
   "metadata": {},
   "outputs": [],
   "source": [
    "#drop marital and contact columns\n",
    "X_train.drop(['marital'], axis=1, inplace=True)\n",
    "X_test.drop(['marital'], axis=1, inplace=True)\n",
    "X_train.drop(['contact'], axis=1, inplace=True)\n",
    "X_test.drop(['contact'], axis=1, inplace=True)\n"
   ]
  },
  {
   "cell_type": "code",
   "execution_count": 146,
   "id": "1e99fe63-bfb1-45b0-b5f9-ad94ee6baee2",
   "metadata": {},
   "outputs": [],
   "source": [
    "X_train['education_mapped'] = X_train['education'].map({'primary' : 0,\n",
    "                                                        'secondary' : 1,\n",
    "                                                        'tertiary' : 2})\n",
    "\n",
    "X_test['education_mapped'] = X_test['education'].map({'primary' : 0,\n",
    "                                                      'secondary' : 1,\n",
    "                                                      'tertiary' : 2})\n",
    "\n",
    "X_train['is_default'] = X_train['default'].map({'no' : 0,\n",
    "                                                'yes' : 1})\n",
    "\n",
    "X_test['is_default'] = X_test['default'].map({'no' : 0,\n",
    "                                              'yes' : 1})\n",
    "\n",
    "X_train['is_housing'] = X_train['housing'].map({'no' : 0,\n",
    "                                                'yes' : 1})\n",
    "\n",
    "X_test['is_housing'] = X_test['housing'].map({'no' : 0,\n",
    "                                              'yes' : 1})\n",
    "\n",
    "X_train['is_loan'] = X_train['loan'].map({'no' : 0,\n",
    "                                          'yes' : 1})\n",
    "\n",
    "X_test['is_loan'] = X_test['loan'].map({'no' : 0,\n",
    "                                        'yes' : 1})\n",
    "\n",
    "X_train['month_quarter'] = X_train['month'].apply(lambda x : 'first' if x in ['jan', 'feb', 'mar'] else 'second'\\\n",
    "                                                                     if x in ['apr', 'may', 'jun'] else 'third'\\\n",
    "                                                                     if x in ['jul', 'aug', 'sep'] else 'fourth')\n",
    "\n",
    "X_test['month_quarter'] = X_test['month'].apply(lambda x : 'first' if x in ['jan', 'feb', 'mar'] else 'second'\\\n",
    "                                                                   if x in ['apr', 'may', 'jun'] else 'third'\\\n",
    "                                                                   if x in ['jul', 'aug', 'sep'] else 'fourth')\n",
    "\n",
    "X_train['is_poutcome_succcess'] = X_train['poutcome'].apply(lambda x : 1 if x == 'success' else 0)\n",
    "\n",
    "X_test['is_poutcome_succcess'] = X_test['poutcome'].apply(lambda x : 1 if x == 'success' else 0)\n",
    "\n",
    "y_train['y'] = y_train['y'].map({'no' : 0,\n",
    "                                 'yes' : 1})\n",
    "\n",
    "y_test['y'] = y_test['y'].map({'no' : 0,\n",
    "                               'yes' : 1})"
   ]
  },
  {
   "cell_type": "code",
   "execution_count": 147,
   "id": "f64753d3-d0ab-4080-a83f-59c89483e82e",
   "metadata": {},
   "outputs": [],
   "source": [
    "for i in ['job', 'month_quarter']:\n",
    "    X_train = pd.concat([X_train, pd.get_dummies(X_train[i], prefix = i)], axis = 1)\n",
    "    X_test = pd.concat([X_test, pd.get_dummies(X_test[i], prefix = i)], axis = 1)"
   ]
  },
  {
   "cell_type": "code",
   "execution_count": 148,
   "id": "693adc7b-e1cb-496b-b28a-e92572349115",
   "metadata": {},
   "outputs": [],
   "source": [
    "X_train = X_train.drop(columns = list(X_train.select_dtypes(include = ['object']).columns) + ['job_unknown'] )\n",
    "X_test = X_test.drop(columns = list(X_test.select_dtypes(include = ['object']).columns) + ['job_unknown'])"
   ]
  },
  {
   "cell_type": "code",
   "execution_count": 149,
   "id": "a3372295-5a23-4a20-b479-fbdf091fa537",
   "metadata": {},
   "outputs": [
    {
     "name": "stdout",
     "output_type": "stream",
     "text": [
      "<class 'pandas.core.frame.DataFrame'>\n",
      "Int64Index: 28968 entries, 25386 to 3566\n",
      "Data columns (total 27 columns):\n",
      " #   Column                Non-Null Count  Dtype  \n",
      "---  ------                --------------  -----  \n",
      " 0   age                   28968 non-null  float64\n",
      " 1   balance               28968 non-null  float64\n",
      " 2   day                   28968 non-null  float64\n",
      " 3   duration              28968 non-null  float64\n",
      " 4   campaign              28968 non-null  float64\n",
      " 5   pdays                 28968 non-null  float64\n",
      " 6   previous              28968 non-null  float64\n",
      " 7   education_mapped      28968 non-null  int64  \n",
      " 8   is_default            28968 non-null  int64  \n",
      " 9   is_housing            28968 non-null  int64  \n",
      " 10  is_loan               28968 non-null  int64  \n",
      " 11  is_poutcome_succcess  28968 non-null  int64  \n",
      " 12  job_admin.            28968 non-null  uint8  \n",
      " 13  job_blue-collar       28968 non-null  uint8  \n",
      " 14  job_entrepreneur      28968 non-null  uint8  \n",
      " 15  job_housemaid         28968 non-null  uint8  \n",
      " 16  job_management        28968 non-null  uint8  \n",
      " 17  job_retired           28968 non-null  uint8  \n",
      " 18  job_self-employed     28968 non-null  uint8  \n",
      " 19  job_services          28968 non-null  uint8  \n",
      " 20  job_student           28968 non-null  uint8  \n",
      " 21  job_technician        28968 non-null  uint8  \n",
      " 22  job_unemployed        28968 non-null  uint8  \n",
      " 23  month_quarter_first   28968 non-null  uint8  \n",
      " 24  month_quarter_fourth  28968 non-null  uint8  \n",
      " 25  month_quarter_second  28968 non-null  uint8  \n",
      " 26  month_quarter_third   28968 non-null  uint8  \n",
      "dtypes: float64(7), int64(5), uint8(15)\n",
      "memory usage: 3.3 MB\n"
     ]
    }
   ],
   "source": [
    "X_train.info()"
   ]
  },
  {
   "cell_type": "markdown",
   "id": "1e5ea9e8-ae4c-4ebd-a07b-aef1996c49ff",
   "metadata": {},
   "source": [
    "### Class Imbalance"
   ]
  },
  {
   "cell_type": "code",
   "execution_count": 150,
   "id": "d64f6fd5-64c8-4122-a3b1-1aa64c066551",
   "metadata": {},
   "outputs": [],
   "source": [
    "from imblearn import over_sampling\n",
    "\n",
    "X_train_over, y_train_over = over_sampling.SMOTE(random_state = 14).fit_resample(X_train, y_train)"
   ]
  },
  {
   "cell_type": "code",
   "execution_count": 151,
   "id": "e7a1d49f-a752-4b31-9dd8-c499941b3513",
   "metadata": {},
   "outputs": [
    {
     "data": {
      "text/plain": [
       "(51230, 51230, 28968, 28968, 12433, 12433)"
      ]
     },
     "execution_count": 151,
     "metadata": {},
     "output_type": "execute_result"
    }
   ],
   "source": [
    "len(X_train_over), len(y_train_over), len(X_train), len(y_train), len(X_test), len(y_test)"
   ]
  },
  {
   "cell_type": "code",
   "execution_count": 152,
   "id": "7c9c1af9-6d36-4e2d-97e8-e718d82082ce",
   "metadata": {},
   "outputs": [],
   "source": [
    "from sklearn.metrics import accuracy_score, precision_score, recall_score, f1_score, roc_auc_score\n",
    "from sklearn.linear_model import LogisticRegression\n",
    "from sklearn.neighbors import KNeighborsClassifier\n",
    "from sklearn.tree import DecisionTreeClassifier\n",
    "from sklearn.ensemble import RandomForestClassifier\n",
    "\n",
    "\n",
    "\n",
    "def eval_classification():\n",
    "    \n",
    "    list_model = {'Logistic Regression' : LogisticRegression(random_state = 14),\n",
    "                  'KNN Classifier' : KNeighborsClassifier(),\n",
    "                  'Decision Tree Classifier' : DecisionTreeClassifier(random_state = 14),\n",
    "                  'Random Forest Classifier' : RandomForestClassifier(random_state = 14)}\n",
    "                  \n",
    "    \n",
    "    for key, val in list_model.items():\n",
    "        model = val\n",
    "        model.fit(X_train_over, y_train_over)\n",
    "    \n",
    "        y_pred = model.predict(X_test)\n",
    "        y_pred_train = model.predict(X_train)\n",
    "        y_pred_proba = model.predict_proba(X_test)\n",
    "        y_pred_proba_train = model.predict_proba(X_train)\n",
    "\n",
    "        print(key, \"Evaluation Result\")\n",
    "        print(\"Accuracy (Train Set): %.2f\" % accuracy_score(y_train, y_pred_train))\n",
    "        print(\"Accuracy (Test Set): %.2f\" % accuracy_score(y_test, y_pred))\n",
    "        print(\"Precision (Train Set): %.2f\" % precision_score(y_train, y_pred_train))\n",
    "        print(\"Precision (Test Set): %.2f\" % precision_score(y_test, y_pred))\n",
    "        print(\"Recall (Train Set): %.2f\" % recall_score(y_train, y_pred_train))\n",
    "        print(\"Recall (Test Set): %.2f\" % recall_score(y_test, y_pred))\n",
    "        print(\"F1-Score (Train Set): %.2f\" % f1_score(y_train, y_pred_train))\n",
    "        print(\"F1-Score (Test Set): %.2f\" % f1_score(y_test, y_pred))\n",
    "        print(\"\")"
   ]
  },
  {
   "cell_type": "code",
   "execution_count": 153,
   "id": "ee5dcf6c-35cd-4a0a-b67b-3ed07c3ae9af",
   "metadata": {},
   "outputs": [
    {
     "name": "stdout",
     "output_type": "stream",
     "text": [
      "Logistic Regression Evaluation Result\n",
      "Accuracy (Train Set): 0.81\n",
      "Accuracy (Test Set): 0.81\n",
      "Precision (Train Set): 0.35\n",
      "Precision (Test Set): 0.35\n",
      "Recall (Train Set): 0.81\n",
      "Recall (Test Set): 0.82\n",
      "F1-Score (Train Set): 0.49\n",
      "F1-Score (Test Set): 0.49\n",
      "\n",
      "KNN Classifier Evaluation Result\n",
      "Accuracy (Train Set): 0.88\n",
      "Accuracy (Test Set): 0.80\n",
      "Precision (Train Set): 0.48\n",
      "Precision (Test Set): 0.31\n",
      "Recall (Train Set): 0.97\n",
      "Recall (Test Set): 0.64\n",
      "F1-Score (Train Set): 0.64\n",
      "F1-Score (Test Set): 0.41\n",
      "\n",
      "Decision Tree Classifier Evaluation Result\n",
      "Accuracy (Train Set): 1.00\n",
      "Accuracy (Test Set): 0.84\n",
      "Precision (Train Set): 1.00\n",
      "Precision (Test Set): 0.36\n",
      "Recall (Train Set): 1.00\n",
      "Recall (Test Set): 0.55\n",
      "F1-Score (Train Set): 1.00\n",
      "F1-Score (Test Set): 0.43\n",
      "\n",
      "Random Forest Classifier Evaluation Result\n",
      "Accuracy (Train Set): 1.00\n",
      "Accuracy (Test Set): 0.88\n",
      "Precision (Train Set): 1.00\n",
      "Precision (Test Set): 0.48\n",
      "Recall (Train Set): 1.00\n",
      "Recall (Test Set): 0.65\n",
      "F1-Score (Train Set): 1.00\n",
      "F1-Score (Test Set): 0.55\n",
      "\n"
     ]
    }
   ],
   "source": [
    "eval_classification()"
   ]
  },
  {
   "cell_type": "code",
   "execution_count": 154,
   "id": "62d46441-2e75-4b6e-b02c-c40002f66aef",
   "metadata": {},
   "outputs": [
    {
     "name": "stdout",
     "output_type": "stream",
     "text": [
      "Best Parameter: {'C': 0.1, 'penalty': 'l2'}\n",
      "Best Score: 0.85\n",
      "\n",
      "Tuned Logistic Regression\n",
      "Accuracy (Train Set): 0.80\n",
      "Accuracy (Test Set): 0.81\n",
      "Precision (Train Set): 0.35\n",
      "Precision (Test Set): 0.35\n",
      "Recall (Train Set): 0.81\n",
      "Recall (Test Set): 0.82\n",
      "F1-Score (Train Set): 0.49\n",
      "F1-Score (Test Set): 0.49\n"
     ]
    }
   ],
   "source": [
    "from sklearn.model_selection import GridSearchCV\n",
    "\n",
    "params = {\"penalty\": ['l1', 'l2'],\n",
    "          \"C\":[0.001,0.01,0.1,1,10,100]}\n",
    "\n",
    "model = GridSearchCV(LogisticRegression(random_state = 14), \n",
    "                   param_grid = params, \n",
    "                   cv = 10, \n",
    "                   scoring = 'recall')\n",
    "\n",
    "model.fit(X_train_over, y_train_over)\n",
    "y_pred = model.predict(X_test)\n",
    "y_pred_train = model.predict(X_train)\n",
    "y_pred_proba = model.predict_proba(X_test)\n",
    "y_pred_proba_train = model.predict_proba(X_train)\n",
    "\n",
    "print(f'Best Parameter: {model.best_params_}')\n",
    "print(\"Best Score: %.2f\" % model.best_score_)\n",
    "print('')\n",
    "\n",
    "print(\"Tuned Logistic Regression\")\n",
    "print(\"Accuracy (Train Set): %.2f\" % accuracy_score(y_train, y_pred_train))\n",
    "print(\"Accuracy (Test Set): %.2f\" % accuracy_score(y_test, y_pred))\n",
    "print(\"Precision (Train Set): %.2f\" % precision_score(y_train, y_pred_train))\n",
    "print(\"Precision (Test Set): %.2f\" % precision_score(y_test, y_pred))\n",
    "print(\"Recall (Train Set): %.2f\" % recall_score(y_train, y_pred_train))\n",
    "print(\"Recall (Test Set): %.2f\" % recall_score(y_test, y_pred))\n",
    "print(\"F1-Score (Train Set): %.2f\" % f1_score(y_train, y_pred_train))\n",
    "print(\"F1-Score (Test Set): %.2f\" % f1_score(y_test, y_pred))"
   ]
  },
  {
   "cell_type": "code",
   "execution_count": 155,
   "id": "d09c06b9-fbef-4188-9f29-8a9d1d93ea3e",
   "metadata": {},
   "outputs": [
    {
     "name": "stdout",
     "output_type": "stream",
     "text": [
      "Best Parameter: {'C': 0.1, 'penalty': 'l2'}\n",
      "Best Score: 0.85\n",
      "\n",
      "Tuned Logistic Regression\n",
      "Accuracy (Train Set): 0.80\n",
      "Accuracy (Test Set): 0.81\n",
      "Precision (Train Set): 0.35\n",
      "Precision (Test Set): 0.35\n",
      "Recall (Train Set): 0.81\n",
      "Recall (Test Set): 0.82\n",
      "F1-Score (Train Set): 0.49\n",
      "F1-Score (Test Set): 0.49\n"
     ]
    }
   ],
   "source": [
    "from sklearn.model_selection import GridSearchCV\n",
    "\n",
    "params = {\"penalty\": ['l1', 'l2'],\n",
    "          \"C\": [0.001, 0.01, 0.1, 1, 10, 100]}\n",
    "\n",
    "best_params = {'C': 0.1, 'penalty': 'l2'}\n",
    "\n",
    "params[\"C\"] = [best_params[\"C\"]]  \n",
    "params[\"penalty\"] = [best_params[\"penalty\"]]\n",
    "\n",
    "model = GridSearchCV(LogisticRegression(random_state = 14), \n",
    "                   param_grid = params, \n",
    "                   cv = 10, \n",
    "                   scoring = 'recall')\n",
    "\n",
    "model.fit(X_train_over, y_train_over)\n",
    "y_pred = model.predict(X_test)\n",
    "y_pred_train = model.predict(X_train)\n",
    "y_pred_proba = model.predict_proba(X_test)\n",
    "y_pred_proba_train = model.predict_proba(X_train)\n",
    "\n",
    "print(f'Best Parameter: {model.best_params_}')\n",
    "print(\"Best Score: %.2f\" % model.best_score_)\n",
    "print('')\n",
    "\n",
    "print(\"Tuned Logistic Regression\")\n",
    "print(\"Accuracy (Train Set): %.2f\" % accuracy_score(y_train, y_pred_train))\n",
    "print(\"Accuracy (Test Set): %.2f\" % accuracy_score(y_test, y_pred))\n",
    "print(\"Precision (Train Set): %.2f\" % precision_score(y_train, y_pred_train))\n",
    "print(\"Precision (Test Set): %.2f\" % precision_score(y_test, y_pred))\n",
    "print(\"Recall (Train Set): %.2f\" % recall_score(y_train, y_pred_train))\n",
    "print(\"Recall (Test Set): %.2f\" % recall_score(y_test, y_pred))\n",
    "print(\"F1-Score (Train Set): %.2f\" % f1_score(y_train, y_pred_train))\n",
    "print(\"F1-Score (Test Set): %.2f\" % f1_score(y_test, y_pred))"
   ]
  },
  {
   "cell_type": "code",
   "execution_count": 156,
   "id": "a9cd4f03-f798-48cc-8e4c-707c6980a3be",
   "metadata": {},
   "outputs": [
    {
     "data": {
      "text/plain": [
       "Text(1.9722222222222232, 0.5, 'Actual')"
      ]
     },
     "execution_count": 156,
     "metadata": {},
     "output_type": "execute_result"
    },
    {
     "data": {
      "image/png": "[encoded data removed]",
      "text/plain": [
       "<Figure size 250x200 with 2 Axes>"
      ]
     },
     "metadata": {},
     "output_type": "display_data"
    }
   ],
   "source": [
    "from sklearn.metrics import confusion_matrix\n",
    "\n",
    "fig = plt.figure(figsize = (2.5,2))\n",
    "sns.heatmap((confusion_matrix(y_test, y_pred)), annot = True, fmt = '.0f', ax = fig.add_subplot(1,1, 1))\n",
    "plt.title(f'Confusion matrix\\ntest set of {len(y_test)}')\n",
    "plt.xlabel('Predicted')\n",
    "plt.ylabel('Actual')\n"
   ]
  },
  {
   "cell_type": "code",
   "execution_count": null,
   "id": "60db1f07-6d5b-4376-bb53-afad4dad85ba",
   "metadata": {},
   "outputs": [],
   "source": []
  }
 ],
 "metadata": {
  "kernelspec": {
   "display_name": "Python 3 (ipykernel)",
   "language": "python",
   "name": "python3"
  },
  "language_info": {
   "codemirror_mode": {
    "name": "ipython",
    "version": 3
   },
   "file_extension": ".py",
   "mimetype": "text/x-python",
   "name": "python",
   "nbconvert_exporter": "python",
   "pygments_lexer": "ipython3",
   "version": "3.10.9"
  }
 },
 "nbformat": 4,
 "nbformat_minor": 5
}
